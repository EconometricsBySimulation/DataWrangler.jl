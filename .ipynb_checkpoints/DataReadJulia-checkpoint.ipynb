{
 "cells": [
  {
   "cell_type": "code",
   "execution_count": 5,
   "id": "deluxe-archives",
   "metadata": {},
   "outputs": [
    {
     "name": "stderr",
     "output_type": "stream",
     "text": [
      "\u001b[32m\u001b[1m  Activating\u001b[22m\u001b[39m environment at `E:\\PP\\git\\DataWrangler.jl\\Project.toml`\n"
     ]
    }
   ],
   "source": [
    "using Pkg\n",
    "Pkg.activate(\".\")\n",
    "Pk"
   ]
  },
  {
   "cell_type": "code",
   "execution_count": 6,
   "id": "monthly-adrian",
   "metadata": {},
   "outputs": [
    {
     "ename": "LoadError",
     "evalue": "ArgumentError: Package CSV not found in current path:\n- Run `import Pkg; Pkg.add(\"CSV\")` to install the CSV package.\n",
     "output_type": "error",
     "traceback": [
      "ArgumentError: Package CSV not found in current path:\n- Run `import Pkg; Pkg.add(\"CSV\")` to install the CSV package.\n",
      "",
      "Stacktrace:",
      " [1] require(into::Module, mod::Symbol)",
      "   @ Base .\\loading.jl:871",
      " [2] eval",
      "   @ .\\boot.jl:360 [inlined]",
      " [3] include_string(mapexpr::typeof(REPL.softscope), mod::Module, code::String, filename::String)",
      "   @ Base .\\loading.jl:1094"
     ]
    }
   ],
   "source": [
    "using  DataFrames, CSV, Pipe, Dates, StatsBase, DataStructures, FreqTables, DataFramesMeta\n",
    "import DataFrames: groupby"
   ]
  },
  {
   "cell_type": "markdown",
   "id": "super-grace",
   "metadata": {},
   "source": [
    "### Load in our Data"
   ]
  },
  {
   "cell_type": "code",
   "execution_count": 3,
   "id": "competent-blocking",
   "metadata": {},
   "outputs": [
    {
     "ename": "LoadError",
     "evalue": "UndefVarError: CSV not defined",
     "output_type": "error",
     "traceback": [
      "UndefVarError: CSV not defined",
      "",
      "Stacktrace:",
      " [1] top-level scope",
      "   @ In[3]:1",
      " [2] eval",
      "   @ .\\boot.jl:360 [inlined]",
      " [3] include_string(mapexpr::typeof(REPL.softscope), mod::Module, code::String, filename::String)",
      "   @ Base .\\loading.jl:1094"
     ]
    }
   ],
   "source": [
    "slave = CSV.read(\"data/Slave/Slave.csv\", DataFrame)[:,3:end]\n",
    "\n",
    "# Lets make the names lowercase for better readability\n",
    "rename!(slave, lowercase.(names(slave)))\n",
    "\n",
    "first(slave, 5)"
   ]
  },
  {
   "cell_type": "markdown",
   "id": "other-latter",
   "metadata": {},
   "source": [
    "Make some type changes to data set."
   ]
  },
  {
   "cell_type": "code",
   "execution_count": 4,
   "id": "fourth-champagne",
   "metadata": {},
   "outputs": [
    {
     "ename": "LoadError",
     "evalue": "UndefVarError: slave not defined",
     "output_type": "error",
     "traceback": [
      "UndefVarError: slave not defined",
      "",
      "Stacktrace:",
      " [1] top-level scope",
      "   @ In[4]:1",
      " [2] eval",
      "   @ .\\boot.jl:360 [inlined]",
      " [3] include_string(mapexpr::typeof(REPL.softscope), mod::Module, code::String, filename::String)",
      "   @ Base .\\loading.jl:1094"
     ]
    }
   ],
   "source": [
    "slave.year = Int(slave.year)"
   ]
  },
  {
   "cell_type": "markdown",
   "id": "chicken-tucson",
   "metadata": {},
   "source": [
    "Sale prices are listed in different currencies: \n",
    "\n",
    "| Currency of inventory inventory or sale value.| Equivalencies |\n",
    "| ---                                           | :---          |\n",
    "| p = piastre                                   | = 1 p         |\n",
    "| s = peso                                      | = 1 p         |\n",
    "| g = piastre gourde                            | = 1.75 p      |\n",
    "| f = peso fuerte                               | = 1.75 p      |\n",
    "| l = livre                                     | = 0.2 p       |\n",
    "| t = livre tournois                            |  ?            |\n",
    "| i = pound (livre) of indigo                   | = 1 p         |\n",
    "| d = U.S. dollar                               | = 1 p         |\n",
    "| z = unidentified                              |  ?            |"
   ]
  },
  {
   "cell_type": "code",
   "execution_count": 88,
   "id": "leading-browser",
   "metadata": {},
   "outputs": [
    {
     "name": "stderr",
     "output_type": "stream",
     "text": [
      "┌ Warning: `setproperty!(df::DataFrame, col_ind::Symbol, v)` is deprecated, use `df[!, col_ind] .= v` instead.\n",
      "│   caller = top-level scope at In[88]:1\n",
      "└ @ Core In[88]:1\n"
     ]
    },
    {
     "data": {
      "text/plain": [
       "0"
      ]
     },
     "execution_count": 88,
     "metadata": {},
     "output_type": "execute_result"
    }
   ],
   "source": [
    "slave.test = 0"
   ]
  },
  {
   "cell_type": "code",
   "execution_count": 96,
   "id": "israeli-mayor",
   "metadata": {},
   "outputs": [
    {
     "data": {
      "text/html": [
       "<table class=\"data-frame\"><thead><tr><th></th><th>test</th></tr><tr><th></th><th>Int64</th></tr></thead><tbody><p>84,873 rows × 1 columns</p><tr><th>1</th><td>1</td></tr><tr><th>2</th><td>1</td></tr><tr><th>3</th><td>1</td></tr><tr><th>4</th><td>1</td></tr><tr><th>5</th><td>1</td></tr><tr><th>6</th><td>1</td></tr><tr><th>7</th><td>1</td></tr><tr><th>8</th><td>1</td></tr><tr><th>9</th><td>1</td></tr><tr><th>10</th><td>1</td></tr><tr><th>11</th><td>1</td></tr><tr><th>12</th><td>1</td></tr><tr><th>13</th><td>1</td></tr><tr><th>14</th><td>1</td></tr><tr><th>15</th><td>1</td></tr><tr><th>16</th><td>1</td></tr><tr><th>17</th><td>1</td></tr><tr><th>18</th><td>1</td></tr><tr><th>19</th><td>1</td></tr><tr><th>20</th><td>1</td></tr><tr><th>&vellip;</th><td>&vellip;</td></tr></tbody></table>"
      ],
      "text/latex": [
       "\\begin{tabular}{r|c}\n",
       "\t& test\\\\\n",
       "\t\\hline\n",
       "\t& Int64\\\\\n",
       "\t\\hline\n",
       "\t1 & 1 \\\\\n",
       "\t2 & 1 \\\\\n",
       "\t3 & 1 \\\\\n",
       "\t4 & 1 \\\\\n",
       "\t5 & 1 \\\\\n",
       "\t6 & 1 \\\\\n",
       "\t7 & 1 \\\\\n",
       "\t8 & 1 \\\\\n",
       "\t9 & 1 \\\\\n",
       "\t10 & 1 \\\\\n",
       "\t11 & 1 \\\\\n",
       "\t12 & 1 \\\\\n",
       "\t13 & 1 \\\\\n",
       "\t14 & 1 \\\\\n",
       "\t15 & 1 \\\\\n",
       "\t16 & 1 \\\\\n",
       "\t17 & 1 \\\\\n",
       "\t18 & 1 \\\\\n",
       "\t19 & 1 \\\\\n",
       "\t20 & 1 \\\\\n",
       "\t$\\dots$ & $\\dots$ \\\\\n",
       "\\end{tabular}\n"
      ],
      "text/plain": [
       "84873×1 DataFrame\n",
       "│ Row   │ test  │\n",
       "│       │ \u001b[90mInt64\u001b[39m │\n",
       "├───────┼───────┤\n",
       "│ 1     │ 1     │\n",
       "│ 2     │ 1     │\n",
       "│ 3     │ 1     │\n",
       "│ 4     │ 1     │\n",
       "│ 5     │ 1     │\n",
       "⋮\n",
       "│ 84868 │ 1     │\n",
       "│ 84869 │ 1     │\n",
       "│ 84870 │ 1     │\n",
       "│ 84871 │ 1     │\n",
       "│ 84872 │ 1     │\n",
       "│ 84873 │ 1     │"
      ]
     },
     "execution_count": 96,
     "metadata": {},
     "output_type": "execute_result"
    }
   ],
   "source": []
  },
  {
   "cell_type": "code",
   "execution_count": 40,
   "id": "immune-magazine",
   "metadata": {},
   "outputs": [
    {
     "data": {
      "text/html": [
       "<table class=\"data-frame\"><thead><tr><th></th><th>variable</th><th>mean</th><th>min</th><th>median</th><th>max</th><th>nunique</th><th>nmissing</th></tr><tr><th></th><th>Symbol</th><th>Union…</th><th>Any</th><th>Union…</th><th>Any</th><th>Union…</th><th>Union…</th></tr></thead><tbody><p>133 rows × 8 columns (omitted printing of 1 columns)</p><tr><th>1</th><td>docdate</td><td></td><td>1719-06-15</td><td></td><td>1820-12-31</td><td>11292</td><td></td></tr><tr><th>2</th><td>year</td><td>1797.38</td><td>1719</td><td>1808.0</td><td>1820</td><td></td><td></td></tr><tr><th>3</th><td>docno</td><td></td><td>     0</td><td></td><td>p.252</td><td>3298</td><td>9851</td></tr><tr><th>4</th><td>notary</td><td></td><td>0ierre Pedasclaux</td><td></td><td>vol. 22 Henry Hopkin</td><td>438</td><td>34036</td></tr><tr><th>5</th><td>coder</td><td>2.9168</td><td>1.0</td><td>3.0</td><td>9.0</td><td></td><td>22998</td></tr><tr><th>6</th><td>dateinv</td><td></td><td>0791-05-23</td><td></td><td>1995-10-15</td><td>767</td><td>91966</td></tr><tr><th>7</th><td>datesale</td><td></td><td>1404-03-31</td><td></td><td>1999-10-30</td><td>7305</td><td>73671</td></tr><tr><th>8</th><td>depot</td><td>16.9609</td><td>0.0</td><td>0.0</td><td>58.0</td><td></td><td>302</td></tr><tr><th>9</th><td>parish</td><td></td><td> R</td><td></td><td>sm</td><td>70</td><td>3864</td></tr><tr><th>10</th><td>location</td><td>8.54407</td><td>1.0</td><td>3.0</td><td>47.0</td><td></td><td>38</td></tr><tr><th>11</th><td>doctype</td><td>7.73702</td><td>1.0</td><td>7.0</td><td>25.0</td><td></td><td></td></tr><tr><th>12</th><td>revolts</td><td>1.0</td><td>1.0</td><td>1.0</td><td>1.0</td><td></td><td>100354</td></tr><tr><th>13</th><td>maroon</td><td>1.0</td><td>1.0</td><td>1.0</td><td>1.0</td><td></td><td>99596</td></tr><tr><th>14</th><td>language</td><td>1.61196</td><td>1.0</td><td>1.0</td><td>3.0</td><td></td><td></td></tr><tr><th>15</th><td>linguist</td><td>1.0</td><td>1.0</td><td>1.0</td><td>1.0</td><td></td><td>100106</td></tr><tr><th>16</th><td>estfree</td><td>1.0</td><td>1.0</td><td>1.0</td><td>1.0</td><td></td><td>100342</td></tr><tr><th>17</th><td>free</td><td>1.0</td><td>1.0</td><td>1.0</td><td>1.0</td><td></td><td>96326</td></tr><tr><th>18</th><td>estate_o</td><td></td><td>Abadie</td><td></td><td>unknown</td><td>2409</td><td>63390</td></tr><tr><th>19</th><td>firstnam</td><td></td><td>A.</td><td></td><td>wife of Bazile</td><td>1346</td><td>65169</td></tr><tr><th>20</th><td>estate</td><td></td><td>01-S-001-005-1793</td><td></td><td>37-A-001-035-1814</td><td>2873</td><td>65869</td></tr><tr><th>&vellip;</th><td>&vellip;</td><td>&vellip;</td><td>&vellip;</td><td>&vellip;</td><td>&vellip;</td><td>&vellip;</td><td>&vellip;</td></tr></tbody></table>"
      ],
      "text/latex": [
       "\\begin{tabular}{r|cccccccc}\n",
       "\t& variable & mean & min & median & max & nunique & nmissing & \\\\\n",
       "\t\\hline\n",
       "\t& Symbol & Union… & Any & Union… & Any & Union… & Union… & \\\\\n",
       "\t\\hline\n",
       "\t1 & docdate &  & 1719-06-15 &  & 1820-12-31 & 11292 &  & $\\dots$ \\\\\n",
       "\t2 & year & 1797.38 & 1719 & 1808.0 & 1820 &  &  & $\\dots$ \\\\\n",
       "\t3 & docno &  &      0 &  & p.252 & 3298 & 9851 & $\\dots$ \\\\\n",
       "\t4 & notary &  & 0ierre Pedasclaux &  & vol. 22 Henry Hopkin & 438 & 34036 & $\\dots$ \\\\\n",
       "\t5 & coder & 2.9168 & 1.0 & 3.0 & 9.0 &  & 22998 & $\\dots$ \\\\\n",
       "\t6 & dateinv &  & 0791-05-23 &  & 1995-10-15 & 767 & 91966 & $\\dots$ \\\\\n",
       "\t7 & datesale &  & 1404-03-31 &  & 1999-10-30 & 7305 & 73671 & $\\dots$ \\\\\n",
       "\t8 & depot & 16.9609 & 0.0 & 0.0 & 58.0 &  & 302 & $\\dots$ \\\\\n",
       "\t9 & parish &  &  R &  & sm & 70 & 3864 & $\\dots$ \\\\\n",
       "\t10 & location & 8.54407 & 1.0 & 3.0 & 47.0 &  & 38 & $\\dots$ \\\\\n",
       "\t11 & doctype & 7.73702 & 1.0 & 7.0 & 25.0 &  &  & $\\dots$ \\\\\n",
       "\t12 & revolts & 1.0 & 1.0 & 1.0 & 1.0 &  & 100354 & $\\dots$ \\\\\n",
       "\t13 & maroon & 1.0 & 1.0 & 1.0 & 1.0 &  & 99596 & $\\dots$ \\\\\n",
       "\t14 & language & 1.61196 & 1.0 & 1.0 & 3.0 &  &  & $\\dots$ \\\\\n",
       "\t15 & linguist & 1.0 & 1.0 & 1.0 & 1.0 &  & 100106 & $\\dots$ \\\\\n",
       "\t16 & estfree & 1.0 & 1.0 & 1.0 & 1.0 &  & 100342 & $\\dots$ \\\\\n",
       "\t17 & free & 1.0 & 1.0 & 1.0 & 1.0 &  & 96326 & $\\dots$ \\\\\n",
       "\t18 & estate\\_o &  & Abadie &  & unknown & 2409 & 63390 & $\\dots$ \\\\\n",
       "\t19 & firstnam &  & A. &  & wife of Bazile & 1346 & 65169 & $\\dots$ \\\\\n",
       "\t20 & estate &  & 01-S-001-005-1793 &  & 37-A-001-035-1814 & 2873 & 65869 & $\\dots$ \\\\\n",
       "\t$\\dots$ & $\\dots$ & $\\dots$ & $\\dots$ & $\\dots$ & $\\dots$ & $\\dots$ & $\\dots$ &  \\\\\n",
       "\\end{tabular}\n"
      ],
      "text/plain": [
       "133×8 DataFrame. Omitted printing of 4 columns\n",
       "│ Row │ variable │ mean      │ min               │ median │\n",
       "│     │ \u001b[90mSymbol\u001b[39m   │ \u001b[90mUnion…\u001b[39m    │ \u001b[90mAny\u001b[39m               │ \u001b[90mUnion…\u001b[39m │\n",
       "├─────┼──────────┼───────────┼───────────────────┼────────┤\n",
       "│ 1   │ docdate  │           │ 1719-06-15        │        │\n",
       "│ 2   │ year     │ 1797.38   │ 1719              │ 1808.0 │\n",
       "│ 3   │ docno    │           │      0            │        │\n",
       "│ 4   │ notary   │           │ 0ierre Pedasclaux │        │\n",
       "│ 5   │ coder    │ 2.9168    │ 1.0               │ 3.0    │\n",
       "⋮\n",
       "│ 128 │ skillgp3 │ 5.59184   │ 1.0               │ 6.0    │\n",
       "│ 129 │ skillgp4 │ 6.57037   │ 1.0               │ 6.0    │\n",
       "│ 130 │ skillgp5 │ 5.46154   │ 1.0               │ 6.0    │\n",
       "│ 131 │ agegroup │ 5.37004   │ 1.0               │ 5.0    │\n",
       "│ 132 │ agespan  │ 1.78361   │ 1.0               │ 2.0    │\n",
       "│ 133 │ maritime │ 0.0859079 │ 0.0               │ 0.0    │"
      ]
     },
     "execution_count": 40,
     "metadata": {},
     "output_type": "execute_result"
    }
   ],
   "source": [
    "describe(slave)"
   ]
  },
  {
   "cell_type": "code",
   "execution_count": 53,
   "id": "stainless-bulgarian",
   "metadata": {},
   "outputs": [
    {
     "data": {
      "text/html": [
       "<table class=\"data-frame\"><thead><tr><th></th><th>datesale</th><th>salecur</th><th>salevalu</th><th>salevalp</th></tr><tr><th></th><th>Date?</th><th>String?</th><th>Float64?</th><th>Float64?</th></tr></thead><tbody><p>5 rows × 4 columns</p><tr><th>1</th><td>1820-06-20</td><td>D</td><td>2150.0</td><td>2150.0</td></tr><tr><th>2</th><td>1728-12-05</td><td>L</td><td>800.0</td><td>160.0</td></tr><tr><th>3</th><td>1728-12-05</td><td>L</td><td>1200.0</td><td>240.0</td></tr><tr><th>4</th><td>1728-12-05</td><td>L</td><td>1200.0</td><td>240.0</td></tr><tr><th>5</th><td>1728-12-05</td><td>L</td><td>1200.0</td><td>240.0</td></tr></tbody></table>"
      ],
      "text/latex": [
       "\\begin{tabular}{r|cccc}\n",
       "\t& datesale & salecur & salevalu & salevalp\\\\\n",
       "\t\\hline\n",
       "\t& Date? & String? & Float64? & Float64?\\\\\n",
       "\t\\hline\n",
       "\t1 & 1820-06-20 & D & 2150.0 & 2150.0 \\\\\n",
       "\t2 & 1728-12-05 & L & 800.0 & 160.0 \\\\\n",
       "\t3 & 1728-12-05 & L & 1200.0 & 240.0 \\\\\n",
       "\t4 & 1728-12-05 & L & 1200.0 & 240.0 \\\\\n",
       "\t5 & 1728-12-05 & L & 1200.0 & 240.0 \\\\\n",
       "\\end{tabular}\n"
      ],
      "text/plain": [
       "5×4 DataFrame\n",
       "│ Row │ datesale   │ salecur │ salevalu │ salevalp │\n",
       "│     │ \u001b[90mDate?\u001b[39m      │ \u001b[90mString?\u001b[39m │ \u001b[90mFloat64?\u001b[39m │ \u001b[90mFloat64?\u001b[39m │\n",
       "├─────┼────────────┼─────────┼──────────┼──────────┤\n",
       "│ 1   │ 1820-06-20 │ D       │ 2150.0   │ 2150.0   │\n",
       "│ 2   │ 1728-12-05 │ L       │ 800.0    │ 160.0    │\n",
       "│ 3   │ 1728-12-05 │ L       │ 1200.0   │ 240.0    │\n",
       "│ 4   │ 1728-12-05 │ L       │ 1200.0   │ 240.0    │\n",
       "│ 5   │ 1728-12-05 │ L       │ 1200.0   │ 240.0    │"
      ]
     },
     "execution_count": 53,
     "metadata": {},
     "output_type": "execute_result"
    }
   ],
   "source": [
    "@linq slave |> where(.!ismissing.(:datesale)) |> select(r\"sale\") |> first(5)"
   ]
  },
  {
   "cell_type": "code",
   "execution_count": 59,
   "id": "cloudy-finance",
   "metadata": {},
   "outputs": [
    {
     "data": {
      "text/html": [
       "<table class=\"data-frame\"><thead><tr><th></th><th>dateinv</th><th>datesale</th><th>invcur</th><th>invvalue</th><th>invvalp</th><th>salecur</th><th>salevalu</th><th>salevalp</th></tr><tr><th></th><th>Date?</th><th>Date?</th><th>String?</th><th>Float64?</th><th>Float64?</th><th>String?</th><th>Float64?</th><th>Float64?</th></tr></thead><tbody><p>5 rows × 9 columns (omitted printing of 1 columns)</p><tr><th>1</th><td>1820-06-05</td><td>1820-06-20</td><td>D</td><td>500.0</td><td>500.0</td><td>D</td><td>2150.0</td><td>2150.0</td></tr><tr><th>2</th><td><em>missing</em></td><td>1728-12-05</td><td><em>missing</em></td><td><em>missing</em></td><td><em>missing</em></td><td>L</td><td>800.0</td><td>160.0</td></tr><tr><th>3</th><td><em>missing</em></td><td>1728-12-05</td><td><em>missing</em></td><td><em>missing</em></td><td><em>missing</em></td><td>L</td><td>1200.0</td><td>240.0</td></tr><tr><th>4</th><td><em>missing</em></td><td>1728-12-05</td><td><em>missing</em></td><td><em>missing</em></td><td><em>missing</em></td><td>L</td><td>1200.0</td><td>240.0</td></tr><tr><th>5</th><td><em>missing</em></td><td>1728-12-05</td><td><em>missing</em></td><td><em>missing</em></td><td><em>missing</em></td><td>L</td><td>1200.0</td><td>240.0</td></tr></tbody></table>"
      ],
      "text/latex": [
       "\\begin{tabular}{r|ccccccccc}\n",
       "\t& dateinv & datesale & invcur & invvalue & invvalp & salecur & salevalu & salevalp & \\\\\n",
       "\t\\hline\n",
       "\t& Date? & Date? & String? & Float64? & Float64? & String? & Float64? & Float64? & \\\\\n",
       "\t\\hline\n",
       "\t1 & 1820-06-05 & 1820-06-20 & D & 500.0 & 500.0 & D & 2150.0 & 2150.0 & $\\dots$ \\\\\n",
       "\t2 & \\emph{missing} & 1728-12-05 & \\emph{missing} & \\emph{missing} & \\emph{missing} & L & 800.0 & 160.0 & $\\dots$ \\\\\n",
       "\t3 & \\emph{missing} & 1728-12-05 & \\emph{missing} & \\emph{missing} & \\emph{missing} & L & 1200.0 & 240.0 & $\\dots$ \\\\\n",
       "\t4 & \\emph{missing} & 1728-12-05 & \\emph{missing} & \\emph{missing} & \\emph{missing} & L & 1200.0 & 240.0 & $\\dots$ \\\\\n",
       "\t5 & \\emph{missing} & 1728-12-05 & \\emph{missing} & \\emph{missing} & \\emph{missing} & L & 1200.0 & 240.0 & $\\dots$ \\\\\n",
       "\\end{tabular}\n"
      ],
      "text/plain": [
       "5×9 DataFrame. Omitted printing of 3 columns\n",
       "│ Row │ dateinv    │ datesale   │ invcur  │ invvalue │ invvalp  │ salecur │\n",
       "│     │ \u001b[90mDate?\u001b[39m      │ \u001b[90mDate?\u001b[39m      │ \u001b[90mString?\u001b[39m │ \u001b[90mFloat64?\u001b[39m │ \u001b[90mFloat64?\u001b[39m │ \u001b[90mString?\u001b[39m │\n",
       "├─────┼────────────┼────────────┼─────────┼──────────┼──────────┼─────────┤\n",
       "│ 1   │ 1820-06-05 │ 1820-06-20 │ D       │ 500.0    │ 500.0    │ D       │\n",
       "│ 2   │ \u001b[90mmissing\u001b[39m    │ 1728-12-05 │ \u001b[90mmissing\u001b[39m │ \u001b[90mmissing\u001b[39m  │ \u001b[90mmissing\u001b[39m  │ L       │\n",
       "│ 3   │ \u001b[90mmissing\u001b[39m    │ 1728-12-05 │ \u001b[90mmissing\u001b[39m │ \u001b[90mmissing\u001b[39m  │ \u001b[90mmissing\u001b[39m  │ L       │\n",
       "│ 4   │ \u001b[90mmissing\u001b[39m    │ 1728-12-05 │ \u001b[90mmissing\u001b[39m │ \u001b[90mmissing\u001b[39m  │ \u001b[90mmissing\u001b[39m  │ L       │\n",
       "│ 5   │ \u001b[90mmissing\u001b[39m    │ 1728-12-05 │ \u001b[90mmissing\u001b[39m │ \u001b[90mmissing\u001b[39m  │ \u001b[90mmissing\u001b[39m  │ L       │"
      ]
     },
     "execution_count": 59,
     "metadata": {},
     "output_type": "execute_result"
    }
   ],
   "source": [
    "@linq slave |> where(.!ismissing.(:datesale)) |> select(r\"inv|sale\") |> first(5)"
   ]
  },
  {
   "cell_type": "code",
   "execution_count": 82,
   "id": "minus-harvard",
   "metadata": {},
   "outputs": [
    {
     "data": {
      "text/html": [
       "<table class=\"data-frame\"><thead><tr><th></th><th>invvalue</th><th>salevalu</th><th>year</th><th>salehigher</th></tr><tr><th></th><th>Float64?</th><th>Float64?</th><th>Int64</th><th>Bool</th></tr></thead><tbody><p>3,337 rows × 4 columns</p><tr><th>1</th><td>500.0</td><td>960.0</td><td>1736</td><td>1</td></tr><tr><th>2</th><td>100.0</td><td>505.0</td><td>1736</td><td>1</td></tr><tr><th>3</th><td>300.0</td><td>590.0</td><td>1736</td><td>1</td></tr><tr><th>4</th><td>800.0</td><td>1070.0</td><td>1736</td><td>1</td></tr><tr><th>5</th><td>150.0</td><td>405.0</td><td>1736</td><td>1</td></tr><tr><th>6</th><td>1000.0</td><td>1250.0</td><td>1736</td><td>1</td></tr><tr><th>7</th><td>1000.0</td><td>2000.0</td><td>1736</td><td>1</td></tr><tr><th>8</th><td>1000.0</td><td>1090.0</td><td>1736</td><td>1</td></tr><tr><th>9</th><td>1000.0</td><td>1150.0</td><td>1737</td><td>1</td></tr><tr><th>10</th><td>1000.0</td><td>1225.0</td><td>1737</td><td>1</td></tr><tr><th>11</th><td>600.0</td><td>730.0</td><td>1737</td><td>1</td></tr><tr><th>12</th><td>400.0</td><td>155.0</td><td>1737</td><td>0</td></tr><tr><th>13</th><td>800.0</td><td>550.0</td><td>1737</td><td>0</td></tr><tr><th>14</th><td>2000.0</td><td>1530.0</td><td>1738</td><td>0</td></tr><tr><th>15</th><td>1200.0</td><td>2010.0</td><td>1738</td><td>1</td></tr><tr><th>16</th><td>600.0</td><td>785.0</td><td>1739</td><td>1</td></tr><tr><th>17</th><td>1000.0</td><td>2200.0</td><td>1739</td><td>1</td></tr><tr><th>18</th><td>1200.0</td><td>2200.0</td><td>1739</td><td>1</td></tr><tr><th>19</th><td>1200.0</td><td>1795.0</td><td>1739</td><td>1</td></tr><tr><th>20</th><td>1000.0</td><td>1840.0</td><td>1739</td><td>1</td></tr><tr><th>&vellip;</th><td>&vellip;</td><td>&vellip;</td><td>&vellip;</td><td>&vellip;</td></tr></tbody></table>"
      ],
      "text/latex": [
       "\\begin{tabular}{r|cccc}\n",
       "\t& invvalue & salevalu & year & salehigher\\\\\n",
       "\t\\hline\n",
       "\t& Float64? & Float64? & Int64 & Bool\\\\\n",
       "\t\\hline\n",
       "\t1 & 500.0 & 960.0 & 1736 & 1 \\\\\n",
       "\t2 & 100.0 & 505.0 & 1736 & 1 \\\\\n",
       "\t3 & 300.0 & 590.0 & 1736 & 1 \\\\\n",
       "\t4 & 800.0 & 1070.0 & 1736 & 1 \\\\\n",
       "\t5 & 150.0 & 405.0 & 1736 & 1 \\\\\n",
       "\t6 & 1000.0 & 1250.0 & 1736 & 1 \\\\\n",
       "\t7 & 1000.0 & 2000.0 & 1736 & 1 \\\\\n",
       "\t8 & 1000.0 & 1090.0 & 1736 & 1 \\\\\n",
       "\t9 & 1000.0 & 1150.0 & 1737 & 1 \\\\\n",
       "\t10 & 1000.0 & 1225.0 & 1737 & 1 \\\\\n",
       "\t11 & 600.0 & 730.0 & 1737 & 1 \\\\\n",
       "\t12 & 400.0 & 155.0 & 1737 & 0 \\\\\n",
       "\t13 & 800.0 & 550.0 & 1737 & 0 \\\\\n",
       "\t14 & 2000.0 & 1530.0 & 1738 & 0 \\\\\n",
       "\t15 & 1200.0 & 2010.0 & 1738 & 1 \\\\\n",
       "\t16 & 600.0 & 785.0 & 1739 & 1 \\\\\n",
       "\t17 & 1000.0 & 2200.0 & 1739 & 1 \\\\\n",
       "\t18 & 1200.0 & 2200.0 & 1739 & 1 \\\\\n",
       "\t19 & 1200.0 & 1795.0 & 1739 & 1 \\\\\n",
       "\t20 & 1000.0 & 1840.0 & 1739 & 1 \\\\\n",
       "\t$\\dots$ & $\\dots$ & $\\dots$ & $\\dots$ & $\\dots$ \\\\\n",
       "\\end{tabular}\n"
      ],
      "text/plain": [
       "3337×4 DataFrame\n",
       "│ Row  │ invvalue │ salevalu │ year  │ salehigher │\n",
       "│      │ \u001b[90mFloat64?\u001b[39m │ \u001b[90mFloat64?\u001b[39m │ \u001b[90mInt64\u001b[39m │ \u001b[90mBool\u001b[39m       │\n",
       "├──────┼──────────┼──────────┼───────┼────────────┤\n",
       "│ 1    │ 500.0    │ 960.0    │ 1736  │ 1          │\n",
       "│ 2    │ 100.0    │ 505.0    │ 1736  │ 1          │\n",
       "│ 3    │ 300.0    │ 590.0    │ 1736  │ 1          │\n",
       "│ 4    │ 800.0    │ 1070.0   │ 1736  │ 1          │\n",
       "│ 5    │ 150.0    │ 405.0    │ 1736  │ 1          │\n",
       "⋮\n",
       "│ 3332 │ 500.0    │ 505.0    │ 1820  │ 1          │\n",
       "│ 3333 │ 800.0    │ 990.0    │ 1820  │ 1          │\n",
       "│ 3334 │ 1200.0   │ 1600.0   │ 1820  │ 1          │\n",
       "│ 3335 │ 1200.0   │ 1410.0   │ 1820  │ 1          │\n",
       "│ 3336 │ 600.0    │ 1060.0   │ 1820  │ 1          │\n",
       "│ 3337 │ 475.0    │ 530.0    │ 1820  │ 1          │"
      ]
     },
     "execution_count": 82,
     "metadata": {},
     "output_type": "execute_result"
    }
   ],
   "source": [
    "notmissing(x) = !ismissing(x)\n",
    "\n",
    "@linq slave |> \n",
    "    where(.!ismissing.(:invvalue) .& .!ismissing.(:salevalu) .& (:invvalue .!= 0) .& (:salevalu .!= 0) .&\n",
    "    (:group .== 2)) |> \n",
    "    select(:invvalue, :salevalu, :year) |> \n",
    "    transform(salehigher = :salevalu .> :invvalue)"
   ]
  },
  {
   "cell_type": "code",
   "execution_count": null,
   "id": "funded-marijuana",
   "metadata": {},
   "outputs": [],
   "source": []
  },
  {
   "cell_type": "code",
   "execution_count": null,
   "id": "magnetic-castle",
   "metadata": {},
   "outputs": [],
   "source": []
  },
  {
   "cell_type": "code",
   "execution_count": 11,
   "id": "sound-nickname",
   "metadata": {},
   "outputs": [
    {
     "ename": "UndefVarError",
     "evalue": "UndefVarError: slave not defined",
     "output_type": "error",
     "traceback": [
      "UndefVarError: slave not defined",
      "",
      "Stacktrace:",
      " [1] top-level scope at In[11]:1"
     ]
    }
   ],
   "source": [
    "[v in [\"9\", \"Unnamed\", \"no name\"] for v in slave.NAME ]"
   ]
  },
  {
   "cell_type": "code",
   "execution_count": 12,
   "id": "pretty-planner",
   "metadata": {},
   "outputs": [
    {
     "ename": "UndefVarError",
     "evalue": "UndefVarError: slave not defined",
     "output_type": "error",
     "traceback": [
      "UndefVarError: slave not defined",
      "",
      "Stacktrace:",
      " [1] top-level scope at In[12]:1"
     ]
    }
   ],
   "source": [
    "slave.NAME[[v in [\"9\", \"Unnamed\", \"no name\"] for v in slave.NAME ]]"
   ]
  },
  {
   "cell_type": "code",
   "execution_count": 13,
   "id": "protected-prerequisite",
   "metadata": {},
   "outputs": [
    {
     "ename": "UndefVarError",
     "evalue": "UndefVarError: slave not defined",
     "output_type": "error",
     "traceback": [
      "UndefVarError: slave not defined",
      "",
      "Stacktrace:",
      " [1] top-level scope at In[13]:1"
     ]
    }
   ],
   "source": [
    "sort(freqtable(slave.NAME), rev = true)"
   ]
  },
  {
   "cell_type": "code",
   "execution_count": 14,
   "id": "sexual-safety",
   "metadata": {},
   "outputs": [
    {
     "ename": "UndefVarError",
     "evalue": "UndefVarError: CSV not defined",
     "output_type": "error",
     "traceback": [
      "UndefVarError: CSV not defined",
      "",
      "Stacktrace:",
      " [1] top-level scope at In[14]:1"
     ]
    }
   ],
   "source": [
    "free  = CSV.read(\"data/Free/Free.csv\")[:,3:end]"
   ]
  },
  {
   "cell_type": "code",
   "execution_count": 15,
   "id": "ahead-camel",
   "metadata": {},
   "outputs": [
    {
     "ename": "UndefVarError",
     "evalue": "UndefVarError: free not defined",
     "output_type": "error",
     "traceback": [
      "UndefVarError: free not defined",
      "",
      "Stacktrace:",
      " [1] top-level scope at In[15]:1"
     ]
    }
   ],
   "source": [
    "free.YEAR = free.YEAR .|> Int"
   ]
  },
  {
   "cell_type": "code",
   "execution_count": null,
   "id": "buried-result",
   "metadata": {},
   "outputs": [],
   "source": []
  }
 ],
 "metadata": {
  "@webio": {
   "lastCommId": null,
   "lastKernelId": null
  },
  "kernelspec": {
   "display_name": "Julia 1.6.0",
   "language": "julia",
   "name": "julia-1.6"
  },
  "language_info": {
   "file_extension": ".jl",
   "mimetype": "application/julia",
   "name": "julia",
   "version": "1.6.0"
  }
 },
 "nbformat": 4,
 "nbformat_minor": 5
}
