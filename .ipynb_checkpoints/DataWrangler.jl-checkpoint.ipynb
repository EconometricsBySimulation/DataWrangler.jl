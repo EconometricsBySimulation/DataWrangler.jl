{
 "cells": [
  {
   "cell_type": "code",
   "execution_count": 2,
   "id": "extraordinary-projector",
   "metadata": {},
   "outputs": [
    {
     "name": "stderr",
     "output_type": "stream",
     "text": [
      "\u001b[32m\u001b[1m  Activating\u001b[22m\u001b[39m environment at `E:\\PP\\git\\DataWrangler.jl\\Project.toml`\n"
     ]
    }
   ],
   "source": [
    "pwd()\n",
    "using Pkg; Pkg.activate(\".\")"
   ]
  },
  {
   "cell_type": "code",
   "execution_count": 3,
   "id": "cheap-antique",
   "metadata": {},
   "outputs": [],
   "source": [
    "# Pkg.add(\"DataFrames\")\n",
    "# Pkg.add(url = \"https://github.com/JuliaData/DataFramesMeta.jl.git\")"
   ]
  },
  {
   "cell_type": "code",
   "execution_count": 4,
   "id": "orange-islam",
   "metadata": {},
   "outputs": [
    {
     "name": "stdout",
     "output_type": "stream",
     "text": [
      "\u001b[32m\u001b[1m      Status\u001b[22m\u001b[39m `E:\\PP\\git\\DataWrangler.jl\\Project.toml`\n",
      " \u001b[90m [a93c6f00] \u001b[39m\u001b[37mDataFrames v0.22.7\u001b[39m\n",
      "\u001b[32m\u001b[1m      Status\u001b[22m\u001b[39m `E:\\PP\\git\\DataWrangler.jl\\Project.toml`\n",
      " \u001b[90m [1313f7d8] \u001b[39m\u001b[37mDataFramesMeta v0.6.0 `https://github.com/JuliaData/DataFramesMeta.jl.git#master`\u001b[39m\n"
     ]
    }
   ],
   "source": [
    "using DataFrames, DataFramesMeta, Statistics\n",
    "\n",
    "Pkg.status(\"DataFrames\")\n",
    "Pkg.status(\"DataFramesMeta\")\n"
   ]
  },
  {
   "cell_type": "code",
   "execution_count": 5,
   "id": "trying-forest",
   "metadata": {},
   "outputs": [
    {
     "data": {
      "text/html": [
       "<table class=\"data-frame\"><thead><tr><th></th><th>A</th><th>B</th><th>C</th><th>D</th></tr><tr><th></th><th>Int64</th><th>Int64</th><th>Int64</th><th>Int64</th></tr></thead><tbody><p>5 rows × 4 columns</p><tr><th>1</th><td>1</td><td>2</td><td>2</td><td>1</td></tr><tr><th>2</th><td>2</td><td>1</td><td>2</td><td>1</td></tr><tr><th>3</th><td>3</td><td>2</td><td>2</td><td>1</td></tr><tr><th>4</th><td>4</td><td>1</td><td>1</td><td>1</td></tr><tr><th>5</th><td>5</td><td>2</td><td>1</td><td>1</td></tr></tbody></table>"
      ],
      "text/latex": [
       "\\begin{tabular}{r|cccc}\n",
       "\t& A & B & C & D\\\\\n",
       "\t\\hline\n",
       "\t& Int64 & Int64 & Int64 & Int64\\\\\n",
       "\t\\hline\n",
       "\t1 & 1 & 2 & 2 & 1 \\\\\n",
       "\t2 & 2 & 1 & 2 & 1 \\\\\n",
       "\t3 & 3 & 2 & 2 & 1 \\\\\n",
       "\t4 & 4 & 1 & 1 & 1 \\\\\n",
       "\t5 & 5 & 2 & 1 & 1 \\\\\n",
       "\\end{tabular}\n"
      ],
      "text/plain": [
       "\u001b[1m5×4 DataFrame\u001b[0m\n",
       "\u001b[1m Row \u001b[0m│\u001b[1m A     \u001b[0m\u001b[1m B     \u001b[0m\u001b[1m C     \u001b[0m\u001b[1m D     \u001b[0m\n",
       "\u001b[1m     \u001b[0m│\u001b[90m Int64 \u001b[0m\u001b[90m Int64 \u001b[0m\u001b[90m Int64 \u001b[0m\u001b[90m Int64 \u001b[0m\n",
       "─────┼────────────────────────────\n",
       "   1 │     1      2      2      1\n",
       "   2 │     2      1      2      1\n",
       "   3 │     3      2      2      1\n",
       "   4 │     4      1      1      1\n",
       "   5 │     5      2      1      1"
      ]
     },
     "execution_count": 5,
     "metadata": {},
     "output_type": "execute_result"
    }
   ],
   "source": [
    "n = 5\n",
    "x = DataFrame(A=1:n, B=rand(1:2, n), C=rand(1:2, n))\n",
    "@transform x D = 1"
   ]
  },
  {
   "cell_type": "code",
   "execution_count": 6,
   "id": "environmental-judgment",
   "metadata": {},
   "outputs": [
    {
     "data": {
      "text/html": [
       "<table class=\"data-frame\"><thead><tr><th></th><th>A</th><th>B</th><th>C</th><th>z</th></tr><tr><th></th><th>Int64</th><th>Int64</th><th>Int64</th><th>Int64</th></tr></thead><tbody><p>5 rows × 4 columns</p><tr><th>1</th><td>1</td><td>2</td><td>2</td><td>1</td></tr><tr><th>2</th><td>2</td><td>1</td><td>2</td><td>1</td></tr><tr><th>3</th><td>3</td><td>2</td><td>2</td><td>1</td></tr><tr><th>4</th><td>4</td><td>1</td><td>1</td><td>1</td></tr><tr><th>5</th><td>5</td><td>2</td><td>1</td><td>1</td></tr></tbody></table>"
      ],
      "text/latex": [
       "\\begin{tabular}{r|cccc}\n",
       "\t& A & B & C & z\\\\\n",
       "\t\\hline\n",
       "\t& Int64 & Int64 & Int64 & Int64\\\\\n",
       "\t\\hline\n",
       "\t1 & 1 & 2 & 2 & 1 \\\\\n",
       "\t2 & 2 & 1 & 2 & 1 \\\\\n",
       "\t3 & 3 & 2 & 2 & 1 \\\\\n",
       "\t4 & 4 & 1 & 1 & 1 \\\\\n",
       "\t5 & 5 & 2 & 1 & 1 \\\\\n",
       "\\end{tabular}\n"
      ],
      "text/plain": [
       "\u001b[1m5×4 DataFrame\u001b[0m\n",
       "\u001b[1m Row \u001b[0m│\u001b[1m A     \u001b[0m\u001b[1m B     \u001b[0m\u001b[1m C     \u001b[0m\u001b[1m z     \u001b[0m\n",
       "\u001b[1m     \u001b[0m│\u001b[90m Int64 \u001b[0m\u001b[90m Int64 \u001b[0m\u001b[90m Int64 \u001b[0m\u001b[90m Int64 \u001b[0m\n",
       "─────┼────────────────────────────\n",
       "   1 │     1      2      2      1\n",
       "   2 │     2      1      2      1\n",
       "   3 │     3      2      2      1\n",
       "   4 │     4      1      1      1\n",
       "   5 │     5      2      1      1"
      ]
     },
     "execution_count": 6,
     "metadata": {},
     "output_type": "execute_result"
    }
   ],
   "source": [
    "@transform! x z = 1"
   ]
  },
  {
   "cell_type": "code",
   "execution_count": 7,
   "id": "figured-execution",
   "metadata": {},
   "outputs": [
    {
     "data": {
      "text/html": [
       "<table class=\"data-frame\"><thead><tr><th></th><th>A</th><th>B</th><th>C</th><th>z</th></tr><tr><th></th><th>Int64</th><th>Int64</th><th>Int64</th><th>Int64</th></tr></thead><tbody><p>5 rows × 4 columns</p><tr><th>1</th><td>1</td><td>2</td><td>2</td><td>1</td></tr><tr><th>2</th><td>2</td><td>1</td><td>2</td><td>1</td></tr><tr><th>3</th><td>3</td><td>2</td><td>2</td><td>1</td></tr><tr><th>4</th><td>4</td><td>1</td><td>1</td><td>1</td></tr><tr><th>5</th><td>5</td><td>2</td><td>1</td><td>1</td></tr></tbody></table>"
      ],
      "text/latex": [
       "\\begin{tabular}{r|cccc}\n",
       "\t& A & B & C & z\\\\\n",
       "\t\\hline\n",
       "\t& Int64 & Int64 & Int64 & Int64\\\\\n",
       "\t\\hline\n",
       "\t1 & 1 & 2 & 2 & 1 \\\\\n",
       "\t2 & 2 & 1 & 2 & 1 \\\\\n",
       "\t3 & 3 & 2 & 2 & 1 \\\\\n",
       "\t4 & 4 & 1 & 1 & 1 \\\\\n",
       "\t5 & 5 & 2 & 1 & 1 \\\\\n",
       "\\end{tabular}\n"
      ],
      "text/plain": [
       "\u001b[1m5×4 DataFrame\u001b[0m\n",
       "\u001b[1m Row \u001b[0m│\u001b[1m A     \u001b[0m\u001b[1m B     \u001b[0m\u001b[1m C     \u001b[0m\u001b[1m z     \u001b[0m\n",
       "\u001b[1m     \u001b[0m│\u001b[90m Int64 \u001b[0m\u001b[90m Int64 \u001b[0m\u001b[90m Int64 \u001b[0m\u001b[90m Int64 \u001b[0m\n",
       "─────┼────────────────────────────\n",
       "   1 │     1      2      2      1\n",
       "   2 │     2      1      2      1\n",
       "   3 │     3      2      2      1\n",
       "   4 │     4      1      1      1\n",
       "   5 │     5      2      1      1"
      ]
     },
     "execution_count": 7,
     "metadata": {},
     "output_type": "execute_result"
    }
   ],
   "source": [
    "x"
   ]
  },
  {
   "cell_type": "markdown",
   "id": "retained-issue",
   "metadata": {},
   "source": [
    "## Most promising @make"
   ]
  },
  {
   "cell_type": "code",
   "execution_count": 8,
   "id": "sought-respect",
   "metadata": {},
   "outputs": [
    {
     "data": {
      "text/plain": [
       "fillmissing (generic function with 1 method)"
      ]
     },
     "execution_count": 8,
     "metadata": {},
     "output_type": "execute_result"
    }
   ],
   "source": [
    "function fillmissing(d1::DataFrame, d2::DataFrame)\n",
    "    for v in names(d1)\n",
    "        if !hasproperty(d2, v) \n",
    "            if (any(unique(typeof.(d1[!, v])) .<: Number))\n",
    "                d2[!, v] .= 0.0\n",
    "                d2[!, v]  = allowmissing(d2[!, v])\n",
    "                d2[:, v] .= missing\n",
    "            elseif (any(unique(typeof.(d1[!, v])) <: String))\n",
    "                d2[!, v] .= \"\"\n",
    "                d2[!, v]  = allowmissing(d2[!, v])\n",
    "                d2[:, v] .= missing\n",
    "            else\n",
    "                d2[!, v] .= missing\n",
    "            end\n",
    "        end\n",
    "    end\n",
    "    return d2\n",
    "end"
   ]
  },
  {
   "cell_type": "code",
   "execution_count": 9,
   "id": "literary-equality",
   "metadata": {},
   "outputs": [
    {
     "data": {
      "text/plain": [
       "@mod (macro with 1 method)"
      ]
     },
     "execution_count": 9,
     "metadata": {},
     "output_type": "execute_result"
    }
   ],
   "source": [
    "macro mod(df, args...)\n",
    "    \n",
    "    targets = [v for v in args if !(occursin(r\"^(iff|by|when|\\(:if\\))\\(\", string(v))) ]\n",
    "    iffs    = [v for v in args if   occursin(r\"^(iff|when|\\(:if\\))\\(\", string(v)) ]\n",
    "    bys     = [v for v in args if   string(v)[1:3] == \"by(\"  ]\n",
    "    \n",
    "    (length(iffs) > 1) && throw(\"Only one `iff()` allowed! Group multiple with `.&`.\")\n",
    "    (length(bys)  > 1) && throw(\"Only one `by()`  allowed! Group multiple by with `,`.\")\n",
    "    \n",
    "    (length(iffs) == 1) && (iffs[1].head = :(=); iffs[1].args[1] = :iff)\n",
    "    \n",
    "    groupbys = (length(bys) == 1) ? (x -> (x isa QuoteNode ? eval(x) : x)).(bys[1].args[2:end]) : []\n",
    "    \n",
    "    quote\n",
    "        d = copy($df)\n",
    "        \n",
    "        (length($iffs) == 0) && (selector = fill(true, size(d, 1)))\n",
    "        (length($iffs) == 1) && (selector = (@transform d $(iffs...)).iff)\n",
    "            \n",
    "        xout = d[selector, :]\n",
    "        \n",
    "        # If bys have been defined then group the dataframe by $bys\n",
    "        $(length(bys) == 1) && (xout = groupby(xout, [$groupbys...]))\n",
    "\n",
    "        @transform! xout $(targets...)\n",
    "        \n",
    "        # If bys have been defined then ungroup the dataframe by $bys\n",
    "        $(length(bys) == 1) && (xout = DataFrame(xout))\n",
    "        \n",
    "        d = fillmissing(xout, d)\n",
    "\n",
    "        d[selector, names(xout)] = xout\n",
    "\n",
    "        d\n",
    "     end\n",
    "\n",
    "end"
   ]
  },
  {
   "cell_type": "code",
   "execution_count": 10,
   "id": "fluid-liver",
   "metadata": {},
   "outputs": [
    {
     "data": {
      "text/plain": [
       "@mod (macro with 2 methods)"
      ]
     },
     "execution_count": 10,
     "metadata": {},
     "output_type": "execute_result"
    }
   ],
   "source": [
    "macro mod(df::DataFrame, args...)\n",
    "    \n",
    "    targets = [v for v in args if !(occursin(r\"^(iff|by|when|\\(:if\\))\\(\", string(v))) ]\n",
    "    iffs    = [v for v in args if   occursin(r\"^(iff|when|\\(:if\\))\\(\", string(v)) ]\n",
    "    bys     = [v for v in args if   string(v)[1:3] == \"by(\"  ]\n",
    "    \n",
    "    (length(iffs) > 1) && throw(\"Only one `iff()` allowed! Group multiple with `.&`.\")\n",
    "    (length(bys)  > 1) && throw(\"Only one `by()`  allowed! Group multiple by with `,`.\")\n",
    "    \n",
    "    (length(iffs) == 1) && (iffs[1].head = :(=); iffs[1].args[1] = :iff)\n",
    "    \n",
    "    groupbys = (length(bys) == 1) ? (x -> (x isa QuoteNode ? eval(x) : x)).(bys[1].args[2:end]) : []\n",
    "\n",
    "    d = copy(eval(df))\n",
    "\n",
    "    (length(iffs) == 0) && (selector = fill(true, size(d, 1)))\n",
    "    (length(iffs) == 1) && (selector = eval(:( (@transform $d $(iffs...)).iff) ))\n",
    "\n",
    "    xout = d[selector, :]\n",
    "\n",
    "    # If bys have been defined then group the dataframe by $bys\n",
    "    (length(bys) == 1) && (xout = groupby(xout, [groupbys...]))\n",
    "\n",
    "    xout = eval(:(  @transform $xout $(targets...) ))\n",
    "\n",
    "    # If bys have been defined then ungroup the dataframe by $bys\n",
    "    (length(bys) == 1) && (xout = DataFrame(xout))\n",
    "\n",
    "    d = fillmissing(xout, d)\n",
    "\n",
    "    d[selector, names(xout)] = xout\n",
    "\n",
    "    d\n",
    "\n",
    "end"
   ]
  },
  {
   "cell_type": "code",
   "execution_count": 11,
   "id": "chubby-birthday",
   "metadata": {},
   "outputs": [
    {
     "data": {
      "text/plain": [
       "@mod! (macro with 1 method)"
      ]
     },
     "execution_count": 11,
     "metadata": {},
     "output_type": "execute_result"
    }
   ],
   "source": [
    "macro mod!(x, args...)\n",
    "    quote\n",
    "        global $x\n",
    "        $x = @mod $x $(args...)\n",
    "    end\n",
    "end"
   ]
  },
  {
   "cell_type": "code",
   "execution_count": 12,
   "id": "bigger-kenya",
   "metadata": {},
   "outputs": [],
   "source": [
    "# using DataFrames: _replace_columns!"
   ]
  },
  {
   "cell_type": "code",
   "execution_count": 13,
   "id": "french-float",
   "metadata": {},
   "outputs": [],
   "source": [
    "# using DataFrames: _columns, index, _names, _replace_columns!"
   ]
  },
  {
   "cell_type": "code",
   "execution_count": 14,
   "id": "persistent-bloom",
   "metadata": {},
   "outputs": [
    {
     "data": {
      "text/plain": [
       "copy! (generic function with 1 method)"
      ]
     },
     "execution_count": 14,
     "metadata": {},
     "output_type": "execute_result"
    }
   ],
   "source": [
    "copy!(x::DataFrame, y::DataFrame) = DataFrames._replace_columns!(x, y)"
   ]
  },
  {
   "cell_type": "code",
   "execution_count": 15,
   "id": "signal-chosen",
   "metadata": {},
   "outputs": [
    {
     "data": {
      "text/html": [
       "<table class=\"data-frame\"><thead><tr><th></th><th>A</th><th>B</th><th>C</th><th>z</th></tr><tr><th></th><th>Int64</th><th>Int64</th><th>Int64</th><th>Int64</th></tr></thead><tbody><p>5 rows × 4 columns</p><tr><th>1</th><td>1</td><td>2</td><td>2</td><td>1</td></tr><tr><th>2</th><td>2</td><td>1</td><td>2</td><td>1</td></tr><tr><th>3</th><td>3</td><td>2</td><td>2</td><td>1</td></tr><tr><th>4</th><td>4</td><td>1</td><td>1</td><td>1</td></tr><tr><th>5</th><td>5</td><td>2</td><td>1</td><td>1</td></tr></tbody></table>"
      ],
      "text/latex": [
       "\\begin{tabular}{r|cccc}\n",
       "\t& A & B & C & z\\\\\n",
       "\t\\hline\n",
       "\t& Int64 & Int64 & Int64 & Int64\\\\\n",
       "\t\\hline\n",
       "\t1 & 1 & 2 & 2 & 1 \\\\\n",
       "\t2 & 2 & 1 & 2 & 1 \\\\\n",
       "\t3 & 3 & 2 & 2 & 1 \\\\\n",
       "\t4 & 4 & 1 & 1 & 1 \\\\\n",
       "\t5 & 5 & 2 & 1 & 1 \\\\\n",
       "\\end{tabular}\n"
      ],
      "text/plain": [
       "\u001b[1m5×4 DataFrame\u001b[0m\n",
       "\u001b[1m Row \u001b[0m│\u001b[1m A     \u001b[0m\u001b[1m B     \u001b[0m\u001b[1m C     \u001b[0m\u001b[1m z     \u001b[0m\n",
       "\u001b[1m     \u001b[0m│\u001b[90m Int64 \u001b[0m\u001b[90m Int64 \u001b[0m\u001b[90m Int64 \u001b[0m\u001b[90m Int64 \u001b[0m\n",
       "─────┼────────────────────────────\n",
       "   1 │     1      2      2      1\n",
       "   2 │     2      1      2      1\n",
       "   3 │     3      2      2      1\n",
       "   4 │     4      1      1      1\n",
       "   5 │     5      2      1      1"
      ]
     },
     "execution_count": 15,
     "metadata": {},
     "output_type": "execute_result"
    }
   ],
   "source": [
    "x"
   ]
  },
  {
   "cell_type": "code",
   "execution_count": 16,
   "id": "hairy-johns",
   "metadata": {},
   "outputs": [
    {
     "data": {
      "text/html": [
       "<table class=\"data-frame\"><thead><tr><th></th><th>A</th><th>B</th><th>C</th><th>z</th><th>a</th><th>bb</th></tr><tr><th></th><th>Int64</th><th>Int64</th><th>Int64</th><th>Int64</th><th>Int64</th><th>Int64</th></tr></thead><tbody><p>5 rows × 6 columns</p><tr><th>1</th><td>1</td><td>2</td><td>2</td><td>1</td><td>2</td><td>1</td></tr><tr><th>2</th><td>2</td><td>1</td><td>2</td><td>1</td><td>2</td><td>2</td></tr><tr><th>3</th><td>3</td><td>2</td><td>2</td><td>1</td><td>6</td><td>9</td></tr><tr><th>4</th><td>4</td><td>1</td><td>1</td><td>1</td><td>4</td><td>4</td></tr><tr><th>5</th><td>5</td><td>2</td><td>1</td><td>1</td><td>10</td><td>25</td></tr></tbody></table>"
      ],
      "text/latex": [
       "\\begin{tabular}{r|cccccc}\n",
       "\t& A & B & C & z & a & bb\\\\\n",
       "\t\\hline\n",
       "\t& Int64 & Int64 & Int64 & Int64 & Int64 & Int64\\\\\n",
       "\t\\hline\n",
       "\t1 & 1 & 2 & 2 & 1 & 2 & 1 \\\\\n",
       "\t2 & 2 & 1 & 2 & 1 & 2 & 2 \\\\\n",
       "\t3 & 3 & 2 & 2 & 1 & 6 & 9 \\\\\n",
       "\t4 & 4 & 1 & 1 & 1 & 4 & 4 \\\\\n",
       "\t5 & 5 & 2 & 1 & 1 & 10 & 25 \\\\\n",
       "\\end{tabular}\n"
      ],
      "text/plain": [
       "\u001b[1m5×6 DataFrame\u001b[0m\n",
       "\u001b[1m Row \u001b[0m│\u001b[1m A     \u001b[0m\u001b[1m B     \u001b[0m\u001b[1m C     \u001b[0m\u001b[1m z     \u001b[0m\u001b[1m a     \u001b[0m\u001b[1m bb    \u001b[0m\n",
       "\u001b[1m     \u001b[0m│\u001b[90m Int64 \u001b[0m\u001b[90m Int64 \u001b[0m\u001b[90m Int64 \u001b[0m\u001b[90m Int64 \u001b[0m\u001b[90m Int64 \u001b[0m\u001b[90m Int64 \u001b[0m\n",
       "─────┼──────────────────────────────────────────\n",
       "   1 │     1      2      2      1      2      1\n",
       "   2 │     2      1      2      1      2      2\n",
       "   3 │     3      2      2      1      6      9\n",
       "   4 │     4      1      1      1      4      4\n",
       "   5 │     5      2      1      1     10     25"
      ]
     },
     "execution_count": 16,
     "metadata": {},
     "output_type": "execute_result"
    }
   ],
   "source": [
    "y = @transform x (a = :A .* :B) (bb = :A .^ :B)"
   ]
  },
  {
   "cell_type": "code",
   "execution_count": 17,
   "id": "recent-redhead",
   "metadata": {},
   "outputs": [
    {
     "data": {
      "text/html": [
       "<table class=\"data-frame\"><thead><tr><th></th><th>A</th><th>B</th><th>C</th><th>z</th><th>a</th><th>bb</th></tr><tr><th></th><th>Int64</th><th>Int64</th><th>Int64</th><th>Int64</th><th>Int64</th><th>Int64</th></tr></thead><tbody><p>5 rows × 6 columns</p><tr><th>1</th><td>1</td><td>2</td><td>2</td><td>1</td><td>2</td><td>1</td></tr><tr><th>2</th><td>2</td><td>1</td><td>2</td><td>1</td><td>2</td><td>2</td></tr><tr><th>3</th><td>3</td><td>2</td><td>2</td><td>1</td><td>6</td><td>9</td></tr><tr><th>4</th><td>4</td><td>1</td><td>1</td><td>1</td><td>4</td><td>4</td></tr><tr><th>5</th><td>5</td><td>2</td><td>1</td><td>1</td><td>10</td><td>25</td></tr></tbody></table>"
      ],
      "text/latex": [
       "\\begin{tabular}{r|cccccc}\n",
       "\t& A & B & C & z & a & bb\\\\\n",
       "\t\\hline\n",
       "\t& Int64 & Int64 & Int64 & Int64 & Int64 & Int64\\\\\n",
       "\t\\hline\n",
       "\t1 & 1 & 2 & 2 & 1 & 2 & 1 \\\\\n",
       "\t2 & 2 & 1 & 2 & 1 & 2 & 2 \\\\\n",
       "\t3 & 3 & 2 & 2 & 1 & 6 & 9 \\\\\n",
       "\t4 & 4 & 1 & 1 & 1 & 4 & 4 \\\\\n",
       "\t5 & 5 & 2 & 1 & 1 & 10 & 25 \\\\\n",
       "\\end{tabular}\n"
      ],
      "text/plain": [
       "\u001b[1m5×6 DataFrame\u001b[0m\n",
       "\u001b[1m Row \u001b[0m│\u001b[1m A     \u001b[0m\u001b[1m B     \u001b[0m\u001b[1m C     \u001b[0m\u001b[1m z     \u001b[0m\u001b[1m a     \u001b[0m\u001b[1m bb    \u001b[0m\n",
       "\u001b[1m     \u001b[0m│\u001b[90m Int64 \u001b[0m\u001b[90m Int64 \u001b[0m\u001b[90m Int64 \u001b[0m\u001b[90m Int64 \u001b[0m\u001b[90m Int64 \u001b[0m\u001b[90m Int64 \u001b[0m\n",
       "─────┼──────────────────────────────────────────\n",
       "   1 │     1      2      2      1      2      1\n",
       "   2 │     2      1      2      1      2      2\n",
       "   3 │     3      2      2      1      6      9\n",
       "   4 │     4      1      1      1      4      4\n",
       "   5 │     5      2      1      1     10     25"
      ]
     },
     "execution_count": 17,
     "metadata": {},
     "output_type": "execute_result"
    }
   ],
   "source": []
  },
  {
   "cell_type": "code",
   "execution_count": 22,
   "id": "pharmaceutical-advantage",
   "metadata": {},
   "outputs": [
    {
     "data": {
      "text/plain": [
       "@mod! (macro with 1 method)"
      ]
     },
     "execution_count": 22,
     "metadata": {},
     "output_type": "execute_result"
    }
   ],
   "source": [
    "macro mod!(x, args...)    \n",
    "    quote\n",
    "        y = @mod $x $(args...)\n",
    "        copy!($x, y)\n",
    "    end\n",
    "end"
   ]
  },
  {
   "cell_type": "markdown",
   "id": "scientific-mount",
   "metadata": {},
   "source": [
    "### Tests"
   ]
  },
  {
   "cell_type": "code",
   "execution_count": 23,
   "id": "cubic-fence",
   "metadata": {},
   "outputs": [
    {
     "data": {
      "text/html": [
       "<table class=\"data-frame\"><thead><tr><th></th><th>A</th><th>B</th><th>C</th></tr><tr><th></th><th>Int64</th><th>Int64</th><th>Int64</th></tr></thead><tbody><p>10 rows × 3 columns</p><tr><th>1</th><td>1</td><td>2</td><td>1</td></tr><tr><th>2</th><td>2</td><td>1</td><td>2</td></tr><tr><th>3</th><td>3</td><td>1</td><td>1</td></tr><tr><th>4</th><td>4</td><td>1</td><td>2</td></tr><tr><th>5</th><td>5</td><td>2</td><td>1</td></tr><tr><th>6</th><td>6</td><td>1</td><td>1</td></tr><tr><th>7</th><td>7</td><td>2</td><td>1</td></tr><tr><th>8</th><td>8</td><td>1</td><td>1</td></tr><tr><th>9</th><td>9</td><td>2</td><td>2</td></tr><tr><th>10</th><td>10</td><td>2</td><td>1</td></tr></tbody></table>"
      ],
      "text/latex": [
       "\\begin{tabular}{r|ccc}\n",
       "\t& A & B & C\\\\\n",
       "\t\\hline\n",
       "\t& Int64 & Int64 & Int64\\\\\n",
       "\t\\hline\n",
       "\t1 & 1 & 2 & 1 \\\\\n",
       "\t2 & 2 & 1 & 2 \\\\\n",
       "\t3 & 3 & 1 & 1 \\\\\n",
       "\t4 & 4 & 1 & 2 \\\\\n",
       "\t5 & 5 & 2 & 1 \\\\\n",
       "\t6 & 6 & 1 & 1 \\\\\n",
       "\t7 & 7 & 2 & 1 \\\\\n",
       "\t8 & 8 & 1 & 1 \\\\\n",
       "\t9 & 9 & 2 & 2 \\\\\n",
       "\t10 & 10 & 2 & 1 \\\\\n",
       "\\end{tabular}\n"
      ],
      "text/plain": [
       "\u001b[1m10×3 DataFrame\u001b[0m\n",
       "\u001b[1m Row \u001b[0m│\u001b[1m A     \u001b[0m\u001b[1m B     \u001b[0m\u001b[1m C     \u001b[0m\n",
       "\u001b[1m     \u001b[0m│\u001b[90m Int64 \u001b[0m\u001b[90m Int64 \u001b[0m\u001b[90m Int64 \u001b[0m\n",
       "─────┼─────────────────────\n",
       "   1 │     1      2      1\n",
       "   2 │     2      1      2\n",
       "   3 │     3      1      1\n",
       "   4 │     4      1      2\n",
       "   5 │     5      2      1\n",
       "   6 │     6      1      1\n",
       "   7 │     7      2      1\n",
       "   8 │     8      1      1\n",
       "   9 │     9      2      2\n",
       "  10 │    10      2      1"
      ]
     },
     "execution_count": 23,
     "metadata": {},
     "output_type": "execute_result"
    }
   ],
   "source": [
    "n = 10\n",
    "x = DataFrame(A=1:n, B=rand(1:2, n), C=rand(1:2, n))"
   ]
  },
  {
   "cell_type": "code",
   "execution_count": 24,
   "id": "latter-immigration",
   "metadata": {
    "scrolled": true
   },
   "outputs": [
    {
     "data": {
      "text/html": [
       "<table class=\"data-frame\"><thead><tr><th></th><th>A</th><th>B</th><th>C</th><th>D</th><th>run</th><th>E</th><th>H</th></tr><tr><th></th><th>Int64</th><th>Int64</th><th>Int64</th><th>Float64?</th><th>Float64?</th><th>Float64?</th><th>Float64?</th></tr></thead><tbody><p>10 rows × 7 columns</p><tr><th>1</th><td>1</td><td>2</td><td>1</td><td>0.0</td><td>0.0</td><td><em>missing</em></td><td><em>missing</em></td></tr><tr><th>2</th><td>2</td><td>1</td><td>2</td><td>0.0</td><td>0.0</td><td><em>missing</em></td><td><em>missing</em></td></tr><tr><th>3</th><td>3</td><td>1</td><td>1</td><td>2.0</td><td>2.0</td><td>1.7</td><td><em>missing</em></td></tr><tr><th>4</th><td>4</td><td>1</td><td>2</td><td>3.0</td><td>3.0</td><td>2.0</td><td>4.0</td></tr><tr><th>5</th><td>5</td><td>2</td><td>1</td><td>3.0</td><td>3.0</td><td>2.2</td><td>7.3</td></tr><tr><th>6</th><td>7</td><td>2</td><td>1</td><td>0.0</td><td>3.0</td><td>2.6</td><td>7.3</td></tr><tr><th>7</th><td>10</td><td>2</td><td>1</td><td>0.0</td><td>3.0</td><td>3.2</td><td>7.3</td></tr><tr><th>8</th><td>6</td><td>1</td><td>1</td><td>0.0</td><td>3.0</td><td>2.4</td><td>7.0</td></tr><tr><th>9</th><td>8</td><td>1</td><td>1</td><td>0.0</td><td>3.0</td><td>2.8</td><td>7.0</td></tr><tr><th>10</th><td>9</td><td>2</td><td>2</td><td>0.0</td><td>3.0</td><td>3.0</td><td>9.0</td></tr></tbody></table>"
      ],
      "text/latex": [
       "\\begin{tabular}{r|ccccccc}\n",
       "\t& A & B & C & D & run & E & H\\\\\n",
       "\t\\hline\n",
       "\t& Int64 & Int64 & Int64 & Float64? & Float64? & Float64? & Float64?\\\\\n",
       "\t\\hline\n",
       "\t1 & 1 & 2 & 1 & 0.0 & 0.0 & \\emph{missing} & \\emph{missing} \\\\\n",
       "\t2 & 2 & 1 & 2 & 0.0 & 0.0 & \\emph{missing} & \\emph{missing} \\\\\n",
       "\t3 & 3 & 1 & 1 & 2.0 & 2.0 & 1.7 & \\emph{missing} \\\\\n",
       "\t4 & 4 & 1 & 2 & 3.0 & 3.0 & 2.0 & 4.0 \\\\\n",
       "\t5 & 5 & 2 & 1 & 3.0 & 3.0 & 2.2 & 7.3 \\\\\n",
       "\t6 & 7 & 2 & 1 & 0.0 & 3.0 & 2.6 & 7.3 \\\\\n",
       "\t7 & 10 & 2 & 1 & 0.0 & 3.0 & 3.2 & 7.3 \\\\\n",
       "\t8 & 6 & 1 & 1 & 0.0 & 3.0 & 2.4 & 7.0 \\\\\n",
       "\t9 & 8 & 1 & 1 & 0.0 & 3.0 & 2.8 & 7.0 \\\\\n",
       "\t10 & 9 & 2 & 2 & 0.0 & 3.0 & 3.0 & 9.0 \\\\\n",
       "\\end{tabular}\n"
      ],
      "text/plain": [
       "\u001b[1m10×7 DataFrame\u001b[0m\n",
       "\u001b[1m Row \u001b[0m│\u001b[1m A     \u001b[0m\u001b[1m B     \u001b[0m\u001b[1m C     \u001b[0m\u001b[1m D        \u001b[0m\u001b[1m run      \u001b[0m\u001b[1m E         \u001b[0m\u001b[1m H         \u001b[0m\n",
       "\u001b[1m     \u001b[0m│\u001b[90m Int64 \u001b[0m\u001b[90m Int64 \u001b[0m\u001b[90m Int64 \u001b[0m\u001b[90m Float64? \u001b[0m\u001b[90m Float64? \u001b[0m\u001b[90m Float64?  \u001b[0m\u001b[90m Float64?  \u001b[0m\n",
       "─────┼───────────────────────────────────────────────────────────────\n",
       "   1 │     1      2      1       0.0       0.0 \u001b[90m missing   \u001b[0m\u001b[90m missing   \u001b[0m\n",
       "   2 │     2      1      2       0.0       0.0 \u001b[90m missing   \u001b[0m\u001b[90m missing   \u001b[0m\n",
       "   3 │     3      1      1       2.0       2.0        1.7 \u001b[90m missing   \u001b[0m\n",
       "   4 │     4      1      2       3.0       3.0        2.0        4.0\n",
       "   5 │     5      2      1       3.0       3.0        2.2        7.3\n",
       "   6 │     7      2      1       0.0       3.0        2.6        7.3\n",
       "   7 │    10      2      1       0.0       3.0        3.2        7.3\n",
       "   8 │     6      1      1       0.0       3.0        2.4        7.0\n",
       "   9 │     8      1      1       0.0       3.0        2.8        7.0\n",
       "  10 │     9      2      2       0.0       3.0        3.0        9.0"
      ]
     },
     "execution_count": 24,
     "metadata": {},
     "output_type": "execute_result"
    }
   ],
   "source": [
    "# @mount x\n",
    "@mod! x             D = 0                            (run=0)\n",
    "@mod! x             D = :C + :B                      (run=1)  :if((2 .< :A) .& (:A .< 6))\n",
    "@mod! x             E = round.(:A .^ .5, digits = 1) (run=2)  :if(:B .< :A .- 1)\n",
    "@mod! x   by(B, C)  H = round(mean(:A) , digits = 1) (run=3)  :if(:A .> 3)"
   ]
  },
  {
   "cell_type": "code",
   "execution_count": 25,
   "id": "violent-dryer",
   "metadata": {},
   "outputs": [
    {
     "data": {
      "text/html": [
       "<table class=\"data-frame\"><thead><tr><th></th><th>A</th><th>B</th><th>C</th><th>D</th><th>run</th><th>E</th><th>H</th><th>z</th></tr><tr><th></th><th>Int64</th><th>Int64</th><th>Int64</th><th>Float64?</th><th>Float64?</th><th>Float64?</th><th>Float64?</th><th>Float64?</th></tr></thead><tbody><p>10 rows × 8 columns</p><tr><th>1</th><td>1</td><td>2</td><td>1</td><td>0.0</td><td>0.0</td><td><em>missing</em></td><td><em>missing</em></td><td>0.0</td></tr><tr><th>2</th><td>2</td><td>1</td><td>2</td><td>0.0</td><td>0.0</td><td><em>missing</em></td><td><em>missing</em></td><td>0.0</td></tr><tr><th>3</th><td>3</td><td>1</td><td>1</td><td>2.0</td><td>2.0</td><td>1.7</td><td><em>missing</em></td><td>0.0</td></tr><tr><th>4</th><td>4</td><td>1</td><td>2</td><td>3.0</td><td>3.0</td><td>2.0</td><td>4.0</td><td>0.0</td></tr><tr><th>5</th><td>5</td><td>2</td><td>1</td><td>3.0</td><td>3.0</td><td>2.2</td><td>7.3</td><td>0.0</td></tr><tr><th>6</th><td>7</td><td>2</td><td>1</td><td>0.0</td><td>3.0</td><td>2.6</td><td>7.3</td><td>0.0</td></tr><tr><th>7</th><td>10</td><td>2</td><td>1</td><td>0.0</td><td>3.0</td><td>3.2</td><td>7.3</td><td>0.0</td></tr><tr><th>8</th><td>6</td><td>1</td><td>1</td><td>0.0</td><td>3.0</td><td>2.4</td><td>7.0</td><td>0.0</td></tr><tr><th>9</th><td>8</td><td>1</td><td>1</td><td>0.0</td><td>3.0</td><td>2.8</td><td>7.0</td><td>0.0</td></tr><tr><th>10</th><td>9</td><td>2</td><td>2</td><td>0.0</td><td>3.0</td><td>3.0</td><td>9.0</td><td>0.0</td></tr></tbody></table>"
      ],
      "text/latex": [
       "\\begin{tabular}{r|cccccccc}\n",
       "\t& A & B & C & D & run & E & H & z\\\\\n",
       "\t\\hline\n",
       "\t& Int64 & Int64 & Int64 & Float64? & Float64? & Float64? & Float64? & Float64?\\\\\n",
       "\t\\hline\n",
       "\t1 & 1 & 2 & 1 & 0.0 & 0.0 & \\emph{missing} & \\emph{missing} & 0.0 \\\\\n",
       "\t2 & 2 & 1 & 2 & 0.0 & 0.0 & \\emph{missing} & \\emph{missing} & 0.0 \\\\\n",
       "\t3 & 3 & 1 & 1 & 2.0 & 2.0 & 1.7 & \\emph{missing} & 0.0 \\\\\n",
       "\t4 & 4 & 1 & 2 & 3.0 & 3.0 & 2.0 & 4.0 & 0.0 \\\\\n",
       "\t5 & 5 & 2 & 1 & 3.0 & 3.0 & 2.2 & 7.3 & 0.0 \\\\\n",
       "\t6 & 7 & 2 & 1 & 0.0 & 3.0 & 2.6 & 7.3 & 0.0 \\\\\n",
       "\t7 & 10 & 2 & 1 & 0.0 & 3.0 & 3.2 & 7.3 & 0.0 \\\\\n",
       "\t8 & 6 & 1 & 1 & 0.0 & 3.0 & 2.4 & 7.0 & 0.0 \\\\\n",
       "\t9 & 8 & 1 & 1 & 0.0 & 3.0 & 2.8 & 7.0 & 0.0 \\\\\n",
       "\t10 & 9 & 2 & 2 & 0.0 & 3.0 & 3.0 & 9.0 & 0.0 \\\\\n",
       "\\end{tabular}\n"
      ],
      "text/plain": [
       "\u001b[1m10×8 DataFrame\u001b[0m\n",
       "\u001b[1m Row \u001b[0m│\u001b[1m A     \u001b[0m\u001b[1m B     \u001b[0m\u001b[1m C     \u001b[0m\u001b[1m D        \u001b[0m\u001b[1m run      \u001b[0m\u001b[1m E         \u001b[0m\u001b[1m H         \u001b[0m\u001b[1m z       \u001b[0m ⋯\n",
       "\u001b[1m     \u001b[0m│\u001b[90m Int64 \u001b[0m\u001b[90m Int64 \u001b[0m\u001b[90m Int64 \u001b[0m\u001b[90m Float64? \u001b[0m\u001b[90m Float64? \u001b[0m\u001b[90m Float64?  \u001b[0m\u001b[90m Float64?  \u001b[0m\u001b[90m Float64?\u001b[0m ⋯\n",
       "─────┼──────────────────────────────────────────────────────────────────────────\n",
       "   1 │     1      2      1       0.0       0.0 \u001b[90m missing   \u001b[0m\u001b[90m missing   \u001b[0m      0.0 ⋯\n",
       "   2 │     2      1      2       0.0       0.0 \u001b[90m missing   \u001b[0m\u001b[90m missing   \u001b[0m      0.0\n",
       "   3 │     3      1      1       2.0       2.0        1.7 \u001b[90m missing   \u001b[0m      0.0\n",
       "   4 │     4      1      2       3.0       3.0        2.0        4.0       0.0\n",
       "   5 │     5      2      1       3.0       3.0        2.2        7.3       0.0 ⋯\n",
       "   6 │     7      2      1       0.0       3.0        2.6        7.3       0.0\n",
       "   7 │    10      2      1       0.0       3.0        3.2        7.3       0.0\n",
       "   8 │     6      1      1       0.0       3.0        2.4        7.0       0.0\n",
       "   9 │     8      1      1       0.0       3.0        2.8        7.0       0.0 ⋯\n",
       "  10 │     9      2      2       0.0       3.0        3.0        9.0       0.0"
      ]
     },
     "execution_count": 25,
     "metadata": {},
     "output_type": "execute_result"
    }
   ],
   "source": [
    "@mod x z=0"
   ]
  },
  {
   "cell_type": "code",
   "execution_count": 26,
   "id": "express-painting",
   "metadata": {},
   "outputs": [
    {
     "data": {
      "text/html": [
       "<table class=\"data-frame\"><thead><tr><th></th><th>A</th><th>B</th><th>C</th><th>D</th><th>run</th><th>E</th><th>H</th></tr><tr><th></th><th>Int64</th><th>Int64</th><th>Int64</th><th>Float64?</th><th>Float64?</th><th>Float64?</th><th>Float64?</th></tr></thead><tbody><p>10 rows × 7 columns</p><tr><th>1</th><td>1</td><td>2</td><td>1</td><td>0.0</td><td>0.0</td><td><em>missing</em></td><td><em>missing</em></td></tr><tr><th>2</th><td>2</td><td>1</td><td>2</td><td>0.0</td><td>0.0</td><td><em>missing</em></td><td><em>missing</em></td></tr><tr><th>3</th><td>3</td><td>1</td><td>1</td><td>2.0</td><td>2.0</td><td>1.7</td><td><em>missing</em></td></tr><tr><th>4</th><td>4</td><td>1</td><td>2</td><td>3.0</td><td>3.0</td><td>2.0</td><td>4.0</td></tr><tr><th>5</th><td>5</td><td>2</td><td>1</td><td>3.0</td><td>3.0</td><td>2.2</td><td>7.3</td></tr><tr><th>6</th><td>7</td><td>2</td><td>1</td><td>0.0</td><td>3.0</td><td>2.6</td><td>7.3</td></tr><tr><th>7</th><td>10</td><td>2</td><td>1</td><td>0.0</td><td>3.0</td><td>3.2</td><td>7.3</td></tr><tr><th>8</th><td>6</td><td>1</td><td>1</td><td>0.0</td><td>3.0</td><td>2.4</td><td>7.0</td></tr><tr><th>9</th><td>8</td><td>1</td><td>1</td><td>0.0</td><td>3.0</td><td>2.8</td><td>7.0</td></tr><tr><th>10</th><td>9</td><td>2</td><td>2</td><td>0.0</td><td>3.0</td><td>3.0</td><td>9.0</td></tr></tbody></table>"
      ],
      "text/latex": [
       "\\begin{tabular}{r|ccccccc}\n",
       "\t& A & B & C & D & run & E & H\\\\\n",
       "\t\\hline\n",
       "\t& Int64 & Int64 & Int64 & Float64? & Float64? & Float64? & Float64?\\\\\n",
       "\t\\hline\n",
       "\t1 & 1 & 2 & 1 & 0.0 & 0.0 & \\emph{missing} & \\emph{missing} \\\\\n",
       "\t2 & 2 & 1 & 2 & 0.0 & 0.0 & \\emph{missing} & \\emph{missing} \\\\\n",
       "\t3 & 3 & 1 & 1 & 2.0 & 2.0 & 1.7 & \\emph{missing} \\\\\n",
       "\t4 & 4 & 1 & 2 & 3.0 & 3.0 & 2.0 & 4.0 \\\\\n",
       "\t5 & 5 & 2 & 1 & 3.0 & 3.0 & 2.2 & 7.3 \\\\\n",
       "\t6 & 7 & 2 & 1 & 0.0 & 3.0 & 2.6 & 7.3 \\\\\n",
       "\t7 & 10 & 2 & 1 & 0.0 & 3.0 & 3.2 & 7.3 \\\\\n",
       "\t8 & 6 & 1 & 1 & 0.0 & 3.0 & 2.4 & 7.0 \\\\\n",
       "\t9 & 8 & 1 & 1 & 0.0 & 3.0 & 2.8 & 7.0 \\\\\n",
       "\t10 & 9 & 2 & 2 & 0.0 & 3.0 & 3.0 & 9.0 \\\\\n",
       "\\end{tabular}\n"
      ],
      "text/plain": [
       "\u001b[1m10×7 DataFrame\u001b[0m\n",
       "\u001b[1m Row \u001b[0m│\u001b[1m A     \u001b[0m\u001b[1m B     \u001b[0m\u001b[1m C     \u001b[0m\u001b[1m D        \u001b[0m\u001b[1m run      \u001b[0m\u001b[1m E         \u001b[0m\u001b[1m H         \u001b[0m\n",
       "\u001b[1m     \u001b[0m│\u001b[90m Int64 \u001b[0m\u001b[90m Int64 \u001b[0m\u001b[90m Int64 \u001b[0m\u001b[90m Float64? \u001b[0m\u001b[90m Float64? \u001b[0m\u001b[90m Float64?  \u001b[0m\u001b[90m Float64?  \u001b[0m\n",
       "─────┼───────────────────────────────────────────────────────────────\n",
       "   1 │     1      2      1       0.0       0.0 \u001b[90m missing   \u001b[0m\u001b[90m missing   \u001b[0m\n",
       "   2 │     2      1      2       0.0       0.0 \u001b[90m missing   \u001b[0m\u001b[90m missing   \u001b[0m\n",
       "   3 │     3      1      1       2.0       2.0        1.7 \u001b[90m missing   \u001b[0m\n",
       "   4 │     4      1      2       3.0       3.0        2.0        4.0\n",
       "   5 │     5      2      1       3.0       3.0        2.2        7.3\n",
       "   6 │     7      2      1       0.0       3.0        2.6        7.3\n",
       "   7 │    10      2      1       0.0       3.0        3.2        7.3\n",
       "   8 │     6      1      1       0.0       3.0        2.4        7.0\n",
       "   9 │     8      1      1       0.0       3.0        2.8        7.0\n",
       "  10 │     9      2      2       0.0       3.0        3.0        9.0"
      ]
     },
     "execution_count": 26,
     "metadata": {},
     "output_type": "execute_result"
    }
   ],
   "source": [
    "x"
   ]
  },
  {
   "cell_type": "markdown",
   "id": "premier-release",
   "metadata": {},
   "source": [
    "### Other Macros"
   ]
  },
  {
   "cell_type": "code",
   "execution_count": 60,
   "id": "fatal-billy",
   "metadata": {},
   "outputs": [
    {
     "data": {
      "text/plain": [
       "@transform! (macro with 2 methods)"
      ]
     },
     "execution_count": 60,
     "metadata": {},
     "output_type": "execute_result"
    }
   ],
   "source": [
    "macro transform!(x, args...)\n",
    "    quote\n",
    "        global $x\n",
    "        $x = @transform $x $(args...)\n",
    "    end\n",
    "end"
   ]
  },
  {
   "cell_type": "code",
   "execution_count": 61,
   "id": "surgical-ottawa",
   "metadata": {},
   "outputs": [
    {
     "data": {
      "text/html": [
       "<table class=\"data-frame\"><thead><tr><th></th><th>A</th><th>B</th><th>C</th><th>D</th><th>run</th><th>E</th><th>H</th><th>z</th></tr><tr><th></th><th>Int64</th><th>Int64</th><th>Int64</th><th>Float64?</th><th>Float64?</th><th>Float64?</th><th>Float64?</th><th>Int64</th></tr></thead><tbody><p>7 rows × 8 columns</p><tr><th>1</th><td>1</td><td>1</td><td>2</td><td>0.0</td><td>0.0</td><td><em>missing</em></td><td><em>missing</em></td><td>0</td></tr><tr><th>2</th><td>2</td><td>2</td><td>1</td><td>0.0</td><td>0.0</td><td><em>missing</em></td><td><em>missing</em></td><td>0</td></tr><tr><th>3</th><td>3</td><td>1</td><td>2</td><td>3.0</td><td>2.0</td><td>1.7</td><td><em>missing</em></td><td>0</td></tr><tr><th>4</th><td>4</td><td>2</td><td>1</td><td>3.0</td><td>3.0</td><td>2.0</td><td>5.3</td><td>0</td></tr><tr><th>5</th><td>5</td><td>2</td><td>1</td><td>3.0</td><td>3.0</td><td>2.2</td><td>5.3</td><td>0</td></tr><tr><th>6</th><td>6</td><td>1</td><td>2</td><td>0.0</td><td>3.0</td><td>2.4</td><td>6.0</td><td>0</td></tr><tr><th>7</th><td>7</td><td>2</td><td>1</td><td>0.0</td><td>3.0</td><td>2.6</td><td>5.3</td><td>0</td></tr></tbody></table>"
      ],
      "text/latex": [
       "\\begin{tabular}{r|cccccccc}\n",
       "\t& A & B & C & D & run & E & H & z\\\\\n",
       "\t\\hline\n",
       "\t& Int64 & Int64 & Int64 & Float64? & Float64? & Float64? & Float64? & Int64\\\\\n",
       "\t\\hline\n",
       "\t1 & 1 & 1 & 2 & 0.0 & 0.0 & \\emph{missing} & \\emph{missing} & 0 \\\\\n",
       "\t2 & 2 & 2 & 1 & 0.0 & 0.0 & \\emph{missing} & \\emph{missing} & 0 \\\\\n",
       "\t3 & 3 & 1 & 2 & 3.0 & 2.0 & 1.7 & \\emph{missing} & 0 \\\\\n",
       "\t4 & 4 & 2 & 1 & 3.0 & 3.0 & 2.0 & 5.3 & 0 \\\\\n",
       "\t5 & 5 & 2 & 1 & 3.0 & 3.0 & 2.2 & 5.3 & 0 \\\\\n",
       "\t6 & 6 & 1 & 2 & 0.0 & 3.0 & 2.4 & 6.0 & 0 \\\\\n",
       "\t7 & 7 & 2 & 1 & 0.0 & 3.0 & 2.6 & 5.3 & 0 \\\\\n",
       "\\end{tabular}\n"
      ],
      "text/plain": [
       "\u001b[1m7×8 DataFrame\u001b[0m\n",
       "\u001b[1m Row \u001b[0m│\u001b[1m A     \u001b[0m\u001b[1m B     \u001b[0m\u001b[1m C     \u001b[0m\u001b[1m D        \u001b[0m\u001b[1m run      \u001b[0m\u001b[1m E         \u001b[0m\u001b[1m H         \u001b[0m\u001b[1m z     \u001b[0m\n",
       "\u001b[1m     \u001b[0m│\u001b[90m Int64 \u001b[0m\u001b[90m Int64 \u001b[0m\u001b[90m Int64 \u001b[0m\u001b[90m Float64? \u001b[0m\u001b[90m Float64? \u001b[0m\u001b[90m Float64?  \u001b[0m\u001b[90m Float64?  \u001b[0m\u001b[90m Int64 \u001b[0m\n",
       "─────┼──────────────────────────────────────────────────────────────────────\n",
       "   1 │     1      1      2       0.0       0.0 \u001b[90m missing   \u001b[0m\u001b[90m missing   \u001b[0m     0\n",
       "   2 │     2      2      1       0.0       0.0 \u001b[90m missing   \u001b[0m\u001b[90m missing   \u001b[0m     0\n",
       "   3 │     3      1      2       3.0       2.0        1.7 \u001b[90m missing   \u001b[0m     0\n",
       "   4 │     4      2      1       3.0       3.0        2.0        5.3      0\n",
       "   5 │     5      2      1       3.0       3.0        2.2        5.3      0\n",
       "   6 │     6      1      2       0.0       3.0        2.4        6.0      0\n",
       "   7 │     7      2      1       0.0       3.0        2.6        5.3      0"
      ]
     },
     "execution_count": 61,
     "metadata": {},
     "output_type": "execute_result"
    }
   ],
   "source": [
    "@transform! x (z = 0)"
   ]
  },
  {
   "cell_type": "code",
   "execution_count": null,
   "id": "moral-republic",
   "metadata": {},
   "outputs": [],
   "source": []
  },
  {
   "cell_type": "code",
   "execution_count": 35,
   "id": "hourly-kernel",
   "metadata": {},
   "outputs": [
    {
     "data": {
      "text/plain": [
       "@mount (macro with 1 method)"
      ]
     },
     "execution_count": 35,
     "metadata": {},
     "output_type": "execute_result"
    }
   ],
   "source": [
    "macro mount(x)\n",
    "    quote\n",
    "        global mounted\n",
    "        mounted = copy($x)\n",
    "    end\n",
    "end"
   ]
  },
  {
   "cell_type": "code",
   "execution_count": 36,
   "id": "placed-assumption",
   "metadata": {},
   "outputs": [
    {
     "data": {
      "text/plain": [
       "@unmountas (macro with 1 method)"
      ]
     },
     "execution_count": 36,
     "metadata": {},
     "output_type": "execute_result"
    }
   ],
   "source": [
    "macro unmountas(x)\n",
    "    quote\n",
    "        global mounted, $x\n",
    "        $x = copy(mounted)\n",
    "    end\n",
    "end"
   ]
  },
  {
   "cell_type": "code",
   "execution_count": 37,
   "id": "increased-argentina",
   "metadata": {},
   "outputs": [
    {
     "data": {
      "text/plain": [
       "typenotfirst (generic function with 1 method)"
      ]
     },
     "execution_count": 37,
     "metadata": {},
     "output_type": "execute_result"
    }
   ],
   "source": [
    "function typenotfirst(x) \n",
    "    y = []\n",
    "    if (typeof(x) == Array{Any,1}) \n",
    "        for v in x[2:end]\n",
    "           (typeof(v) == Expr)         && append!(y, typenotfirst(v.args))\n",
    "           (typeof(v) != Array{Any,1}) && append!(y, [typeof(v)])\n",
    "        end\n",
    "    end\n",
    "    return(unique(y))\n",
    "end"
   ]
  },
  {
   "cell_type": "code",
   "execution_count": 38,
   "id": "protective-regular",
   "metadata": {},
   "outputs": [
    {
     "name": "stdout",
     "output_type": "stream",
     "text": [
      "(:(iff(:A > :B)), :(iff = :A > :B))\n",
      "(:head, :args)\n",
      "Any[:iff, :(:A > :B)]\n",
      "ee[1].head = call\n",
      "typeof(ee[1].head)Symbol\n",
      "ee[1].head = =\n",
      "typeof(ee[1].head)Symbol\n",
      "Any[:g, :(:A > :B)]\n",
      "=\n",
      "(:(iff = :A > :B), :(g = :A > :B))\n",
      "Any[:iff, :(:A > :B)]\n",
      "true\n",
      "Vector{Expr}\n"
     ]
    }
   ],
   "source": [
    "macro printargs(ee...)\n",
    "    println(ee)\n",
    "    println(fieldnames(typeof(ee[1])))\n",
    "    \n",
    "    println(ee[1].args)\n",
    "    println(\"ee[1].head = \", ee[1].head)\n",
    "    println(\"typeof(ee[1].head)\", typeof(ee[1].head))\n",
    "    ee[1].head = :(=)\n",
    "    \n",
    "    println(\"ee[1].head = \", ee[1].head)\n",
    "    println(\"typeof(ee[1].head)\", typeof(ee[1].head))\n",
    "\n",
    "    ee[2].args[1] = :g\n",
    "    \n",
    "    println(ee[2].args)\n",
    "    println(ee[2].head)\n",
    "    println(ee)\n",
    "    \n",
    "    println(ee[1].args)\n",
    "    println(ee[1].args[2:end] == ee[2].args[2:end])\n",
    "    println(typeof(Expr.(Symbol.(ee[1].args[2:end]))))\n",
    "end\n",
    "@printargs iff(:A > :B) iff = :A > :B\n"
   ]
  },
  {
   "cell_type": "code",
   "execution_count": 40,
   "id": "lesser-distributor",
   "metadata": {},
   "outputs": [
    {
     "name": "stdout",
     "output_type": "stream",
     "text": [
      "(:(iff(:A > :B)), :(iff = :A > :B))\n",
      "(:head, :args)\n",
      "Any[:iff, :(:A > :B)]\n",
      "ee[1].head = call\n",
      "typeof(ee[1].head)Symbol\n",
      "ee[1].head = =\n",
      "typeof(ee[1].head)Symbol\n",
      "Any[:g, :(:A > :B)]\n",
      "=\n",
      "(:(iff = :A > :B), :(g = :A > :B))\n",
      "Any[:iff, :(:A > :B)]\n",
      "true\n",
      "Vector{Expr}\n"
     ]
    }
   ],
   "source": [
    "@printargs iff(:A > :B) iff = :A > :B"
   ]
  },
  {
   "cell_type": "code",
   "execution_count": 41,
   "id": "dominican-kentucky",
   "metadata": {},
   "outputs": [
    {
     "data": {
      "text/plain": [
       "@notfirst (macro with 1 method)"
      ]
     },
     "execution_count": 41,
     "metadata": {},
     "output_type": "execute_result"
    }
   ],
   "source": [
    "macro notfirst(ee...)\n",
    "    println(ee)\n",
    "    println(\"typeof($(ee.args[1])) = \", typeof(ee.args[1]), \" \"^10\n",
    "        ,\"isidentifier($(ee.args[1])) = \", Base.isidentifier(ee.args[1]))\n",
    "    println(typeof(ee.args[2]))\n",
    "#     global y\n",
    "#     y = []\n",
    "    x = typenotfirst(ee.args)\n",
    "    println(\"$x contains QuoteNode: \", QuoteNode in x)\n",
    "end"
   ]
  },
  {
   "cell_type": "code",
   "execution_count": 42,
   "id": "daily-quantum",
   "metadata": {},
   "outputs": [
    {
     "data": {
      "text/plain": [
       "@gby (macro with 1 method)"
      ]
     },
     "execution_count": 42,
     "metadata": {},
     "output_type": "execute_result"
    }
   ],
   "source": [
    "macro gby(ee...)\n",
    "    println(ee)\n",
    "\n",
    "    iffs = [v for v in ee if v.args[1] == :iff ]\n",
    "    bys  = [v for v in ee if v.args[1] == :by ]\n",
    "    \n",
    "    println(\"iffs $iffs\")\n",
    "    println(\"bys  $bys\")\n",
    "    \n",
    "    (length(bys) > 0) && (groupbys = bys[1].args[2:end])\n",
    "    \n",
    "    quote\n",
    "        global mounted\n",
    "        mounted = groupby(mounted, [$(groupbys...)])\n",
    "    end\n",
    "end"
   ]
  },
  {
   "cell_type": "code",
   "execution_count": 43,
   "id": "economic-gasoline",
   "metadata": {},
   "outputs": [
    {
     "data": {
      "text/plain": [
       "@p (macro with 1 method)"
      ]
     },
     "execution_count": 43,
     "metadata": {},
     "output_type": "execute_result"
    }
   ],
   "source": [
    "macro p(ee...)\n",
    "    println(ee[1])\n",
    "    println(ee[1].args)\n",
    "end"
   ]
  },
  {
   "cell_type": "code",
   "execution_count": 44,
   "id": "about-gross",
   "metadata": {},
   "outputs": [
    {
     "name": "stdout",
     "output_type": "stream",
     "text": [
      "(:if)(x)\n",
      "Any[:(:if), :x]\n"
     ]
    }
   ],
   "source": [
    "@p :if(x) "
   ]
  },
  {
   "cell_type": "code",
   "execution_count": 45,
   "id": "august-community",
   "metadata": {},
   "outputs": [
    {
     "data": {
      "text/plain": [
       ":(print($(Expr(:a, :b, :c))))"
      ]
     },
     "execution_count": 45,
     "metadata": {},
     "output_type": "execute_result"
    }
   ],
   "source": [
    "x = Expr(:a,:b,:c)\n",
    "return :( print($x) )"
   ]
  },
  {
   "cell_type": "code",
   "execution_count": 46,
   "id": "featured-strip",
   "metadata": {},
   "outputs": [
    {
     "name": "stdout",
     "output_type": "stream",
     "text": [
      "(:(by(:a .> :B)),)\n",
      "iffs Expr[]\n",
      "bys  Expr[:(by(:a .> :B))]\n"
     ]
    },
    {
     "ename": "LoadError",
     "evalue": "UndefVarError: mounted not defined",
     "output_type": "error",
     "traceback": [
      "UndefVarError: mounted not defined",
      "",
      "Stacktrace:",
      " [1] top-level scope",
      "   @ In[42]:14",
      " [2] eval",
      "   @ .\\boot.jl:360 [inlined]",
      " [3] include_string(mapexpr::typeof(REPL.softscope), mod::Module, code::String, filename::String)",
      "   @ Base .\\loading.jl:1094"
     ]
    }
   ],
   "source": [
    "@gby by(:a .> :B)"
   ]
  },
  {
   "cell_type": "code",
   "execution_count": 17,
   "id": "handled-austria",
   "metadata": {},
   "outputs": [
    {
     "data": {
      "text/plain": [
       "r\"^(by)\\(\""
      ]
     },
     "execution_count": 17,
     "metadata": {},
     "output_type": "execute_result"
    }
   ],
   "source": [
    "    iffset = r\"^(iff|when|\\(:if\\))\\(\"\n",
    "    byset  = r\"^(by)\\(\"\n"
   ]
  },
  {
   "cell_type": "code",
   "execution_count": 18,
   "id": "employed-indication",
   "metadata": {},
   "outputs": [
    {
     "ename": "LoadError",
     "evalue": "UndefVarError: instance not defined",
     "output_type": "error",
     "traceback": [
      "UndefVarError: instance not defined",
      "",
      "Stacktrace:",
      " [1] top-level scope",
      "   @ :0",
      " [2] eval",
      "   @ .\\boot.jl:360 [inlined]",
      " [3] include_string(mapexpr::typeof(REPL.softscope), mod::Module, code::String, filename::String)",
      "   @ Base .\\loading.jl:1094"
     ]
    }
   ],
   "source": [
    "instance"
   ]
  },
  {
   "cell_type": "code",
   "execution_count": 18,
   "id": "latter-kernel",
   "metadata": {
    "scrolled": true
   },
   "outputs": [
    {
     "data": {
      "text/html": [
       "<table class=\"data-frame\"><thead><tr><th></th><th>a</th><th>b</th><th>c</th><th>D</th><th>run</th><th>E</th><th>H</th></tr><tr><th></th><th>Int64</th><th>Int64</th><th>Int64</th><th>Float64?</th><th>Float64?</th><th>Float64?</th><th>Float64?</th></tr></thead><tbody><p>7 rows × 7 columns</p><tr><th>1</th><td>1</td><td>1</td><td>1</td><td>0.0</td><td>0.0</td><td><em>missing</em></td><td><em>missing</em></td></tr><tr><th>2</th><td>2</td><td>2</td><td>1</td><td>0.0</td><td>0.0</td><td><em>missing</em></td><td><em>missing</em></td></tr><tr><th>3</th><td>3</td><td>2</td><td>2</td><td>4.0</td><td>1.0</td><td><em>missing</em></td><td><em>missing</em></td></tr><tr><th>4</th><td>4</td><td>1</td><td>2</td><td>3.0</td><td>3.0</td><td>2.0</td><td>4.0</td></tr><tr><th>5</th><td>5</td><td>1</td><td>1</td><td>2.0</td><td>3.0</td><td>2.2</td><td>5.5</td></tr><tr><th>6</th><td>6</td><td>1</td><td>1</td><td>0.0</td><td>3.0</td><td>2.4</td><td>5.5</td></tr><tr><th>7</th><td>7</td><td>2</td><td>2</td><td>0.0</td><td>3.0</td><td>2.6</td><td>7.0</td></tr></tbody></table>"
      ],
      "text/latex": [
       "\\begin{tabular}{r|ccccccc}\n",
       "\t& a & b & c & D & run & E & H\\\\\n",
       "\t\\hline\n",
       "\t& Int64 & Int64 & Int64 & Float64? & Float64? & Float64? & Float64?\\\\\n",
       "\t\\hline\n",
       "\t1 & 1 & 1 & 1 & 0.0 & 0.0 & \\emph{missing} & \\emph{missing} \\\\\n",
       "\t2 & 2 & 2 & 1 & 0.0 & 0.0 & \\emph{missing} & \\emph{missing} \\\\\n",
       "\t3 & 3 & 2 & 2 & 4.0 & 1.0 & \\emph{missing} & \\emph{missing} \\\\\n",
       "\t4 & 4 & 1 & 2 & 3.0 & 3.0 & 2.0 & 4.0 \\\\\n",
       "\t5 & 5 & 1 & 1 & 2.0 & 3.0 & 2.2 & 5.5 \\\\\n",
       "\t6 & 6 & 1 & 1 & 0.0 & 3.0 & 2.4 & 5.5 \\\\\n",
       "\t7 & 7 & 2 & 2 & 0.0 & 3.0 & 2.6 & 7.0 \\\\\n",
       "\\end{tabular}\n"
      ],
      "text/plain": [
       "\u001b[1m7×7 DataFrame\u001b[0m\n",
       "\u001b[1m Row \u001b[0m│\u001b[1m a     \u001b[0m\u001b[1m b     \u001b[0m\u001b[1m c     \u001b[0m\u001b[1m D        \u001b[0m\u001b[1m run      \u001b[0m\u001b[1m E         \u001b[0m\u001b[1m H         \u001b[0m\n",
       "\u001b[1m     \u001b[0m│\u001b[90m Int64 \u001b[0m\u001b[90m Int64 \u001b[0m\u001b[90m Int64 \u001b[0m\u001b[90m Float64? \u001b[0m\u001b[90m Float64? \u001b[0m\u001b[90m Float64?  \u001b[0m\u001b[90m Float64?  \u001b[0m\n",
       "─────┼───────────────────────────────────────────────────────────────\n",
       "   1 │     1      1      1       0.0       0.0 \u001b[90m missing   \u001b[0m\u001b[90m missing   \u001b[0m\n",
       "   2 │     2      2      1       0.0       0.0 \u001b[90m missing   \u001b[0m\u001b[90m missing   \u001b[0m\n",
       "   3 │     3      2      2       4.0       1.0 \u001b[90m missing   \u001b[0m\u001b[90m missing   \u001b[0m\n",
       "   4 │     4      1      2       3.0       3.0        2.0        4.0\n",
       "   5 │     5      1      1       2.0       3.0        2.2        5.5\n",
       "   6 │     6      1      1       0.0       3.0        2.4        5.5\n",
       "   7 │     7      2      2       0.0       3.0        2.6        7.0"
      ]
     },
     "execution_count": 18,
     "metadata": {},
     "output_type": "execute_result"
    }
   ],
   "source": [
    "rename!(x, :A=>:a, :B=>:b, :C=>:c)"
   ]
  },
  {
   "cell_type": "code",
   "execution_count": 20,
   "id": "suitable-settlement",
   "metadata": {},
   "outputs": [
    {
     "data": {
      "text/html": [
       "<table class=\"data-frame\"><thead><tr><th></th><th>a</th><th>b</th><th>c</th><th>D</th><th>run</th><th>E</th><th>H</th><th>s</th></tr><tr><th></th><th>Int64</th><th>Int64</th><th>Int64</th><th>Float64?</th><th>Float64?</th><th>Float64?</th><th>Float64?</th><th>Float64?</th></tr></thead><tbody><p>7 rows × 8 columns</p><tr><th>1</th><td>1</td><td>1</td><td>1</td><td>0.0</td><td>0.0</td><td><em>missing</em></td><td><em>missing</em></td><td>0.0</td></tr><tr><th>2</th><td>2</td><td>2</td><td>1</td><td>0.0</td><td>0.0</td><td><em>missing</em></td><td><em>missing</em></td><td>0.0</td></tr><tr><th>3</th><td>3</td><td>2</td><td>2</td><td>4.0</td><td>1.0</td><td><em>missing</em></td><td><em>missing</em></td><td>0.0</td></tr><tr><th>4</th><td>4</td><td>1</td><td>2</td><td>3.0</td><td>3.0</td><td>2.0</td><td>4.0</td><td>0.0</td></tr><tr><th>5</th><td>5</td><td>1</td><td>1</td><td>2.0</td><td>3.0</td><td>2.2</td><td>5.5</td><td>0.0</td></tr><tr><th>6</th><td>6</td><td>1</td><td>1</td><td>0.0</td><td>3.0</td><td>2.4</td><td>5.5</td><td>0.0</td></tr><tr><th>7</th><td>7</td><td>2</td><td>2</td><td>0.0</td><td>3.0</td><td>2.6</td><td>7.0</td><td>0.0</td></tr></tbody></table>"
      ],
      "text/latex": [
       "\\begin{tabular}{r|cccccccc}\n",
       "\t& a & b & c & D & run & E & H & s\\\\\n",
       "\t\\hline\n",
       "\t& Int64 & Int64 & Int64 & Float64? & Float64? & Float64? & Float64? & Float64?\\\\\n",
       "\t\\hline\n",
       "\t1 & 1 & 1 & 1 & 0.0 & 0.0 & \\emph{missing} & \\emph{missing} & 0.0 \\\\\n",
       "\t2 & 2 & 2 & 1 & 0.0 & 0.0 & \\emph{missing} & \\emph{missing} & 0.0 \\\\\n",
       "\t3 & 3 & 2 & 2 & 4.0 & 1.0 & \\emph{missing} & \\emph{missing} & 0.0 \\\\\n",
       "\t4 & 4 & 1 & 2 & 3.0 & 3.0 & 2.0 & 4.0 & 0.0 \\\\\n",
       "\t5 & 5 & 1 & 1 & 2.0 & 3.0 & 2.2 & 5.5 & 0.0 \\\\\n",
       "\t6 & 6 & 1 & 1 & 0.0 & 3.0 & 2.4 & 5.5 & 0.0 \\\\\n",
       "\t7 & 7 & 2 & 2 & 0.0 & 3.0 & 2.6 & 7.0 & 0.0 \\\\\n",
       "\\end{tabular}\n"
      ],
      "text/plain": [
       "\u001b[1m7×8 DataFrame\u001b[0m\n",
       "\u001b[1m Row \u001b[0m│\u001b[1m a     \u001b[0m\u001b[1m b     \u001b[0m\u001b[1m c     \u001b[0m\u001b[1m D        \u001b[0m\u001b[1m run      \u001b[0m\u001b[1m E         \u001b[0m\u001b[1m H         \u001b[0m\u001b[1m s       \u001b[0m ⋯\n",
       "\u001b[1m     \u001b[0m│\u001b[90m Int64 \u001b[0m\u001b[90m Int64 \u001b[0m\u001b[90m Int64 \u001b[0m\u001b[90m Float64? \u001b[0m\u001b[90m Float64? \u001b[0m\u001b[90m Float64?  \u001b[0m\u001b[90m Float64?  \u001b[0m\u001b[90m Float64?\u001b[0m ⋯\n",
       "─────┼──────────────────────────────────────────────────────────────────────────\n",
       "   1 │     1      1      1       0.0       0.0 \u001b[90m missing   \u001b[0m\u001b[90m missing   \u001b[0m      0.0 ⋯\n",
       "   2 │     2      2      1       0.0       0.0 \u001b[90m missing   \u001b[0m\u001b[90m missing   \u001b[0m      0.0\n",
       "   3 │     3      2      2       4.0       1.0 \u001b[90m missing   \u001b[0m\u001b[90m missing   \u001b[0m      0.0\n",
       "   4 │     4      1      2       3.0       3.0        2.0        4.0       0.0\n",
       "   5 │     5      1      1       2.0       3.0        2.2        5.5       0.0 ⋯\n",
       "   6 │     6      1      1       0.0       3.0        2.4        5.5       0.0\n",
       "   7 │     7      2      2       0.0       3.0        2.6        7.0       0.0"
      ]
     },
     "execution_count": 20,
     "metadata": {},
     "output_type": "execute_result"
    }
   ],
   "source": [
    "@mod x  s = 0.0"
   ]
  },
  {
   "cell_type": "code",
   "execution_count": 22,
   "id": "controlled-chinese",
   "metadata": {},
   "outputs": [
    {
     "data": {
      "text/html": [
       "<table class=\"data-frame\"><thead><tr><th></th><th>a</th><th>b</th><th>c</th><th>D</th><th>run</th><th>E</th><th>H</th><th>somevar</th></tr><tr><th></th><th>Int64</th><th>Int64</th><th>Int64</th><th>Float64?</th><th>Float64?</th><th>Float64?</th><th>Float64?</th><th>Float64?</th></tr></thead><tbody><p>7 rows × 8 columns</p><tr><th>1</th><td>1</td><td>1</td><td>1</td><td>0.0</td><td>0.0</td><td><em>missing</em></td><td><em>missing</em></td><td><em>missing</em></td></tr><tr><th>2</th><td>2</td><td>2</td><td>1</td><td>0.0</td><td>0.0</td><td><em>missing</em></td><td><em>missing</em></td><td><em>missing</em></td></tr><tr><th>3</th><td>3</td><td>2</td><td>2</td><td>4.0</td><td>1.0</td><td><em>missing</em></td><td><em>missing</em></td><td><em>missing</em></td></tr><tr><th>4</th><td>4</td><td>1</td><td>2</td><td>3.0</td><td>3.0</td><td>2.0</td><td>4.0</td><td>8.0</td></tr><tr><th>5</th><td>5</td><td>1</td><td>1</td><td>2.0</td><td>3.0</td><td>2.2</td><td>5.5</td><td>11.0</td></tr><tr><th>6</th><td>6</td><td>1</td><td>1</td><td>0.0</td><td>3.0</td><td>2.4</td><td>5.5</td><td>14.4</td></tr><tr><th>7</th><td>7</td><td>2</td><td>2</td><td>0.0</td><td>3.0</td><td>2.6</td><td>7.0</td><td>18.2</td></tr></tbody></table>"
      ],
      "text/latex": [
       "\\begin{tabular}{r|cccccccc}\n",
       "\t& a & b & c & D & run & E & H & somevar\\\\\n",
       "\t\\hline\n",
       "\t& Int64 & Int64 & Int64 & Float64? & Float64? & Float64? & Float64? & Float64?\\\\\n",
       "\t\\hline\n",
       "\t1 & 1 & 1 & 1 & 0.0 & 0.0 & \\emph{missing} & \\emph{missing} & \\emph{missing} \\\\\n",
       "\t2 & 2 & 2 & 1 & 0.0 & 0.0 & \\emph{missing} & \\emph{missing} & \\emph{missing} \\\\\n",
       "\t3 & 3 & 2 & 2 & 4.0 & 1.0 & \\emph{missing} & \\emph{missing} & \\emph{missing} \\\\\n",
       "\t4 & 4 & 1 & 2 & 3.0 & 3.0 & 2.0 & 4.0 & 8.0 \\\\\n",
       "\t5 & 5 & 1 & 1 & 2.0 & 3.0 & 2.2 & 5.5 & 11.0 \\\\\n",
       "\t6 & 6 & 1 & 1 & 0.0 & 3.0 & 2.4 & 5.5 & 14.4 \\\\\n",
       "\t7 & 7 & 2 & 2 & 0.0 & 3.0 & 2.6 & 7.0 & 18.2 \\\\\n",
       "\\end{tabular}\n"
      ],
      "text/plain": [
       "\u001b[1m7×8 DataFrame\u001b[0m\n",
       "\u001b[1m Row \u001b[0m│\u001b[1m a     \u001b[0m\u001b[1m b     \u001b[0m\u001b[1m c     \u001b[0m\u001b[1m D        \u001b[0m\u001b[1m run      \u001b[0m\u001b[1m E         \u001b[0m\u001b[1m H         \u001b[0m\u001b[1m somevar \u001b[0m ⋯\n",
       "\u001b[1m     \u001b[0m│\u001b[90m Int64 \u001b[0m\u001b[90m Int64 \u001b[0m\u001b[90m Int64 \u001b[0m\u001b[90m Float64? \u001b[0m\u001b[90m Float64? \u001b[0m\u001b[90m Float64?  \u001b[0m\u001b[90m Float64?  \u001b[0m\u001b[90m Float64?\u001b[0m ⋯\n",
       "─────┼──────────────────────────────────────────────────────────────────────────\n",
       "   1 │     1      1      1       0.0       0.0 \u001b[90m missing   \u001b[0m\u001b[90m missing   \u001b[0m\u001b[90m missing \u001b[0m ⋯\n",
       "   2 │     2      2      1       0.0       0.0 \u001b[90m missing   \u001b[0m\u001b[90m missing   \u001b[0m\u001b[90m missing\u001b[0m\n",
       "   3 │     3      2      2       4.0       1.0 \u001b[90m missing   \u001b[0m\u001b[90m missing   \u001b[0m\u001b[90m missing\u001b[0m\n",
       "   4 │     4      1      2       3.0       3.0        2.0        4.0        8.\n",
       "   5 │     5      1      1       2.0       3.0        2.2        5.5       11. ⋯\n",
       "   6 │     6      1      1       0.0       3.0        2.4        5.5       14.\n",
       "   7 │     7      2      2       0.0       3.0        2.6        7.0       18.\n",
       "\u001b[36m                                                                1 column omitted\u001b[0m"
      ]
     },
     "execution_count": 22,
     "metadata": {},
     "output_type": "execute_result"
    }
   ],
   "source": [
    "@mod x  somevar = :a .* :E"
   ]
  },
  {
   "cell_type": "code",
   "execution_count": null,
   "id": "official-elevation",
   "metadata": {},
   "outputs": [],
   "source": []
  },
  {
   "cell_type": "code",
   "execution_count": 46,
   "id": "occasional-compact",
   "metadata": {},
   "outputs": [
    {
     "data": {
      "text/html": [
       "<table class=\"data-frame\"><thead><tr><th></th><th>A</th><th>B</th><th>C</th><th>D</th><th>E</th><th>H</th></tr><tr><th></th><th>Int64</th><th>Int64</th><th>Int64</th><th>Float64?</th><th>Float64?</th><th>Float64?</th></tr></thead><tbody><p>7 rows × 6 columns</p><tr><th>1</th><td>1</td><td>2</td><td>1</td><td><em>missing</em></td><td><em>missing</em></td><td><em>missing</em></td></tr><tr><th>2</th><td>2</td><td>2</td><td>2</td><td><em>missing</em></td><td><em>missing</em></td><td><em>missing</em></td></tr><tr><th>3</th><td>3</td><td>2</td><td>1</td><td>3.0</td><td><em>missing</em></td><td>5.0</td></tr><tr><th>4</th><td>5</td><td>2</td><td>1</td><td>3.0</td><td>2.2</td><td>5.0</td></tr><tr><th>5</th><td>7</td><td>2</td><td>2</td><td><em>missing</em></td><td>2.6</td><td>5.0</td></tr><tr><th>6</th><td>4</td><td>1</td><td>2</td><td>3.0</td><td>2.0</td><td>5.0</td></tr><tr><th>7</th><td>6</td><td>1</td><td>1</td><td><em>missing</em></td><td>2.4</td><td>5.0</td></tr></tbody></table>"
      ],
      "text/latex": [
       "\\begin{tabular}{r|cccccc}\n",
       "\t& A & B & C & D & E & H\\\\\n",
       "\t\\hline\n",
       "\t& Int64 & Int64 & Int64 & Float64? & Float64? & Float64?\\\\\n",
       "\t\\hline\n",
       "\t1 & 1 & 2 & 1 & \\emph{missing} & \\emph{missing} & \\emph{missing} \\\\\n",
       "\t2 & 2 & 2 & 2 & \\emph{missing} & \\emph{missing} & \\emph{missing} \\\\\n",
       "\t3 & 3 & 2 & 1 & 3.0 & \\emph{missing} & 5.0 \\\\\n",
       "\t4 & 5 & 2 & 1 & 3.0 & 2.2 & 5.0 \\\\\n",
       "\t5 & 7 & 2 & 2 & \\emph{missing} & 2.6 & 5.0 \\\\\n",
       "\t6 & 4 & 1 & 2 & 3.0 & 2.0 & 5.0 \\\\\n",
       "\t7 & 6 & 1 & 1 & \\emph{missing} & 2.4 & 5.0 \\\\\n",
       "\\end{tabular}\n"
      ],
      "text/plain": [
       "7×6 DataFrame\n",
       "│ Row │ A     │ B     │ C     │ D        │ E        │ H        │\n",
       "│     │ \u001b[90mInt64\u001b[39m │ \u001b[90mInt64\u001b[39m │ \u001b[90mInt64\u001b[39m │ \u001b[90mFloat64?\u001b[39m │ \u001b[90mFloat64?\u001b[39m │ \u001b[90mFloat64?\u001b[39m │\n",
       "├─────┼───────┼───────┼───────┼──────────┼──────────┼──────────┤\n",
       "│ 1   │ 1     │ 2     │ 1     │ \u001b[90mmissing\u001b[39m  │ \u001b[90mmissing\u001b[39m  │ \u001b[90mmissing\u001b[39m  │\n",
       "│ 2   │ 2     │ 2     │ 2     │ \u001b[90mmissing\u001b[39m  │ \u001b[90mmissing\u001b[39m  │ \u001b[90mmissing\u001b[39m  │\n",
       "│ 3   │ 3     │ 2     │ 1     │ 3.0      │ \u001b[90mmissing\u001b[39m  │ 5.0      │\n",
       "│ 4   │ 5     │ 2     │ 1     │ 3.0      │ 2.2      │ 5.0      │\n",
       "│ 5   │ 7     │ 2     │ 2     │ \u001b[90mmissing\u001b[39m  │ 2.6      │ 5.0      │\n",
       "│ 6   │ 4     │ 1     │ 2     │ 3.0      │ 2.0      │ 5.0      │\n",
       "│ 7   │ 6     │ 1     │ 1     │ \u001b[90mmissing\u001b[39m  │ 2.4      │ 5.0      │"
      ]
     },
     "execution_count": 46,
     "metadata": {},
     "output_type": "execute_result"
    }
   ],
   "source": [
    "x"
   ]
  },
  {
   "cell_type": "code",
   "execution_count": 167,
   "id": "julian-marathon",
   "metadata": {},
   "outputs": [
    {
     "data": {
      "text/plain": [
       "\"QuoteNode\""
      ]
     },
     "execution_count": 167,
     "metadata": {},
     "output_type": "execute_result"
    }
   ],
   "source": [
    "string(QuoteNode)"
   ]
  },
  {
   "cell_type": "code",
   "execution_count": 184,
   "id": "geological-civilization",
   "metadata": {
    "scrolled": true
   },
   "outputs": [
    {
     "data": {
      "text/plain": [
       "@byprint (macro with 1 method)"
      ]
     },
     "execution_count": 184,
     "metadata": {},
     "output_type": "execute_result"
    }
   ],
   "source": [
    "macro byprint(df, args...)\n",
    "    \n",
    "    println(args[1])\n",
    "    println(typeof(args[1]))\n",
    "    println(args[1].args)\n",
    "    println(typeof.(args[1].args))\n",
    "    println(QuoteNode.(string.(args[1].args[2:end])))\n",
    "    \n",
    "    targets = [v for v in args if !(occursin(r\"^(iff|by)\\(\", string(v))) ]\n",
    "    iffs    = [v for v in args if   string(v)[1:4] == \"iff(\" ]\n",
    "    bys     = [v for v in args if   string(v)[1:3] == \"by(\"  ]\n",
    "    \n",
    "    (length(iffs) > 1) && throw(\"Only one `iff()` allowed! Group multiple with `.&`.\")\n",
    "    (length(bys)  > 1) && throw(\"Only one `by()`  allowed! Group multiple by with `,`.\")\n",
    "    \n",
    "    (length(iffs) == 1) && (iffs[1].head = :(=))\n",
    "    \n",
    "    byprint = []\n",
    "    (length(bys)  == 1) && (byprint = (x -> eval(x)).(bys[1].args[2:end]))\n",
    "    \n",
    "    quote\n",
    "        groupby($df, [$byprint...])\n",
    "    end\n",
    "    \n",
    "end"
   ]
  },
  {
   "cell_type": "code",
   "execution_count": 183,
   "id": "static-albany",
   "metadata": {},
   "outputs": [
    {
     "data": {
      "text/plain": [
       "1-element Vector{Symbol}:\n",
       " :B"
      ]
     },
     "execution_count": 183,
     "metadata": {},
     "output_type": "execute_result"
    }
   ],
   "source": [
    "(x -> eval(x)).([:(:B)])"
   ]
  },
  {
   "cell_type": "code",
   "execution_count": 180,
   "id": "divided-development",
   "metadata": {},
   "outputs": [
    {
     "data": {
      "text/plain": [
       ":B"
      ]
     },
     "execution_count": 180,
     "metadata": {},
     "output_type": "execute_result"
    }
   ],
   "source": [
    "eval(:(:B))"
   ]
  },
  {
   "cell_type": "code",
   "execution_count": 185,
   "id": "outdoor-handle",
   "metadata": {},
   "outputs": [
    {
     "name": "stdout",
     "output_type": "stream",
     "text": [
      "by(:B, :C)\n",
      "Expr\n",
      "Any[:by, :(:B), :(:C)]\n",
      "DataType[Symbol, QuoteNode, QuoteNode]\n",
      "QuoteNode[:($(QuoteNode(\":B\"))), :($(QuoteNode(\":C\")))]\n"
     ]
    },
    {
     "data": {
      "text/html": [
       "<p><b>GroupedDataFrame with 4 groups based on keys: B, C</b></p><p><i>First Group (2 rows): B = 2, C = 2</i></p><table class=\"data-frame\"><thead><tr><th></th><th>A</th><th>B</th><th>C</th><th>D</th><th>E</th><th>H</th></tr><tr><th></th><th>Int64</th><th>Int64</th><th>Int64</th><th>Float64?</th><th>Float64?</th><th>Float64?</th></tr></thead><tbody><tr><th>1</th><td>1</td><td>2</td><td>2</td><td><em>missing</em></td><td><em>missing</em></td><td><em>missing</em></td></tr><tr><th>2</th><td>6</td><td>2</td><td>2</td><td><em>missing</em></td><td>2.4</td><td>6.0</td></tr></tbody></table><p>&vellip;</p><p><i>Last Group (1 row): B = 2, C = 1</i></p><table class=\"data-frame\"><thead><tr><th></th><th>A</th><th>B</th><th>C</th><th>D</th><th>E</th><th>H</th></tr><tr><th></th><th>Int64</th><th>Int64</th><th>Int64</th><th>Float64?</th><th>Float64?</th><th>Float64?</th></tr></thead><tbody><tr><th>1</th><td>7</td><td>2</td><td>1</td><td><em>missing</em></td><td>2.6</td><td>7.0</td></tr></tbody></table>"
      ],
      "text/latex": [
       "GroupedDataFrame with 4 groups based on keys: B, C\n",
       "\n",
       "First Group (2 rows): B = 2, C = 2\n",
       "\n",
       "\\begin{tabular}{r|cccccc}\n",
       "\t& A & B & C & D & E & H\\\\\n",
       "\t\\hline\n",
       "\t& Int64 & Int64 & Int64 & Float64? & Float64? & Float64?\\\\\n",
       "\t\\hline\n",
       "\t1 & 1 & 2 & 2 & \\emph{missing} & \\emph{missing} & \\emph{missing} \\\\\n",
       "\t2 & 6 & 2 & 2 & \\emph{missing} & 2.4 & 6.0 \\\\\n",
       "\\end{tabular}\n",
       "\n",
       "$\\dots$\n",
       "\n",
       "Last Group (1 row): B = 2, C = 1\n",
       "\n",
       "\\begin{tabular}{r|cccccc}\n",
       "\t& A & B & C & D & E & H\\\\\n",
       "\t\\hline\n",
       "\t& Int64 & Int64 & Int64 & Float64? & Float64? & Float64?\\\\\n",
       "\t\\hline\n",
       "\t1 & 7 & 2 & 1 & \\emph{missing} & 2.6 & 7.0 \\\\\n",
       "\\end{tabular}\n"
      ],
      "text/plain": [
       "GroupedDataFrame with 4 groups based on keys: B, C\n",
       "First Group (2 rows): B = 2, C = 2\n",
       "│ Row │ A     │ B     │ C     │ D        │ E        │ H        │\n",
       "│     │ \u001b[90mInt64\u001b[39m │ \u001b[90mInt64\u001b[39m │ \u001b[90mInt64\u001b[39m │ \u001b[90mFloat64?\u001b[39m │ \u001b[90mFloat64?\u001b[39m │ \u001b[90mFloat64?\u001b[39m │\n",
       "├─────┼───────┼───────┼───────┼──────────┼──────────┼──────────┤\n",
       "│ 1   │ 1     │ 2     │ 2     │ \u001b[90mmissing\u001b[39m  │ \u001b[90mmissing\u001b[39m  │ \u001b[90mmissing\u001b[39m  │\n",
       "│ 2   │ 6     │ 2     │ 2     │ \u001b[90mmissing\u001b[39m  │ 2.4      │ 6.0      │\n",
       "⋮\n",
       "Last Group (1 row): B = 2, C = 1\n",
       "│ Row │ A     │ B     │ C     │ D        │ E        │ H        │\n",
       "│     │ \u001b[90mInt64\u001b[39m │ \u001b[90mInt64\u001b[39m │ \u001b[90mInt64\u001b[39m │ \u001b[90mFloat64?\u001b[39m │ \u001b[90mFloat64?\u001b[39m │ \u001b[90mFloat64?\u001b[39m │\n",
       "├─────┼───────┼───────┼───────┼──────────┼──────────┼──────────┤\n",
       "│ 1   │ 7     │ 2     │ 1     │ \u001b[90mmissing\u001b[39m  │ 2.6      │ 7.0      │"
      ]
     },
     "execution_count": 185,
     "metadata": {},
     "output_type": "execute_result"
    }
   ],
   "source": [
    "@byprint x   by(:B, :C)  G = round(mean(:A),digits = 1)          iff(:A .> 2)"
   ]
  },
  {
   "cell_type": "code",
   "execution_count": 155,
   "id": "peripheral-madagascar",
   "metadata": {},
   "outputs": [
    {
     "name": "stdout",
     "output_type": "stream",
     "text": [
      "by(B, C)\n",
      "Expr\n",
      "Any[:by, :B, :C]\n"
     ]
    },
    {
     "data": {
      "text/html": [
       "<p><b>GroupedDataFrame with 4 groups based on keys: B, C</b></p><p><i>First Group (2 rows): B = 2, C = 2</i></p><table class=\"data-frame\"><thead><tr><th></th><th>A</th><th>B</th><th>C</th><th>D</th><th>E</th><th>H</th></tr><tr><th></th><th>Int64</th><th>Int64</th><th>Int64</th><th>Float64?</th><th>Float64?</th><th>Float64?</th></tr></thead><tbody><tr><th>1</th><td>1</td><td>2</td><td>2</td><td><em>missing</em></td><td><em>missing</em></td><td><em>missing</em></td></tr><tr><th>2</th><td>6</td><td>2</td><td>2</td><td><em>missing</em></td><td>2.4</td><td>6.0</td></tr></tbody></table><p>&vellip;</p><p><i>Last Group (1 row): B = 2, C = 1</i></p><table class=\"data-frame\"><thead><tr><th></th><th>A</th><th>B</th><th>C</th><th>D</th><th>E</th><th>H</th></tr><tr><th></th><th>Int64</th><th>Int64</th><th>Int64</th><th>Float64?</th><th>Float64?</th><th>Float64?</th></tr></thead><tbody><tr><th>1</th><td>7</td><td>2</td><td>1</td><td><em>missing</em></td><td>2.6</td><td>7.0</td></tr></tbody></table>"
      ],
      "text/latex": [
       "GroupedDataFrame with 4 groups based on keys: B, C\n",
       "\n",
       "First Group (2 rows): B = 2, C = 2\n",
       "\n",
       "\\begin{tabular}{r|cccccc}\n",
       "\t& A & B & C & D & E & H\\\\\n",
       "\t\\hline\n",
       "\t& Int64 & Int64 & Int64 & Float64? & Float64? & Float64?\\\\\n",
       "\t\\hline\n",
       "\t1 & 1 & 2 & 2 & \\emph{missing} & \\emph{missing} & \\emph{missing} \\\\\n",
       "\t2 & 6 & 2 & 2 & \\emph{missing} & 2.4 & 6.0 \\\\\n",
       "\\end{tabular}\n",
       "\n",
       "$\\dots$\n",
       "\n",
       "Last Group (1 row): B = 2, C = 1\n",
       "\n",
       "\\begin{tabular}{r|cccccc}\n",
       "\t& A & B & C & D & E & H\\\\\n",
       "\t\\hline\n",
       "\t& Int64 & Int64 & Int64 & Float64? & Float64? & Float64?\\\\\n",
       "\t\\hline\n",
       "\t1 & 7 & 2 & 1 & \\emph{missing} & 2.6 & 7.0 \\\\\n",
       "\\end{tabular}\n"
      ],
      "text/plain": [
       "GroupedDataFrame with 4 groups based on keys: B, C\n",
       "First Group (2 rows): B = 2, C = 2\n",
       "│ Row │ A     │ B     │ C     │ D        │ E        │ H        │\n",
       "│     │ \u001b[90mInt64\u001b[39m │ \u001b[90mInt64\u001b[39m │ \u001b[90mInt64\u001b[39m │ \u001b[90mFloat64?\u001b[39m │ \u001b[90mFloat64?\u001b[39m │ \u001b[90mFloat64?\u001b[39m │\n",
       "├─────┼───────┼───────┼───────┼──────────┼──────────┼──────────┤\n",
       "│ 1   │ 1     │ 2     │ 2     │ \u001b[90mmissing\u001b[39m  │ \u001b[90mmissing\u001b[39m  │ \u001b[90mmissing\u001b[39m  │\n",
       "│ 2   │ 6     │ 2     │ 2     │ \u001b[90mmissing\u001b[39m  │ 2.4      │ 6.0      │\n",
       "⋮\n",
       "Last Group (1 row): B = 2, C = 1\n",
       "│ Row │ A     │ B     │ C     │ D        │ E        │ H        │\n",
       "│     │ \u001b[90mInt64\u001b[39m │ \u001b[90mInt64\u001b[39m │ \u001b[90mInt64\u001b[39m │ \u001b[90mFloat64?\u001b[39m │ \u001b[90mFloat64?\u001b[39m │ \u001b[90mFloat64?\u001b[39m │\n",
       "├─────┼───────┼───────┼───────┼──────────┼──────────┼──────────┤\n",
       "│ 1   │ 7     │ 2     │ 1     │ \u001b[90mmissing\u001b[39m  │ 2.6      │ 7.0      │"
      ]
     },
     "execution_count": 155,
     "metadata": {},
     "output_type": "execute_result"
    }
   ],
   "source": [
    "@byprint x   by(B, C)  G = round(mean(:A),digits = 1)          iff(:A .> 2)"
   ]
  },
  {
   "cell_type": "code",
   "execution_count": 145,
   "id": "necessary-grass",
   "metadata": {},
   "outputs": [
    {
     "name": "stdout",
     "output_type": "stream",
     "text": [
      "by(:B, :C)"
     ]
    },
    {
     "ename": "LoadError",
     "evalue": "ArgumentError: idxs[1] has type QuoteNode; only Integer, Symbol, or string values allowed when indexing by vector",
     "output_type": "error",
     "traceback": [
      "ArgumentError: idxs[1] has type QuoteNode; only Integer, Symbol, or string values allowed when indexing by vector",
      "",
      "Stacktrace:",
      " [1] getindex",
      "   @ ~\\.julia\\packages\\DataFrames\\GtZ1l\\src\\other\\index.jl:259 [inlined]",
      " [2] groupby(df::DataFrame, cols::Vector{QuoteNode}; sort::Bool, skipmissing::Bool)",
      "   @ DataFrames ~\\.julia\\packages\\DataFrames\\GtZ1l\\src\\groupeddataframe\\splitapplycombine.jl:139",
      " [3] groupby(df::DataFrame, cols::Vector{QuoteNode})",
      "   @ DataFrames ~\\.julia\\packages\\DataFrames\\GtZ1l\\src\\groupeddataframe\\splitapplycombine.jl:138",
      " [4] top-level scope",
      "   @ In[144]:18",
      " [5] eval",
      "   @ .\\boot.jl:360 [inlined]",
      " [6] include_string(mapexpr::typeof(REPL.softscope), mod::Module, code::String, filename::String)",
      "   @ Base .\\loading.jl:1094"
     ]
    }
   ],
   "source": [
    "@byprint x   by(:B, :C)  G = round(mean(:A),digits = 1)          iff(:A .> 2)"
   ]
  },
  {
   "cell_type": "code",
   "execution_count": 184,
   "id": "lesser-birmingham",
   "metadata": {},
   "outputs": [
    {
     "data": {
      "text/html": [
       "<table class=\"data-frame\"><thead><tr><th></th><th>A</th><th>B</th><th>C</th><th>D</th><th>E</th><th>H</th></tr><tr><th></th><th>Int64</th><th>Int64</th><th>Int64</th><th>Float64?</th><th>Float64?</th><th>Int64</th></tr></thead><tbody><p>7 rows × 6 columns</p><tr><th>1</th><td>1</td><td>2</td><td>1</td><td><em>missing</em></td><td><em>missing</em></td><td>0</td></tr><tr><th>2</th><td>2</td><td>2</td><td>2</td><td><em>missing</em></td><td><em>missing</em></td><td>0</td></tr><tr><th>3</th><td>3</td><td>1</td><td>2</td><td>3.0</td><td>1.7</td><td>0</td></tr><tr><th>4</th><td>4</td><td>1</td><td>2</td><td>3.0</td><td>2.0</td><td>0</td></tr><tr><th>5</th><td>5</td><td>2</td><td>1</td><td>3.0</td><td>2.2</td><td>0</td></tr><tr><th>6</th><td>6</td><td>2</td><td>2</td><td><em>missing</em></td><td>2.4</td><td>0</td></tr><tr><th>7</th><td>7</td><td>2</td><td>1</td><td><em>missing</em></td><td>2.6</td><td>0</td></tr></tbody></table>"
      ],
      "text/latex": [
       "\\begin{tabular}{r|cccccc}\n",
       "\t& A & B & C & D & E & H\\\\\n",
       "\t\\hline\n",
       "\t& Int64 & Int64 & Int64 & Float64? & Float64? & Int64\\\\\n",
       "\t\\hline\n",
       "\t1 & 1 & 2 & 1 & \\emph{missing} & \\emph{missing} & 0 \\\\\n",
       "\t2 & 2 & 2 & 2 & \\emph{missing} & \\emph{missing} & 0 \\\\\n",
       "\t3 & 3 & 1 & 2 & 3.0 & 1.7 & 0 \\\\\n",
       "\t4 & 4 & 1 & 2 & 3.0 & 2.0 & 0 \\\\\n",
       "\t5 & 5 & 2 & 1 & 3.0 & 2.2 & 0 \\\\\n",
       "\t6 & 6 & 2 & 2 & \\emph{missing} & 2.4 & 0 \\\\\n",
       "\t7 & 7 & 2 & 1 & \\emph{missing} & 2.6 & 0 \\\\\n",
       "\\end{tabular}\n"
      ],
      "text/plain": [
       "7×6 DataFrame\n",
       "│ Row │ A     │ B     │ C     │ D        │ E        │ H     │\n",
       "│     │ \u001b[90mInt64\u001b[39m │ \u001b[90mInt64\u001b[39m │ \u001b[90mInt64\u001b[39m │ \u001b[90mFloat64?\u001b[39m │ \u001b[90mFloat64?\u001b[39m │ \u001b[90mInt64\u001b[39m │\n",
       "├─────┼───────┼───────┼───────┼──────────┼──────────┼───────┤\n",
       "│ 1   │ 1     │ 2     │ 1     │ \u001b[90mmissing\u001b[39m  │ \u001b[90mmissing\u001b[39m  │ 0     │\n",
       "│ 2   │ 2     │ 2     │ 2     │ \u001b[90mmissing\u001b[39m  │ \u001b[90mmissing\u001b[39m  │ 0     │\n",
       "│ 3   │ 3     │ 1     │ 2     │ 3.0      │ 1.7      │ 0     │\n",
       "│ 4   │ 4     │ 1     │ 2     │ 3.0      │ 2.0      │ 0     │\n",
       "│ 5   │ 5     │ 2     │ 1     │ 3.0      │ 2.2      │ 0     │\n",
       "│ 6   │ 6     │ 2     │ 2     │ \u001b[90mmissing\u001b[39m  │ 2.4      │ 0     │\n",
       "│ 7   │ 7     │ 2     │ 1     │ \u001b[90mmissing\u001b[39m  │ 2.6      │ 0     │"
      ]
     },
     "execution_count": 184,
     "metadata": {},
     "output_type": "execute_result"
    }
   ],
   "source": [
    "@transform! x H = 0"
   ]
  },
  {
   "cell_type": "code",
   "execution_count": 178,
   "id": "violent-sodium",
   "metadata": {},
   "outputs": [
    {
     "ename": "LoadError",
     "evalue": "UndefVarError: #301#x not defined",
     "output_type": "error",
     "traceback": [
      "UndefVarError: #301#x not defined",
      "",
      "Stacktrace:",
      " [1] macro expansion",
      "   @ ~\\.julia\\packages\\DataFramesMeta\\XB2xH\\src\\DataFramesMeta.jl:125 [inlined]",
      " [2] top-level scope",
      "   @ In[177]:3",
      " [3] eval",
      "   @ .\\boot.jl:360 [inlined]",
      " [4] include_string(mapexpr::typeof(REPL.softscope), mod::Module, code::String, filename::String)",
      "   @ Base .\\loading.jl:1094"
     ]
    }
   ],
   "source": [
    "@transform! x H = -999"
   ]
  },
  {
   "cell_type": "code",
   "execution_count": 164,
   "id": "analyzed-semester",
   "metadata": {},
   "outputs": [
    {
     "data": {
      "text/html": [
       "<table class=\"data-frame\"><thead><tr><th></th><th>A</th><th>B</th><th>C</th><th>D</th><th>E</th><th>H</th></tr><tr><th></th><th>Int64</th><th>Int64</th><th>Int64</th><th>Float64?</th><th>Float64?</th><th>Float64?</th></tr></thead><tbody><p>7 rows × 6 columns</p><tr><th>1</th><td>1</td><td>1</td><td>1</td><td><em>missing</em></td><td><em>missing</em></td><td>-999.0</td></tr><tr><th>2</th><td>2</td><td>2</td><td>1</td><td><em>missing</em></td><td><em>missing</em></td><td>-999.0</td></tr><tr><th>3</th><td>3</td><td>2</td><td>1</td><td>3.0</td><td><em>missing</em></td><td>5.0</td></tr><tr><th>4</th><td>4</td><td>2</td><td>1</td><td>3.0</td><td>2.0</td><td>5.0</td></tr><tr><th>5</th><td>5</td><td>2</td><td>1</td><td>3.0</td><td>2.2</td><td>5.0</td></tr><tr><th>6</th><td>6</td><td>2</td><td>1</td><td><em>missing</em></td><td>2.4</td><td>5.0</td></tr><tr><th>7</th><td>7</td><td>2</td><td>1</td><td><em>missing</em></td><td>2.6</td><td>5.0</td></tr></tbody></table>"
      ],
      "text/latex": [
       "\\begin{tabular}{r|cccccc}\n",
       "\t& A & B & C & D & E & H\\\\\n",
       "\t\\hline\n",
       "\t& Int64 & Int64 & Int64 & Float64? & Float64? & Float64?\\\\\n",
       "\t\\hline\n",
       "\t1 & 1 & 1 & 1 & \\emph{missing} & \\emph{missing} & -999.0 \\\\\n",
       "\t2 & 2 & 2 & 1 & \\emph{missing} & \\emph{missing} & -999.0 \\\\\n",
       "\t3 & 3 & 2 & 1 & 3.0 & \\emph{missing} & 5.0 \\\\\n",
       "\t4 & 4 & 2 & 1 & 3.0 & 2.0 & 5.0 \\\\\n",
       "\t5 & 5 & 2 & 1 & 3.0 & 2.2 & 5.0 \\\\\n",
       "\t6 & 6 & 2 & 1 & \\emph{missing} & 2.4 & 5.0 \\\\\n",
       "\t7 & 7 & 2 & 1 & \\emph{missing} & 2.6 & 5.0 \\\\\n",
       "\\end{tabular}\n"
      ],
      "text/plain": [
       "7×6 DataFrame\n",
       "│ Row │ A     │ B     │ C     │ D        │ E        │ H        │\n",
       "│     │ \u001b[90mInt64\u001b[39m │ \u001b[90mInt64\u001b[39m │ \u001b[90mInt64\u001b[39m │ \u001b[90mFloat64?\u001b[39m │ \u001b[90mFloat64?\u001b[39m │ \u001b[90mFloat64?\u001b[39m │\n",
       "├─────┼───────┼───────┼───────┼──────────┼──────────┼──────────┤\n",
       "│ 1   │ 1     │ 1     │ 1     │ \u001b[90mmissing\u001b[39m  │ \u001b[90mmissing\u001b[39m  │ -999.0   │\n",
       "│ 2   │ 2     │ 2     │ 1     │ \u001b[90mmissing\u001b[39m  │ \u001b[90mmissing\u001b[39m  │ -999.0   │\n",
       "│ 3   │ 3     │ 2     │ 1     │ 3.0      │ \u001b[90mmissing\u001b[39m  │ 5.0      │\n",
       "│ 4   │ 4     │ 2     │ 1     │ 3.0      │ 2.0      │ 5.0      │\n",
       "│ 5   │ 5     │ 2     │ 1     │ 3.0      │ 2.2      │ 5.0      │\n",
       "│ 6   │ 6     │ 2     │ 1     │ \u001b[90mmissing\u001b[39m  │ 2.4      │ 5.0      │\n",
       "│ 7   │ 7     │ 2     │ 1     │ \u001b[90mmissing\u001b[39m  │ 2.6      │ 5.0      │"
      ]
     },
     "execution_count": 164,
     "metadata": {},
     "output_type": "execute_result"
    }
   ],
   "source": [
    "@make (H = -999) iff(:H .=== missing)"
   ]
  },
  {
   "cell_type": "code",
   "execution_count": 137,
   "id": "approved-consultation",
   "metadata": {},
   "outputs": [
    {
     "name": "stdout",
     "output_type": "stream",
     "text": [
      "1\n"
     ]
    },
    {
     "data": {
      "text/html": [
       "<table class=\"data-frame\"><thead><tr><th></th><th>A</th><th>B</th><th>C</th><th>E</th><th>iff</th><th>F</th><th>G</th><th>status</th><th>H</th></tr><tr><th></th><th>Int64</th><th>Int64</th><th>Int64</th><th>Float64?</th><th>String?</th><th>Float64?</th><th>Float64?</th><th>String?</th><th>Float64?</th></tr></thead><tbody><p>7 rows × 9 columns</p><tr><th>1</th><td>1</td><td>1</td><td>2</td><td>2.0</td><td>23b</td><td><em>missing</em></td><td><em>missing</em></td><td><em>missing</em></td><td><em>missing</em></td></tr><tr><th>2</th><td>2</td><td>1</td><td>2</td><td>2.0</td><td>23b</td><td><em>missing</em></td><td><em>missing</em></td><td><em>missing</em></td><td><em>missing</em></td></tr><tr><th>3</th><td>3</td><td>2</td><td>1</td><td>1.0</td><td>23b</td><td><em>missing</em></td><td><em>missing</em></td><td><em>missing</em></td><td>5.0</td></tr><tr><th>4</th><td>4</td><td>2</td><td>1</td><td>2.0</td><td>23b</td><td>16.0</td><td>1.0</td><td>Map 1</td><td>5.0</td></tr><tr><th>5</th><td>5</td><td>1</td><td>2</td><td>2.23607</td><td>23b</td><td>25.0</td><td>1.0</td><td>Map 1</td><td>5.0</td></tr><tr><th>6</th><td>6</td><td>2</td><td>1</td><td>2.44949</td><td>23b</td><td>36.0</td><td>1.0</td><td>Map 1</td><td>5.0</td></tr><tr><th>7</th><td>7</td><td>2</td><td>2</td><td>2.64575</td><td>23b</td><td>49.0</td><td>1.0</td><td>Map 1</td><td>5.0</td></tr></tbody></table>"
      ],
      "text/latex": [
       "\\begin{tabular}{r|ccccccccc}\n",
       "\t& A & B & C & E & iff & F & G & status & H\\\\\n",
       "\t\\hline\n",
       "\t& Int64 & Int64 & Int64 & Float64? & String? & Float64? & Float64? & String? & Float64?\\\\\n",
       "\t\\hline\n",
       "\t1 & 1 & 1 & 2 & 2.0 & 23b & \\emph{missing} & \\emph{missing} & \\emph{missing} & \\emph{missing} \\\\\n",
       "\t2 & 2 & 1 & 2 & 2.0 & 23b & \\emph{missing} & \\emph{missing} & \\emph{missing} & \\emph{missing} \\\\\n",
       "\t3 & 3 & 2 & 1 & 1.0 & 23b & \\emph{missing} & \\emph{missing} & \\emph{missing} & 5.0 \\\\\n",
       "\t4 & 4 & 2 & 1 & 2.0 & 23b & 16.0 & 1.0 & Map 1 & 5.0 \\\\\n",
       "\t5 & 5 & 1 & 2 & 2.23607 & 23b & 25.0 & 1.0 & Map 1 & 5.0 \\\\\n",
       "\t6 & 6 & 2 & 1 & 2.44949 & 23b & 36.0 & 1.0 & Map 1 & 5.0 \\\\\n",
       "\t7 & 7 & 2 & 2 & 2.64575 & 23b & 49.0 & 1.0 & Map 1 & 5.0 \\\\\n",
       "\\end{tabular}\n"
      ],
      "text/plain": [
       "7×9 DataFrame. Omitted printing of 2 columns\n",
       "│ Row │ A     │ B     │ C     │ E        │ iff     │ F        │ G        │\n",
       "│     │ \u001b[90mInt64\u001b[39m │ \u001b[90mInt64\u001b[39m │ \u001b[90mInt64\u001b[39m │ \u001b[90mFloat64?\u001b[39m │ \u001b[90mString?\u001b[39m │ \u001b[90mFloat64?\u001b[39m │ \u001b[90mFloat64?\u001b[39m │\n",
       "├─────┼───────┼───────┼───────┼──────────┼─────────┼──────────┼──────────┤\n",
       "│ 1   │ 1     │ 1     │ 2     │ 2.0      │ 23b     │ \u001b[90mmissing\u001b[39m  │ \u001b[90mmissing\u001b[39m  │\n",
       "│ 2   │ 2     │ 1     │ 2     │ 2.0      │ 23b     │ \u001b[90mmissing\u001b[39m  │ \u001b[90mmissing\u001b[39m  │\n",
       "│ 3   │ 3     │ 2     │ 1     │ 1.0      │ 23b     │ \u001b[90mmissing\u001b[39m  │ \u001b[90mmissing\u001b[39m  │\n",
       "│ 4   │ 4     │ 2     │ 1     │ 2.0      │ 23b     │ 16.0     │ 1.0      │\n",
       "│ 5   │ 5     │ 1     │ 2     │ 2.23607  │ 23b     │ 25.0     │ 1.0      │\n",
       "│ 6   │ 6     │ 2     │ 1     │ 2.44949  │ 23b     │ 36.0     │ 1.0      │\n",
       "│ 7   │ 7     │ 2     │ 2     │ 2.64575  │ 23b     │ 49.0     │ 1.0      │"
      ]
     },
     "execution_count": 137,
     "metadata": {},
     "output_type": "execute_result"
    }
   ],
   "source": []
  },
  {
   "cell_type": "code",
   "execution_count": 59,
   "id": "sharp-filter",
   "metadata": {},
   "outputs": [
    {
     "name": "stdout",
     "output_type": "stream",
     "text": [
      "Expr[]\n"
     ]
    },
    {
     "ename": "LoadError",
     "evalue": "LoadError: ArgumentError: Expressions not of the form `y = f(:x)` currently disallowed.\nin expression starting at In[50]:30",
     "output_type": "error",
     "traceback": [
      "LoadError: ArgumentError: Expressions not of the form `y = f(:x)` currently disallowed.\nin expression starting at In[50]:30",
      "",
      "Stacktrace:",
      " [1] fun_to_vec(kw::Expr; nolhs::Bool, gensym_names::Bool)",
      "   @ DataFramesMeta ~\\.julia\\packages\\DataFramesMeta\\XB2xH\\src\\DataFramesMeta.jl:171",
      " [2] fun_to_vec",
      "   @ ~\\.julia\\packages\\DataFramesMeta\\XB2xH\\src\\DataFramesMeta.jl:112 [inlined]",
      " [3] iterate(g::Base.Generator{Tuple{Expr, Expr}, typeof(DataFramesMeta.fun_to_vec)}, s::Int64)",
      "   @ Base .\\generator.jl:47",
      " [4] transform_helper(::Symbol, ::Expr, ::Vararg{Expr, N} where N)",
      "   @ DataFramesMeta ~\\.julia\\packages\\DataFramesMeta\\XB2xH\\src\\DataFramesMeta.jl:546",
      " [5] var\"@transform\"(__source__::LineNumberNode, __module__::Module, x::Any, args::Vararg{Any, N} where N)",
      "   @ DataFramesMeta ~\\.julia\\packages\\DataFramesMeta\\XB2xH\\src\\DataFramesMeta.jl:583",
      " [6] eval",
      "   @ .\\boot.jl:360 [inlined]",
      " [7] include_string(mapexpr::typeof(REPL.softscope), mod::Module, code::String, filename::String)",
      "   @ Base .\\loading.jl:1094"
     ]
    }
   ],
   "source": [
    "@make (by = B) ( H = mean(:A)) @iff(:A .> 3)"
   ]
  },
  {
   "cell_type": "code",
   "execution_count": 360,
   "id": "certain-greene",
   "metadata": {},
   "outputs": [
    {
     "data": {
      "text/html": [
       "<table class=\"data-frame\"><thead><tr><th></th><th>A</th><th>B</th><th>C</th><th>status</th><th>E</th><th>F</th><th>G</th><th>H</th></tr><tr><th></th><th>Int64</th><th>Int64</th><th>Int64</th><th>String?</th><th>Float64?</th><th>Float64?</th><th>Float64?</th><th>Float64?</th></tr></thead><tbody><p>7 rows × 8 columns</p><tr><th>1</th><td>1</td><td>2</td><td>1</td><td>Unmapped</td><td>1.0</td><td><em>missing</em></td><td><em>missing</em></td><td><em>missing</em></td></tr><tr><th>2</th><td>2</td><td>2</td><td>2</td><td>Unmapped</td><td>2.0</td><td><em>missing</em></td><td><em>missing</em></td><td><em>missing</em></td></tr><tr><th>3</th><td>3</td><td>2</td><td>1</td><td>Unmapped</td><td>1.0</td><td><em>missing</em></td><td><em>missing</em></td><td><em>missing</em></td></tr><tr><th>4</th><td>4</td><td>2</td><td>2</td><td>Map 1</td><td>2.0</td><td>16.0</td><td>1.0</td><td>4.0</td></tr><tr><th>5</th><td>5</td><td>1</td><td>1</td><td>Map 1</td><td>2.23607</td><td>25.0</td><td>1.0</td><td>6.0</td></tr><tr><th>6</th><td>6</td><td>1</td><td>2</td><td>Map 1</td><td>2.44949</td><td>36.0</td><td>1.0</td><td>6.0</td></tr><tr><th>7</th><td>7</td><td>1</td><td>2</td><td>Map 1</td><td>2.64575</td><td>49.0</td><td>1.0</td><td>6.0</td></tr></tbody></table>"
      ],
      "text/latex": [
       "\\begin{tabular}{r|cccccccc}\n",
       "\t& A & B & C & status & E & F & G & H\\\\\n",
       "\t\\hline\n",
       "\t& Int64 & Int64 & Int64 & String? & Float64? & Float64? & Float64? & Float64?\\\\\n",
       "\t\\hline\n",
       "\t1 & 1 & 2 & 1 & Unmapped & 1.0 & \\emph{missing} & \\emph{missing} & \\emph{missing} \\\\\n",
       "\t2 & 2 & 2 & 2 & Unmapped & 2.0 & \\emph{missing} & \\emph{missing} & \\emph{missing} \\\\\n",
       "\t3 & 3 & 2 & 1 & Unmapped & 1.0 & \\emph{missing} & \\emph{missing} & \\emph{missing} \\\\\n",
       "\t4 & 4 & 2 & 2 & Map 1 & 2.0 & 16.0 & 1.0 & 4.0 \\\\\n",
       "\t5 & 5 & 1 & 1 & Map 1 & 2.23607 & 25.0 & 1.0 & 6.0 \\\\\n",
       "\t6 & 6 & 1 & 2 & Map 1 & 2.44949 & 36.0 & 1.0 & 6.0 \\\\\n",
       "\t7 & 7 & 1 & 2 & Map 1 & 2.64575 & 49.0 & 1.0 & 6.0 \\\\\n",
       "\\end{tabular}\n"
      ],
      "text/plain": [
       "7×8 DataFrame. Omitted printing of 1 columns\n",
       "│ Row │ A     │ B     │ C     │ status   │ E        │ F        │ G        │\n",
       "│     │ \u001b[90mInt64\u001b[39m │ \u001b[90mInt64\u001b[39m │ \u001b[90mInt64\u001b[39m │ \u001b[90mString?\u001b[39m  │ \u001b[90mFloat64?\u001b[39m │ \u001b[90mFloat64?\u001b[39m │ \u001b[90mFloat64?\u001b[39m │\n",
       "├─────┼───────┼───────┼───────┼──────────┼──────────┼──────────┼──────────┤\n",
       "│ 1   │ 1     │ 2     │ 1     │ Unmapped │ 1.0      │ \u001b[90mmissing\u001b[39m  │ \u001b[90mmissing\u001b[39m  │\n",
       "│ 2   │ 2     │ 2     │ 2     │ Unmapped │ 2.0      │ \u001b[90mmissing\u001b[39m  │ \u001b[90mmissing\u001b[39m  │\n",
       "│ 3   │ 3     │ 2     │ 1     │ Unmapped │ 1.0      │ \u001b[90mmissing\u001b[39m  │ \u001b[90mmissing\u001b[39m  │\n",
       "│ 4   │ 4     │ 2     │ 2     │ Map 1    │ 2.0      │ 16.0     │ 1.0      │\n",
       "│ 5   │ 5     │ 1     │ 1     │ Map 1    │ 2.23607  │ 25.0     │ 1.0      │\n",
       "│ 6   │ 6     │ 1     │ 2     │ Map 1    │ 2.44949  │ 36.0     │ 1.0      │\n",
       "│ 7   │ 7     │ 1     │ 2     │ Map 1    │ 2.64575  │ 49.0     │ 1.0      │"
      ]
     },
     "execution_count": 360,
     "metadata": {},
     "output_type": "execute_result"
    }
   ],
   "source": [
    "@make by(B) ( H = mean(:A) * :I ) iff(:A .> 3)"
   ]
  },
  {
   "cell_type": "code",
   "execution_count": 21,
   "id": "brazilian-drawing",
   "metadata": {},
   "outputs": [
    {
     "ename": "MethodError",
     "evalue": "MethodError: no method matching setindex!(::DataFrame, ::Int64, ::typeof(!), ::Symbol)\nClosest candidates are:\n  setindex!(::DataFrame, !Matched::AbstractArray{T,1} where T, ::typeof(!), ::Union{AbstractString, Signed, Symbol, Unsigned}) at C:\\Users\\francis.smart.ctr\\.juliapro\\JuliaPro_v1.4.1-1\\packages\\DataFrames\\lfoTw\\src\\dataframe\\dataframe.jl:544\n  setindex!(::DataFrame, ::Any, !Matched::Integer, ::Union{AbstractString, Signed, Symbol, Unsigned}) at C:\\Users\\francis.smart.ctr\\.juliapro\\JuliaPro_v1.4.1-1\\packages\\DataFrames\\lfoTw\\src\\dataframe\\dataframe.jl:557\n  setindex!(::DataFrame, ::Any, !Matched::AbstractArray{T,1} where T, ::Union{AbstractString, Signed, Symbol, Unsigned}) at C:\\Users\\francis.smart.ctr\\.juliapro\\JuliaPro_v1.4.1-1\\packages\\DataFrames\\lfoTw\\src\\deprecated.jl:178\n  ...",
     "output_type": "error",
     "traceback": [
      "MethodError: no method matching setindex!(::DataFrame, ::Int64, ::typeof(!), ::Symbol)\nClosest candidates are:\n  setindex!(::DataFrame, !Matched::AbstractArray{T,1} where T, ::typeof(!), ::Union{AbstractString, Signed, Symbol, Unsigned}) at C:\\Users\\francis.smart.ctr\\.juliapro\\JuliaPro_v1.4.1-1\\packages\\DataFrames\\lfoTw\\src\\dataframe\\dataframe.jl:544\n  setindex!(::DataFrame, ::Any, !Matched::Integer, ::Union{AbstractString, Signed, Symbol, Unsigned}) at C:\\Users\\francis.smart.ctr\\.juliapro\\JuliaPro_v1.4.1-1\\packages\\DataFrames\\lfoTw\\src\\dataframe\\dataframe.jl:557\n  setindex!(::DataFrame, ::Any, !Matched::AbstractArray{T,1} where T, ::Union{AbstractString, Signed, Symbol, Unsigned}) at C:\\Users\\francis.smart.ctr\\.juliapro\\JuliaPro_v1.4.1-1\\packages\\DataFrames\\lfoTw\\src\\deprecated.jl:178\n  ...",
      "",
      "Stacktrace:",
      " [1] transform(::DataFrame; kwargs::Base.Iterators.Pairs{Symbol,var\"#40#41\",Tuple{Symbol},NamedTuple{(:D,),Tuple{var\"#40#41\"}}}) at C:\\Users\\francis.smart.ctr\\.juliapro\\JuliaPro_v1.4.1-1\\packages\\DataFramesMeta\\c67UK\\src\\DataFramesMeta.jl:379",
      " [2] top-level scope at C:\\Users\\francis.smart.ctr\\.juliapro\\JuliaPro_v1.4.1-1\\packages\\DataFramesMeta\\c67UK\\src\\DataFramesMeta.jl:473",
      " [3] top-level scope at In[21]:1"
     ]
    }
   ],
   "source": [
    "@transform x D = 1"
   ]
  },
  {
   "cell_type": "code",
   "execution_count": 107,
   "id": "amazing-prime",
   "metadata": {},
   "outputs": [
    {
     "ename": "LoadError",
     "evalue": "\"Constant Assignment Error Expr[:(status2 = \\\"Unmapped\\\")]: Constantfound without broadcasting. Use `x * :I` \"",
     "output_type": "error",
     "traceback": [
      "\"Constant Assignment Error Expr[:(status2 = \\\"Unmapped\\\")]: Constantfound without broadcasting. Use `x * :I` \"",
      "",
      "Stacktrace:",
      " [1] @make(::LineNumberNode, ::Module, ::Vararg{Any,N} where N) at .\\In[106]:7"
     ]
    }
   ],
   "source": [
    "@make (status2 = \"Unmapped\")"
   ]
  },
  {
   "cell_type": "code",
   "execution_count": 85,
   "id": "caring-brass",
   "metadata": {},
   "outputs": [
    {
     "ename": "UndefVarError",
     "evalue": "UndefVarError: Cols not defined",
     "output_type": "error",
     "traceback": [
      "UndefVarError: Cols not defined",
      "",
      "Stacktrace:",
      " [1] top-level scope at In[85]:1"
     ]
    }
   ],
   "source": [
    "mounted[!, Cols(:Status, Not(:Status))]"
   ]
  },
  {
   "cell_type": "markdown",
   "id": "greatest-uniform",
   "metadata": {},
   "source": [
    "###  Other Explorations"
   ]
  },
  {
   "cell_type": "code",
   "execution_count": 32,
   "id": "intended-delivery",
   "metadata": {},
   "outputs": [
    {
     "data": {
      "text/html": [
       "<table class=\"data-frame\"><thead><tr><th></th><th>A</th><th>B</th><th>C</th><th>D</th><th>fixed</th></tr><tr><th></th><th>Int64</th><th>Float64</th><th>Float64</th><th>String</th><th>Int64</th></tr></thead><tbody><p>10 rows × 5 columns</p><tr><th>1</th><td>1</td><td>1.28889</td><td>7.22447</td><td>k</td><td>1</td></tr><tr><th>2</th><td>2</td><td>8.33521</td><td>9.8545</td><td>O</td><td>1</td></tr><tr><th>3</th><td>3</td><td>3.23904</td><td>0.261242</td><td>Ou6</td><td>1</td></tr><tr><th>4</th><td>4</td><td>1.47956</td><td>6.68836</td><td>HVC</td><td>1</td></tr><tr><th>5</th><td>5</td><td>4.56603</td><td>2.23327</td><td>qq</td><td>1</td></tr><tr><th>6</th><td>6</td><td>9.89271</td><td>1.72224</td><td>K</td><td>1</td></tr><tr><th>7</th><td>7</td><td>6.93097</td><td>1.37499</td><td>Bk</td><td>1</td></tr><tr><th>8</th><td>8</td><td>5.88084</td><td>4.53204</td><td>FZj</td><td>1</td></tr><tr><th>9</th><td>9</td><td>5.97403</td><td>6.71357</td><td>4kX4q</td><td>1</td></tr><tr><th>10</th><td>10</td><td>0.221157</td><td>0.822651</td><td>mWc</td><td>1</td></tr></tbody></table>"
      ],
      "text/latex": [
       "\\begin{tabular}{r|ccccc}\n",
       "\t& A & B & C & D & fixed\\\\\n",
       "\t\\hline\n",
       "\t& Int64 & Float64 & Float64 & String & Int64\\\\\n",
       "\t\\hline\n",
       "\t1 & 1 & 1.28889 & 7.22447 & k & 1 \\\\\n",
       "\t2 & 2 & 8.33521 & 9.8545 & O & 1 \\\\\n",
       "\t3 & 3 & 3.23904 & 0.261242 & Ou6 & 1 \\\\\n",
       "\t4 & 4 & 1.47956 & 6.68836 & HVC & 1 \\\\\n",
       "\t5 & 5 & 4.56603 & 2.23327 & qq & 1 \\\\\n",
       "\t6 & 6 & 9.89271 & 1.72224 & K & 1 \\\\\n",
       "\t7 & 7 & 6.93097 & 1.37499 & Bk & 1 \\\\\n",
       "\t8 & 8 & 5.88084 & 4.53204 & FZj & 1 \\\\\n",
       "\t9 & 9 & 5.97403 & 6.71357 & 4kX4q & 1 \\\\\n",
       "\t10 & 10 & 0.221157 & 0.822651 & mWc & 1 \\\\\n",
       "\\end{tabular}\n"
      ],
      "text/plain": [
       "10×5 DataFrame\n",
       "│ Row │ A     │ B        │ C        │ D      │ fixed │\n",
       "│     │ \u001b[90mInt64\u001b[39m │ \u001b[90mFloat64\u001b[39m  │ \u001b[90mFloat64\u001b[39m  │ \u001b[90mString\u001b[39m │ \u001b[90mInt64\u001b[39m │\n",
       "├─────┼───────┼──────────┼──────────┼────────┼───────┤\n",
       "│ 1   │ 1     │ 1.28889  │ 7.22447  │ k      │ 1     │\n",
       "│ 2   │ 2     │ 8.33521  │ 9.8545   │ O      │ 1     │\n",
       "│ 3   │ 3     │ 3.23904  │ 0.261242 │ Ou6    │ 1     │\n",
       "│ 4   │ 4     │ 1.47956  │ 6.68836  │ HVC    │ 1     │\n",
       "│ 5   │ 5     │ 4.56603  │ 2.23327  │ qq     │ 1     │\n",
       "│ 6   │ 6     │ 9.89271  │ 1.72224  │ K      │ 1     │\n",
       "│ 7   │ 7     │ 6.93097  │ 1.37499  │ Bk     │ 1     │\n",
       "│ 8   │ 8     │ 5.88084  │ 4.53204  │ FZj    │ 1     │\n",
       "│ 9   │ 9     │ 5.97403  │ 6.71357  │ 4kX4q  │ 1     │\n",
       "│ 10  │ 10    │ 0.221157 │ 0.822651 │ mWc    │ 1     │"
      ]
     },
     "execution_count": 32,
     "metadata": {},
     "output_type": "execute_result"
    }
   ],
   "source": [
    "n = 10\n",
    "a = 1\n",
    "x = DataFrame(A=1:n, B=rand(n) .* n, C=rand(n) .* n, D=randstring.(rand(1:5, n)), fixed=a)"
   ]
  },
  {
   "cell_type": "code",
   "execution_count": 33,
   "id": "structured-diana",
   "metadata": {},
   "outputs": [
    {
     "data": {
      "text/html": [
       "<table class=\"data-frame\"><thead><tr><th></th><th>A</th><th>B</th><th>C</th><th>D</th><th>fixed</th></tr><tr><th></th><th>Int64</th><th>Float64</th><th>Float64</th><th>String</th><th>Int64</th></tr></thead><tbody><p>10 rows × 5 columns</p><tr><th>1</th><td>1</td><td>1.28889</td><td>7.22447</td><td>k</td><td>1</td></tr><tr><th>2</th><td>2</td><td>8.33521</td><td>9.8545</td><td>O</td><td>1</td></tr><tr><th>3</th><td>3</td><td>3.23904</td><td>0.261242</td><td>Ou6</td><td>1</td></tr><tr><th>4</th><td>4</td><td>1.47956</td><td>6.68836</td><td>HVC</td><td>1</td></tr><tr><th>5</th><td>5</td><td>4.56603</td><td>2.23327</td><td>qq</td><td>1</td></tr><tr><th>6</th><td>6</td><td>9.89271</td><td>1.72224</td><td>K</td><td>1</td></tr><tr><th>7</th><td>7</td><td>6.93097</td><td>1.37499</td><td>Bk</td><td>1</td></tr><tr><th>8</th><td>8</td><td>5.88084</td><td>4.53204</td><td>FZj</td><td>1</td></tr><tr><th>9</th><td>9</td><td>5.97403</td><td>6.71357</td><td>4kX4q</td><td>1</td></tr><tr><th>10</th><td>10</td><td>0.221157</td><td>0.822651</td><td>mWc</td><td>1</td></tr></tbody></table>"
      ],
      "text/latex": [
       "\\begin{tabular}{r|ccccc}\n",
       "\t& A & B & C & D & fixed\\\\\n",
       "\t\\hline\n",
       "\t& Int64 & Float64 & Float64 & String & Int64\\\\\n",
       "\t\\hline\n",
       "\t1 & 1 & 1.28889 & 7.22447 & k & 1 \\\\\n",
       "\t2 & 2 & 8.33521 & 9.8545 & O & 1 \\\\\n",
       "\t3 & 3 & 3.23904 & 0.261242 & Ou6 & 1 \\\\\n",
       "\t4 & 4 & 1.47956 & 6.68836 & HVC & 1 \\\\\n",
       "\t5 & 5 & 4.56603 & 2.23327 & qq & 1 \\\\\n",
       "\t6 & 6 & 9.89271 & 1.72224 & K & 1 \\\\\n",
       "\t7 & 7 & 6.93097 & 1.37499 & Bk & 1 \\\\\n",
       "\t8 & 8 & 5.88084 & 4.53204 & FZj & 1 \\\\\n",
       "\t9 & 9 & 5.97403 & 6.71357 & 4kX4q & 1 \\\\\n",
       "\t10 & 10 & 0.221157 & 0.822651 & mWc & 1 \\\\\n",
       "\\end{tabular}\n"
      ],
      "text/plain": [
       "10×5 DataFrame\n",
       "│ Row │ A     │ B        │ C        │ D      │ fixed │\n",
       "│     │ \u001b[90mInt64\u001b[39m │ \u001b[90mFloat64\u001b[39m  │ \u001b[90mFloat64\u001b[39m  │ \u001b[90mString\u001b[39m │ \u001b[90mInt64\u001b[39m │\n",
       "├─────┼───────┼──────────┼──────────┼────────┼───────┤\n",
       "│ 1   │ 1     │ 1.28889  │ 7.22447  │ k      │ 1     │\n",
       "│ 2   │ 2     │ 8.33521  │ 9.8545   │ O      │ 1     │\n",
       "│ 3   │ 3     │ 3.23904  │ 0.261242 │ Ou6    │ 1     │\n",
       "│ 4   │ 4     │ 1.47956  │ 6.68836  │ HVC    │ 1     │\n",
       "│ 5   │ 5     │ 4.56603  │ 2.23327  │ qq     │ 1     │\n",
       "│ 6   │ 6     │ 9.89271  │ 1.72224  │ K      │ 1     │\n",
       "│ 7   │ 7     │ 6.93097  │ 1.37499  │ Bk     │ 1     │\n",
       "│ 8   │ 8     │ 5.88084  │ 4.53204  │ FZj    │ 1     │\n",
       "│ 9   │ 9     │ 5.97403  │ 6.71357  │ 4kX4q  │ 1     │\n",
       "│ 10  │ 10    │ 0.221157 │ 0.822651 │ mWc    │ 1     │"
      ]
     },
     "execution_count": 33,
     "metadata": {},
     "output_type": "execute_result"
    }
   ],
   "source": [
    "@mount x"
   ]
  },
  {
   "cell_type": "code",
   "execution_count": 34,
   "id": "thorough-senegal",
   "metadata": {},
   "outputs": [
    {
     "data": {
      "text/plain": [
       "@unmount (macro with 1 method)"
      ]
     },
     "execution_count": 34,
     "metadata": {},
     "output_type": "execute_result"
    }
   ],
   "source": [
    "macro unmount(x)\n",
    "    quote\n",
    "        global $x\n",
    "        $x = copy(mounted)\n",
    "    end\n",
    "end"
   ]
  },
  {
   "cell_type": "code",
   "execution_count": 35,
   "id": "sudden-electron",
   "metadata": {},
   "outputs": [
    {
     "data": {
      "text/html": [
       "<table class=\"data-frame\"><thead><tr><th></th><th>A</th><th>B</th><th>C</th><th>D</th><th>fixed</th></tr><tr><th></th><th>Int64</th><th>Float64</th><th>Float64</th><th>String</th><th>Int64</th></tr></thead><tbody><p>10 rows × 5 columns</p><tr><th>1</th><td>1</td><td>1.28889</td><td>7.22447</td><td>k</td><td>1</td></tr><tr><th>2</th><td>2</td><td>8.33521</td><td>9.8545</td><td>O</td><td>1</td></tr><tr><th>3</th><td>3</td><td>3.23904</td><td>0.261242</td><td>Ou6</td><td>1</td></tr><tr><th>4</th><td>4</td><td>1.47956</td><td>6.68836</td><td>HVC</td><td>1</td></tr><tr><th>5</th><td>5</td><td>4.56603</td><td>2.23327</td><td>qq</td><td>1</td></tr><tr><th>6</th><td>6</td><td>9.89271</td><td>1.72224</td><td>K</td><td>1</td></tr><tr><th>7</th><td>7</td><td>6.93097</td><td>1.37499</td><td>Bk</td><td>1</td></tr><tr><th>8</th><td>8</td><td>5.88084</td><td>4.53204</td><td>FZj</td><td>1</td></tr><tr><th>9</th><td>9</td><td>5.97403</td><td>6.71357</td><td>4kX4q</td><td>1</td></tr><tr><th>10</th><td>10</td><td>0.221157</td><td>0.822651</td><td>mWc</td><td>1</td></tr></tbody></table>"
      ],
      "text/latex": [
       "\\begin{tabular}{r|ccccc}\n",
       "\t& A & B & C & D & fixed\\\\\n",
       "\t\\hline\n",
       "\t& Int64 & Float64 & Float64 & String & Int64\\\\\n",
       "\t\\hline\n",
       "\t1 & 1 & 1.28889 & 7.22447 & k & 1 \\\\\n",
       "\t2 & 2 & 8.33521 & 9.8545 & O & 1 \\\\\n",
       "\t3 & 3 & 3.23904 & 0.261242 & Ou6 & 1 \\\\\n",
       "\t4 & 4 & 1.47956 & 6.68836 & HVC & 1 \\\\\n",
       "\t5 & 5 & 4.56603 & 2.23327 & qq & 1 \\\\\n",
       "\t6 & 6 & 9.89271 & 1.72224 & K & 1 \\\\\n",
       "\t7 & 7 & 6.93097 & 1.37499 & Bk & 1 \\\\\n",
       "\t8 & 8 & 5.88084 & 4.53204 & FZj & 1 \\\\\n",
       "\t9 & 9 & 5.97403 & 6.71357 & 4kX4q & 1 \\\\\n",
       "\t10 & 10 & 0.221157 & 0.822651 & mWc & 1 \\\\\n",
       "\\end{tabular}\n"
      ],
      "text/plain": [
       "10×5 DataFrame\n",
       "│ Row │ A     │ B        │ C        │ D      │ fixed │\n",
       "│     │ \u001b[90mInt64\u001b[39m │ \u001b[90mFloat64\u001b[39m  │ \u001b[90mFloat64\u001b[39m  │ \u001b[90mString\u001b[39m │ \u001b[90mInt64\u001b[39m │\n",
       "├─────┼───────┼──────────┼──────────┼────────┼───────┤\n",
       "│ 1   │ 1     │ 1.28889  │ 7.22447  │ k      │ 1     │\n",
       "│ 2   │ 2     │ 8.33521  │ 9.8545   │ O      │ 1     │\n",
       "│ 3   │ 3     │ 3.23904  │ 0.261242 │ Ou6    │ 1     │\n",
       "│ 4   │ 4     │ 1.47956  │ 6.68836  │ HVC    │ 1     │\n",
       "│ 5   │ 5     │ 4.56603  │ 2.23327  │ qq     │ 1     │\n",
       "│ 6   │ 6     │ 9.89271  │ 1.72224  │ K      │ 1     │\n",
       "│ 7   │ 7     │ 6.93097  │ 1.37499  │ Bk     │ 1     │\n",
       "│ 8   │ 8     │ 5.88084  │ 4.53204  │ FZj    │ 1     │\n",
       "│ 9   │ 9     │ 5.97403  │ 6.71357  │ 4kX4q  │ 1     │\n",
       "│ 10  │ 10    │ 0.221157 │ 0.822651 │ mWc    │ 1     │"
      ]
     },
     "execution_count": 35,
     "metadata": {},
     "output_type": "execute_result"
    }
   ],
   "source": [
    "@unmount y"
   ]
  },
  {
   "cell_type": "code",
   "execution_count": 36,
   "id": "golden-termination",
   "metadata": {},
   "outputs": [
    {
     "data": {
      "text/html": [
       "<table class=\"data-frame\"><thead><tr><th></th><th>A</th><th>B</th><th>C</th><th>D</th><th>fixed</th></tr><tr><th></th><th>Int64</th><th>Float64</th><th>Float64</th><th>String</th><th>Int64</th></tr></thead><tbody><p>10 rows × 5 columns</p><tr><th>1</th><td>1</td><td>1.28889</td><td>7.22447</td><td>k</td><td>1</td></tr><tr><th>2</th><td>2</td><td>8.33521</td><td>9.8545</td><td>O</td><td>1</td></tr><tr><th>3</th><td>3</td><td>3.23904</td><td>0.261242</td><td>Ou6</td><td>1</td></tr><tr><th>4</th><td>4</td><td>1.47956</td><td>6.68836</td><td>HVC</td><td>1</td></tr><tr><th>5</th><td>5</td><td>4.56603</td><td>2.23327</td><td>qq</td><td>1</td></tr><tr><th>6</th><td>6</td><td>9.89271</td><td>1.72224</td><td>K</td><td>1</td></tr><tr><th>7</th><td>7</td><td>6.93097</td><td>1.37499</td><td>Bk</td><td>1</td></tr><tr><th>8</th><td>8</td><td>5.88084</td><td>4.53204</td><td>FZj</td><td>1</td></tr><tr><th>9</th><td>9</td><td>5.97403</td><td>6.71357</td><td>4kX4q</td><td>1</td></tr><tr><th>10</th><td>10</td><td>0.221157</td><td>0.822651</td><td>mWc</td><td>1</td></tr></tbody></table>"
      ],
      "text/latex": [
       "\\begin{tabular}{r|ccccc}\n",
       "\t& A & B & C & D & fixed\\\\\n",
       "\t\\hline\n",
       "\t& Int64 & Float64 & Float64 & String & Int64\\\\\n",
       "\t\\hline\n",
       "\t1 & 1 & 1.28889 & 7.22447 & k & 1 \\\\\n",
       "\t2 & 2 & 8.33521 & 9.8545 & O & 1 \\\\\n",
       "\t3 & 3 & 3.23904 & 0.261242 & Ou6 & 1 \\\\\n",
       "\t4 & 4 & 1.47956 & 6.68836 & HVC & 1 \\\\\n",
       "\t5 & 5 & 4.56603 & 2.23327 & qq & 1 \\\\\n",
       "\t6 & 6 & 9.89271 & 1.72224 & K & 1 \\\\\n",
       "\t7 & 7 & 6.93097 & 1.37499 & Bk & 1 \\\\\n",
       "\t8 & 8 & 5.88084 & 4.53204 & FZj & 1 \\\\\n",
       "\t9 & 9 & 5.97403 & 6.71357 & 4kX4q & 1 \\\\\n",
       "\t10 & 10 & 0.221157 & 0.822651 & mWc & 1 \\\\\n",
       "\\end{tabular}\n"
      ],
      "text/plain": [
       "10×5 DataFrame\n",
       "│ Row │ A     │ B        │ C        │ D      │ fixed │\n",
       "│     │ \u001b[90mInt64\u001b[39m │ \u001b[90mFloat64\u001b[39m  │ \u001b[90mFloat64\u001b[39m  │ \u001b[90mString\u001b[39m │ \u001b[90mInt64\u001b[39m │\n",
       "├─────┼───────┼──────────┼──────────┼────────┼───────┤\n",
       "│ 1   │ 1     │ 1.28889  │ 7.22447  │ k      │ 1     │\n",
       "│ 2   │ 2     │ 8.33521  │ 9.8545   │ O      │ 1     │\n",
       "│ 3   │ 3     │ 3.23904  │ 0.261242 │ Ou6    │ 1     │\n",
       "│ 4   │ 4     │ 1.47956  │ 6.68836  │ HVC    │ 1     │\n",
       "│ 5   │ 5     │ 4.56603  │ 2.23327  │ qq     │ 1     │\n",
       "│ 6   │ 6     │ 9.89271  │ 1.72224  │ K      │ 1     │\n",
       "│ 7   │ 7     │ 6.93097  │ 1.37499  │ Bk     │ 1     │\n",
       "│ 8   │ 8     │ 5.88084  │ 4.53204  │ FZj    │ 1     │\n",
       "│ 9   │ 9     │ 5.97403  │ 6.71357  │ 4kX4q  │ 1     │\n",
       "│ 10  │ 10    │ 0.221157 │ 0.822651 │ mWc    │ 1     │"
      ]
     },
     "execution_count": 36,
     "metadata": {},
     "output_type": "execute_result"
    }
   ],
   "source": [
    "y"
   ]
  },
  {
   "cell_type": "code",
   "execution_count": 37,
   "id": "consistent-prescription",
   "metadata": {},
   "outputs": [],
   "source": [
    "# macro make(e)\n",
    "#     quote\n",
    "#        global mounted\n",
    "#        mounted = @transform mounted $e\n",
    "#     end\n",
    "# end"
   ]
  },
  {
   "cell_type": "code",
   "execution_count": 38,
   "id": "missing-gospel",
   "metadata": {},
   "outputs": [],
   "source": [
    "# @make D = :B .+ :C"
   ]
  },
  {
   "cell_type": "code",
   "execution_count": 39,
   "id": "billion-stanley",
   "metadata": {},
   "outputs": [],
   "source": [
    "# mounted"
   ]
  },
  {
   "cell_type": "code",
   "execution_count": 40,
   "id": "broad-playing",
   "metadata": {},
   "outputs": [],
   "source": [
    "# macro make(e, f)\n",
    "#     quote\n",
    "#         global mounted, xout, selector\n",
    "#         cond = @transform mounted $f\n",
    "#         selector = cond.iff\n",
    "#         x = mounted[selector, :]\n",
    "        \n",
    "#         xout = @transform x $e\n",
    "        \n",
    "#         for v in names(xout)\n",
    "#             if !hasproperty(mounted, v)                 mounted[!, v] .= NaN\n",
    "#             end\n",
    "#         end\n",
    "        \n",
    "#         mounted[selector, names(xout)] = xout\n",
    "#         print(mounted)\n",
    "        \n",
    "#     end\n",
    "# end"
   ]
  },
  {
   "cell_type": "code",
   "execution_count": 41,
   "id": "unauthorized-tractor",
   "metadata": {},
   "outputs": [],
   "source": [
    "# x = 1:10\n",
    "# [i ^2 for ]"
   ]
  },
  {
   "cell_type": "code",
   "execution_count": 42,
   "id": "helpful-capacity",
   "metadata": {},
   "outputs": [],
   "source": [
    "# mounted"
   ]
  },
  {
   "cell_type": "code",
   "execution_count": 43,
   "id": "unlimited-mechanism",
   "metadata": {},
   "outputs": [],
   "source": [
    "# @make2 (D = :B .+ :C) (E = :B .+ :C) iff(:A .> :B)"
   ]
  },
  {
   "cell_type": "code",
   "execution_count": 44,
   "id": "wrapped-abortion",
   "metadata": {},
   "outputs": [],
   "source": [
    "# mounted"
   ]
  },
  {
   "cell_type": "code",
   "execution_count": 45,
   "id": "necessary-southeast",
   "metadata": {},
   "outputs": [
    {
     "data": {
      "text/plain": [
       "@pipe (macro with 1 method)"
      ]
     },
     "execution_count": 45,
     "metadata": {},
     "output_type": "execute_result"
    }
   ],
   "source": [
    "function funnel(ee::Expr)\n",
    "    print()\n",
    "    if (ee.args[1]==:|>)\n",
    "        target = funnel(ee.args[2]) #Recurse\n",
    "        rewrite(ee.args[3],target)\n",
    "    elseif (ee.args[1]==:.|>)\n",
    "        target = funnel(ee.args[2]) #Recurse\n",
    "        rewritten = rewrite_broadcasted(ee.args[3],target)\n",
    "        ee.args[3] = rewritten\n",
    "        ee\n",
    "    else\n",
    "        #Not in a piping situtation\n",
    "        ee #make no change\n",
    "    end\n",
    "end\n",
    "\n",
    "macro pipe(ee)\n",
    "    esc(funnel(ee))\n",
    "end"
   ]
  },
  {
   "cell_type": "code",
   "execution_count": 46,
   "id": "acute-length",
   "metadata": {},
   "outputs": [
    {
     "data": {
      "text/plain": [
       "@printer (macro with 1 method)"
      ]
     },
     "execution_count": 46,
     "metadata": {},
     "output_type": "execute_result"
    }
   ],
   "source": [
    "macro printer(ee)\n",
    "    esc(funneler(ee))\n",
    "end"
   ]
  },
  {
   "cell_type": "code",
   "execution_count": 47,
   "id": "synthetic-responsibility",
   "metadata": {},
   "outputs": [
    {
     "data": {
      "text/plain": [
       "funneler (generic function with 1 method)"
      ]
     },
     "execution_count": 47,
     "metadata": {},
     "output_type": "execute_result"
    }
   ],
   "source": [
    "function funneler(ee::Expr)\n",
    "    println(ee.args)\n",
    "    println(typeof(ee.args[1]))\n",
    "    println(typeof(ee.args[2]))\n",
    "    if typeof(ee.args[2]) <: Expr\n",
    "        println(ee.args[2].args)\n",
    "        println(typeof(ee.args[2].args))\n",
    "    end\n",
    "end\n"
   ]
  },
  {
   "cell_type": "code",
   "execution_count": 48,
   "id": "latter-grounds",
   "metadata": {},
   "outputs": [
    {
     "data": {
      "text/plain": [
       "@funneler (macro with 1 method)"
      ]
     },
     "execution_count": 48,
     "metadata": {},
     "output_type": "execute_result"
    }
   ],
   "source": [
    "macro funneler(ee)\n",
    "    println(ee.args)\n",
    "    println(length(ee.args))\n",
    "    println(ee.args[1] == :(:iff))\n",
    "    \n",
    "    println(typeof(ee.args[1]))\n",
    "    println(typeof(ee.args[2]))\n",
    "    if typeof(ee.args[2]) <: Expr\n",
    "        println(ee.args[2].args)\n",
    "        println(typeof(ee.args[2].args))\n",
    "    end\n",
    "end"
   ]
  },
  {
   "cell_type": "code",
   "execution_count": 49,
   "id": "distinguished-diversity",
   "metadata": {
    "scrolled": true
   },
   "outputs": [
    {
     "name": "stdout",
     "output_type": "stream",
     "text": [
      "Any[:(:iff), :(:A .> :B)]\n",
      "2\n",
      "true\n",
      "QuoteNode\n",
      "Expr\n",
      "Any[:.>, :(:A), :(:B)]\n",
      "Array{Any,1}\n"
     ]
    }
   ],
   "source": [
    "@funneler :iff(:A .> :B)"
   ]
  },
  {
   "cell_type": "code",
   "execution_count": 50,
   "id": "careful-blowing",
   "metadata": {
    "scrolled": true
   },
   "outputs": [
    {
     "name": "stdout",
     "output_type": "stream",
     "text": [
      "Any[:A, \"A\"]\n",
      "2\n",
      "false\n",
      "Symbol\n",
      "String\n"
     ]
    }
   ],
   "source": [
    "@funneler A .= \"A\""
   ]
  },
  {
   "cell_type": "code",
   "execution_count": 51,
   "id": "moved-glass",
   "metadata": {
    "scrolled": false
   },
   "outputs": [
    {
     "name": "stdout",
     "output_type": "stream",
     "text": [
      "Any[:A, :(:A .* :B)]\n",
      "2\n",
      "false\n",
      "Symbol\n",
      "Expr\n",
      "Any[:.*, :(:A), :(:B)]\n",
      "Array{Any,1}\n"
     ]
    }
   ],
   "source": [
    "@funneler A .= :A .* :B"
   ]
  },
  {
   "cell_type": "code",
   "execution_count": null,
   "id": "nearby-photography",
   "metadata": {},
   "outputs": [],
   "source": []
  },
  {
   "cell_type": "code",
   "execution_count": 52,
   "id": "bronze-delivery",
   "metadata": {},
   "outputs": [
    {
     "data": {
      "text/plain": [
       "1-element Array{Any,1}:\n",
       " 1"
      ]
     },
     "execution_count": 52,
     "metadata": {},
     "output_type": "execute_result"
    }
   ],
   "source": [
    "y = []\n",
    "append!(y, 1)"
   ]
  },
  {
   "cell_type": "code",
   "execution_count": 53,
   "id": "operating-abuse",
   "metadata": {},
   "outputs": [
    {
     "data": {
      "text/plain": [
       "1-element Array{Any,1}:\n",
       " 1"
      ]
     },
     "execution_count": 53,
     "metadata": {},
     "output_type": "execute_result"
    }
   ],
   "source": [
    "y"
   ]
  },
  {
   "cell_type": "code",
   "execution_count": 54,
   "id": "motivated-trademark",
   "metadata": {},
   "outputs": [
    {
     "name": "stdout",
     "output_type": "stream",
     "text": [
      "(:(L234(1 * 1 * :s * \"t\" * mean(:x))),)\n"
     ]
    },
    {
     "ename": "LoadError",
     "evalue": "type Tuple has no field args",
     "output_type": "error",
     "traceback": [
      "type Tuple has no field args",
      "",
      "Stacktrace:",
      " [1] getproperty(::Tuple{Expr}, ::Symbol) at .\\Base.jl:33",
      " [2] @notfirst(::LineNumberNode, ::Module, ::Vararg{Any,N} where N) at .\\In[15]:3"
     ]
    }
   ],
   "source": [
    "@notfirst L234(1 * 1 * :s * \"t\" * mean(:x))"
   ]
  },
  {
   "cell_type": "code",
   "execution_count": 55,
   "id": "numeric-shannon",
   "metadata": {},
   "outputs": [
    {
     "name": "stdout",
     "output_type": "stream",
     "text": [
      "(:(L234 = $(QuoteNode(1))),)\n"
     ]
    },
    {
     "ename": "LoadError",
     "evalue": "type Tuple has no field args",
     "output_type": "error",
     "traceback": [
      "type Tuple has no field args",
      "",
      "Stacktrace:",
      " [1] getproperty(::Tuple{Expr}, ::Symbol) at .\\Base.jl:33",
      " [2] @notfirst(::LineNumberNode, ::Module, ::Vararg{Any,N} where N) at .\\In[15]:3"
     ]
    }
   ],
   "source": [
    "@notfirst L234 = :1"
   ]
  },
  {
   "cell_type": "code",
   "execution_count": 56,
   "id": "chubby-biotechnology",
   "metadata": {},
   "outputs": [
    {
     "data": {
      "text/plain": [
       "z (generic function with 1 method)"
      ]
     },
     "execution_count": 56,
     "metadata": {},
     "output_type": "execute_result"
    }
   ],
   "source": [
    "z(x) = \"z\""
   ]
  },
  {
   "cell_type": "code",
   "execution_count": 57,
   "id": "tracked-giant",
   "metadata": {},
   "outputs": [
    {
     "data": {
      "text/plain": [
       "2-element Array{Array{String,1},1}:\n",
       " [\"z\"]\n",
       " [\"z\"]"
      ]
     },
     "execution_count": 57,
     "metadata": {},
     "output_type": "execute_result"
    }
   ],
   "source": [
    "fill.(\"z\", [1,2].^ 0)"
   ]
  },
  {
   "cell_type": "code",
   "execution_count": 58,
   "id": "standing-power",
   "metadata": {},
   "outputs": [
    {
     "data": {
      "text/html": [
       "<table class=\"data-frame\"><thead><tr><th></th><th>A</th><th>B</th><th>C</th><th>D</th><th>fixed</th></tr><tr><th></th><th>Int64</th><th>Float64</th><th>Float64</th><th>String</th><th>Int64</th></tr></thead><tbody><p>10 rows × 5 columns</p><tr><th>1</th><td>1</td><td>1.28889</td><td>7.22447</td><td>k</td><td>1</td></tr><tr><th>2</th><td>2</td><td>8.33521</td><td>9.8545</td><td>O</td><td>1</td></tr><tr><th>3</th><td>3</td><td>3.23904</td><td>0.261242</td><td>Ou6</td><td>1</td></tr><tr><th>4</th><td>4</td><td>1.47956</td><td>6.68836</td><td>HVC</td><td>1</td></tr><tr><th>5</th><td>5</td><td>4.56603</td><td>2.23327</td><td>qq</td><td>1</td></tr><tr><th>6</th><td>6</td><td>9.89271</td><td>1.72224</td><td>K</td><td>1</td></tr><tr><th>7</th><td>7</td><td>6.93097</td><td>1.37499</td><td>Bk</td><td>1</td></tr><tr><th>8</th><td>8</td><td>5.88084</td><td>4.53204</td><td>FZj</td><td>1</td></tr><tr><th>9</th><td>9</td><td>5.97403</td><td>6.71357</td><td>4kX4q</td><td>1</td></tr><tr><th>10</th><td>10</td><td>0.221157</td><td>0.822651</td><td>mWc</td><td>1</td></tr></tbody></table>"
      ],
      "text/latex": [
       "\\begin{tabular}{r|ccccc}\n",
       "\t& A & B & C & D & fixed\\\\\n",
       "\t\\hline\n",
       "\t& Int64 & Float64 & Float64 & String & Int64\\\\\n",
       "\t\\hline\n",
       "\t1 & 1 & 1.28889 & 7.22447 & k & 1 \\\\\n",
       "\t2 & 2 & 8.33521 & 9.8545 & O & 1 \\\\\n",
       "\t3 & 3 & 3.23904 & 0.261242 & Ou6 & 1 \\\\\n",
       "\t4 & 4 & 1.47956 & 6.68836 & HVC & 1 \\\\\n",
       "\t5 & 5 & 4.56603 & 2.23327 & qq & 1 \\\\\n",
       "\t6 & 6 & 9.89271 & 1.72224 & K & 1 \\\\\n",
       "\t7 & 7 & 6.93097 & 1.37499 & Bk & 1 \\\\\n",
       "\t8 & 8 & 5.88084 & 4.53204 & FZj & 1 \\\\\n",
       "\t9 & 9 & 5.97403 & 6.71357 & 4kX4q & 1 \\\\\n",
       "\t10 & 10 & 0.221157 & 0.822651 & mWc & 1 \\\\\n",
       "\\end{tabular}\n"
      ],
      "text/plain": [
       "10×5 DataFrame\n",
       "│ Row │ A     │ B        │ C        │ D      │ fixed │\n",
       "│     │ \u001b[90mInt64\u001b[39m │ \u001b[90mFloat64\u001b[39m  │ \u001b[90mFloat64\u001b[39m  │ \u001b[90mString\u001b[39m │ \u001b[90mInt64\u001b[39m │\n",
       "├─────┼───────┼──────────┼──────────┼────────┼───────┤\n",
       "│ 1   │ 1     │ 1.28889  │ 7.22447  │ k      │ 1     │\n",
       "│ 2   │ 2     │ 8.33521  │ 9.8545   │ O      │ 1     │\n",
       "│ 3   │ 3     │ 3.23904  │ 0.261242 │ Ou6    │ 1     │\n",
       "│ 4   │ 4     │ 1.47956  │ 6.68836  │ HVC    │ 1     │\n",
       "│ 5   │ 5     │ 4.56603  │ 2.23327  │ qq     │ 1     │\n",
       "│ 6   │ 6     │ 9.89271  │ 1.72224  │ K      │ 1     │\n",
       "│ 7   │ 7     │ 6.93097  │ 1.37499  │ Bk     │ 1     │\n",
       "│ 8   │ 8     │ 5.88084  │ 4.53204  │ FZj    │ 1     │\n",
       "│ 9   │ 9     │ 5.97403  │ 6.71357  │ 4kX4q  │ 1     │\n",
       "│ 10  │ 10    │ 0.221157 │ 0.822651 │ mWc    │ 1     │"
      ]
     },
     "execution_count": 58,
     "metadata": {},
     "output_type": "execute_result"
    }
   ],
   "source": [
    "mounted"
   ]
  },
  {
   "cell_type": "code",
   "execution_count": 59,
   "id": "acknowledged-partnership",
   "metadata": {},
   "outputs": [
    {
     "data": {
      "text/plain": [
       "iff (generic function with 1 method)"
      ]
     },
     "execution_count": 59,
     "metadata": {},
     "output_type": "execute_result"
    }
   ],
   "source": [
    "iff(x) = x"
   ]
  },
  {
   "cell_type": "code",
   "execution_count": 60,
   "id": "illegal-string",
   "metadata": {
    "scrolled": true
   },
   "outputs": [
    {
     "ename": "UndefVarError",
     "evalue": "UndefVarError: fun_to_vec not defined",
     "output_type": "error",
     "traceback": [
      "UndefVarError: fun_to_vec not defined",
      "",
      "Stacktrace:",
      " [1] getproperty(::Module, ::Symbol) at .\\Base.jl:26",
      " [2] top-level scope at In[60]:1"
     ]
    }
   ],
   "source": [
    "DataFramesMeta.fun_to_vec()"
   ]
  },
  {
   "cell_type": "code",
   "execution_count": 61,
   "id": "romance-atlantic",
   "metadata": {
    "scrolled": true
   },
   "outputs": [
    {
     "name": "stdout",
     "output_type": "stream",
     "text": [
      "iffs = Expr[:(iff(:E .=== NaN))]\n"
     ]
    },
    {
     "ename": "ArgumentError",
     "evalue": "ArgumentError: column name :E not found in the data frame; existing most similar names are: :A, :B, :C and :D",
     "output_type": "error",
     "traceback": [
      "ArgumentError: column name :E not found in the data frame; existing most similar names are: :A, :B, :C and :D",
      "",
      "Stacktrace:",
      " [1] lookupname at C:\\Users\\francis.smart.ctr\\.juliapro\\JuliaPro_v1.4.1-1\\packages\\DataFrames\\lfoTw\\src\\other\\index.jl:289 [inlined]",
      " [2] getindex at C:\\Users\\francis.smart.ctr\\.juliapro\\JuliaPro_v1.4.1-1\\packages\\DataFrames\\lfoTw\\src\\other\\index.jl:295 [inlined]",
      " [3] getindex(::DataFrame, ::typeof(!), ::Symbol) at C:\\Users\\francis.smart.ctr\\.juliapro\\JuliaPro_v1.4.1-1\\packages\\DataFrames\\lfoTw\\src\\dataframe\\dataframe.jl:435",
      " [4] (::var\"#53#55\")(::DataFrame) at C:\\Users\\francis.smart.ctr\\.juliapro\\JuliaPro_v1.4.1-1\\packages\\DataFramesMeta\\c67UK\\src\\DataFramesMeta.jl:73",
      " [5] transform(::DataFrame; kwargs::Base.Iterators.Pairs{Symbol,var\"#53#55\",Tuple{Symbol},NamedTuple{(:iff,),Tuple{var\"#53#55\"}}}) at C:\\Users\\francis.smart.ctr\\.juliapro\\JuliaPro_v1.4.1-1\\packages\\DataFramesMeta\\c67UK\\src\\DataFramesMeta.jl:379",
      " [6] top-level scope at In[18]:18",
      " [7] top-level scope at In[61]:1"
     ]
    }
   ],
   "source": [
    "@make    E = -:B                    iff(:E .=== NaN)"
   ]
  },
  {
   "cell_type": "code",
   "execution_count": 62,
   "id": "organizational-excerpt",
   "metadata": {},
   "outputs": [
    {
     "data": {
      "text/plain": [
       "transform!_helper (generic function with 1 method)"
      ]
     },
     "execution_count": 62,
     "metadata": {},
     "output_type": "execute_result"
    }
   ],
   "source": [
    "function transform!_helper(x, args...)\n",
    "\n",
    "    t = (DataFramesMeta.fun_to_vec(arg) for arg in args)\n",
    "\n",
    "    quote\n",
    "        $DataFrames.transform!($x, $(t...))\n",
    "    end\n",
    "end"
   ]
  },
  {
   "cell_type": "code",
   "execution_count": 63,
   "id": "inclusive-heading",
   "metadata": {},
   "outputs": [
    {
     "data": {
      "text/plain": [
       "@tostring (macro with 1 method)"
      ]
     },
     "execution_count": 63,
     "metadata": {},
     "output_type": "execute_result"
    }
   ],
   "source": [
    "macro tostring(x)\n",
    "    y = string(x)\n",
    "    quote \n",
    "        $y\n",
    "    end\n",
    "end"
   ]
  },
  {
   "cell_type": "code",
   "execution_count": 64,
   "id": "removable-science",
   "metadata": {},
   "outputs": [
    {
     "data": {
      "text/plain": [
       "@make (macro with 2 methods)"
      ]
     },
     "execution_count": 64,
     "metadata": {},
     "output_type": "execute_result"
    }
   ],
   "source": [
    "macro make(e, iff)\n",
    "    \n",
    "    f = DataFramesMeta.fun_to_vec(f)\n",
    "    e = DataFramesMeta.fun_to_vec(e)\n",
    "    \n",
    "    quote\n",
    "        global mounted, xout, selector\n",
    "        cond = $DataFrames.transform!(mounted, $f => :iff)\n",
    "        print(cond)\n",
    "\n",
    "        @transform mounted $iff\n",
    "        selector = cond.iff\n",
    "        x = mounted[selector, :]\n",
    "        \n",
    "        xout = @transform x $e\n",
    "#         println(xout)\n",
    "        \n",
    "        for v in names(xout)\n",
    "            if !hasproperty(mounted, v)\n",
    "                mounted[!, v] .= NaN\n",
    "                mounted = allowmissing(mounted)\n",
    "#                 mounted[!, v] .= missing\n",
    "            end\n",
    "        end\n",
    "        \n",
    "        mounted[selector, names(xout)] = xout\n",
    "        print(mounted)\n",
    "        \n",
    "    end\n",
    "end"
   ]
  },
  {
   "cell_type": "code",
   "execution_count": 65,
   "id": "moral-korean",
   "metadata": {},
   "outputs": [
    {
     "data": {
      "text/plain": [
       "10-element Array{Float64,1}:\n",
       " 7.224465513697629\n",
       " 9.854495545893053\n",
       " 0.2612418738744582\n",
       " 6.688361330850007\n",
       " 2.233268958830099\n",
       " 1.7222395059501316\n",
       " 1.374990687710722\n",
       " 4.532036118276503\n",
       " 6.713574018348913\n",
       " 0.8226509890771205"
      ]
     },
     "execution_count": 65,
     "metadata": {},
     "output_type": "execute_result"
    }
   ],
   "source": [
    "mounted[!, \"C\"]"
   ]
  },
  {
   "cell_type": "code",
   "execution_count": 66,
   "id": "brave-confusion",
   "metadata": {},
   "outputs": [
    {
     "data": {
      "text/plain": [
       "5"
      ]
     },
     "execution_count": 66,
     "metadata": {},
     "output_type": "execute_result"
    }
   ],
   "source": [
    "size(mounted,2)"
   ]
  },
  {
   "cell_type": "code",
   "execution_count": 67,
   "id": "reasonable-minutes",
   "metadata": {},
   "outputs": [
    {
     "data": {
      "text/plain": [
       "10-element Array{Float64,1}:\n",
       " 7.224465513697629\n",
       " 9.854495545893053\n",
       " 0.2612418738744582\n",
       " 6.688361330850007\n",
       " 2.233268958830099\n",
       " 1.7222395059501316\n",
       " 1.374990687710722\n",
       " 4.532036118276503\n",
       " 6.713574018348913\n",
       " 0.8226509890771205"
      ]
     },
     "execution_count": 67,
     "metadata": {},
     "output_type": "execute_result"
    }
   ],
   "source": [
    "mounted.C"
   ]
  },
  {
   "cell_type": "code",
   "execution_count": 68,
   "id": "abandoned-therapy",
   "metadata": {},
   "outputs": [
    {
     "data": {
      "text/plain": [
       "10-element Array{Int64,1}:\n",
       " 1\n",
       " 1\n",
       " 1\n",
       " 1\n",
       " 1\n",
       " 1\n",
       " 1\n",
       " 1\n",
       " 1\n",
       " 1"
      ]
     },
     "execution_count": 68,
     "metadata": {},
     "output_type": "execute_result"
    }
   ],
   "source": [
    "mounted[:, size(mounted,2)]"
   ]
  },
  {
   "cell_type": "code",
   "execution_count": 69,
   "id": "metallic-liberal",
   "metadata": {},
   "outputs": [
    {
     "data": {
      "text/plain": [
       "\":A == :B\""
      ]
     },
     "execution_count": 69,
     "metadata": {},
     "output_type": "execute_result"
    }
   ],
   "source": [
    "@tostring :A==:B"
   ]
  },
  {
   "cell_type": "code",
   "execution_count": 70,
   "id": "expressed-trinidad",
   "metadata": {},
   "outputs": [
    {
     "ename": "MethodError",
     "evalue": "MethodError: no method matching similar(::DataFrame, ::Type{Any})\nClosest candidates are:\n  similar(!Matched::ZMQ.Message, ::Type{T}, !Matched::Tuple{Vararg{Int64,N}} where N) where T at C:\\Users\\francis.smart.ctr\\.juliapro\\JuliaPro_v1.4.1-1\\packages\\ZMQ\\R3wSD\\src\\message.jl:93\n  similar(!Matched::Array{T,1}, ::Type) where T at array.jl:358\n  similar(!Matched::Array{T,2}, ::Type) where T at array.jl:359\n  ...",
     "output_type": "error",
     "traceback": [
      "MethodError: no method matching similar(::DataFrame, ::Type{Any})\nClosest candidates are:\n  similar(!Matched::ZMQ.Message, ::Type{T}, !Matched::Tuple{Vararg{Int64,N}} where N) where T at C:\\Users\\francis.smart.ctr\\.juliapro\\JuliaPro_v1.4.1-1\\packages\\ZMQ\\R3wSD\\src\\message.jl:93\n  similar(!Matched::Array{T,1}, ::Type) where T at array.jl:358\n  similar(!Matched::Array{T,2}, ::Type) where T at array.jl:359\n  ...",
      "",
      "Stacktrace:",
      " [1] _similar_or_copy(::DataFrame, ::Type{Any}) at .\\set.jl:414",
      " [2] replace(::DataFrame, ::Pair{Float64,Float64}; count::Nothing) at .\\set.jl:529",
      " [3] replace(::DataFrame, ::Pair{Float64,Float64}) at .\\set.jl:526",
      " [4] top-level scope at In[70]:1"
     ]
    }
   ],
   "source": [
    "replace(mounted, -9999.9 => NaN)"
   ]
  },
  {
   "cell_type": "code",
   "execution_count": 71,
   "id": "cloudy-recipe",
   "metadata": {},
   "outputs": [
    {
     "data": {
      "text/plain": [
       "@iff (macro with 1 method)"
      ]
     },
     "execution_count": 71,
     "metadata": {},
     "output_type": "execute_result"
    }
   ],
   "source": [
    "macro iff(x)\n",
    "    quote \n",
    "        iff = $x\n",
    "    end\n",
    "end"
   ]
  },
  {
   "cell_type": "code",
   "execution_count": 72,
   "id": "higher-courage",
   "metadata": {},
   "outputs": [
    {
     "ename": "LoadError",
     "evalue": "UndefVarError: fun_to_vec not defined",
     "output_type": "error",
     "traceback": [
      "UndefVarError: fun_to_vec not defined",
      "",
      "Stacktrace:",
      " [1] @make(::LineNumberNode, ::Module, ::Any, ::Any) at .\\In[64]:3"
     ]
    }
   ],
   "source": [
    "@make (E = :B .* (:C .- min(:C...))) @iff(:B .> :C)"
   ]
  },
  {
   "cell_type": "code",
   "execution_count": 73,
   "id": "documentary-campaign",
   "metadata": {},
   "outputs": [
    {
     "name": "stdout",
     "output_type": "stream",
     "text": [
      "DataType[Any, Any, Any, Any, Any, Any, Any, Any, Any, Any]"
     ]
    },
    {
     "ename": "BoundsError",
     "evalue": "BoundsError: attempt to access 10×5 DataFrame\n  at index [Bool[1, 1, 1, 0, 1], A]",
     "output_type": "error",
     "traceback": [
      "BoundsError: attempt to access 10×5 DataFrame\n  at index [Bool[1, 1, 1, 0, 1], A]",
      "",
      "Stacktrace:",
      " [1] getindex(::DataFrame, ::BitArray{1}, ::String) at C:\\Users\\francis.smart.ctr\\.juliapro\\JuliaPro_v1.4.1-1\\packages\\DataFrames\\lfoTw\\src\\dataframe\\dataframe.jl:411",
      " [2] top-level scope at .\\In[73]:4"
     ]
    }
   ],
   "source": [
    "for v in names(xout)\n",
    "    x = fill(Any, size(mounted,1))\n",
    "    print(x)\n",
    "    x[.!selector] = mounted[.!selector, v]\n",
    "    print(x)\n",
    "    x[selector] = xout[selector,v]\n",
    "    print(x)\n",
    "end"
   ]
  },
  {
   "cell_type": "code",
   "execution_count": 74,
   "id": "metallic-chester",
   "metadata": {},
   "outputs": [
    {
     "data": {
      "text/plain": [
       "1-element Array{DataType,1}:\n",
       " Any"
      ]
     },
     "execution_count": 74,
     "metadata": {},
     "output_type": "execute_result"
    }
   ],
   "source": [
    "fill(Any, size(xout,1))"
   ]
  },
  {
   "cell_type": "code",
   "execution_count": 75,
   "id": "ordered-latter",
   "metadata": {},
   "outputs": [
    {
     "data": {
      "text/plain": [
       "10-element Array{Union,1}:\n",
       " Union{Missing, Float64}\n",
       " Union{Missing, Float64}\n",
       " Union{Missing, Float64}\n",
       " Union{Missing, Float64}\n",
       " Union{Missing, Float64}\n",
       " Union{Missing, Float64}\n",
       " Union{Missing, Float64}\n",
       " Union{Missing, Float64}\n",
       " Union{Missing, Float64}\n",
       " Union{Missing, Float64}"
      ]
     },
     "execution_count": 75,
     "metadata": {},
     "output_type": "execute_result"
    }
   ],
   "source": [
    "mounted[:, :F] .= Union{Missing, Float64}"
   ]
  },
  {
   "cell_type": "code",
   "execution_count": 76,
   "id": "greater-occurrence",
   "metadata": {},
   "outputs": [
    {
     "data": {
      "text/html": [
       "<table class=\"data-frame\"><thead><tr><th></th><th>A</th><th>B</th><th>C</th><th>D</th><th>fixed</th><th>F</th></tr><tr><th></th><th>Int64</th><th>Float64</th><th>Float64</th><th>String</th><th>Int64</th><th>Union</th></tr></thead><tbody><p>10 rows × 6 columns</p><tr><th>1</th><td>1</td><td>1.28889</td><td>7.22447</td><td>k</td><td>1</td><td>Union{Missing, Float64}</td></tr><tr><th>2</th><td>2</td><td>8.33521</td><td>9.8545</td><td>O</td><td>1</td><td>Union{Missing, Float64}</td></tr><tr><th>3</th><td>3</td><td>3.23904</td><td>0.261242</td><td>Ou6</td><td>1</td><td>Union{Missing, Float64}</td></tr><tr><th>4</th><td>4</td><td>1.47956</td><td>6.68836</td><td>HVC</td><td>1</td><td>Union{Missing, Float64}</td></tr><tr><th>5</th><td>5</td><td>4.56603</td><td>2.23327</td><td>qq</td><td>1</td><td>Union{Missing, Float64}</td></tr><tr><th>6</th><td>6</td><td>9.89271</td><td>1.72224</td><td>K</td><td>1</td><td>Union{Missing, Float64}</td></tr><tr><th>7</th><td>7</td><td>6.93097</td><td>1.37499</td><td>Bk</td><td>1</td><td>Union{Missing, Float64}</td></tr><tr><th>8</th><td>8</td><td>5.88084</td><td>4.53204</td><td>FZj</td><td>1</td><td>Union{Missing, Float64}</td></tr><tr><th>9</th><td>9</td><td>5.97403</td><td>6.71357</td><td>4kX4q</td><td>1</td><td>Union{Missing, Float64}</td></tr><tr><th>10</th><td>10</td><td>0.221157</td><td>0.822651</td><td>mWc</td><td>1</td><td>Union{Missing, Float64}</td></tr></tbody></table>"
      ],
      "text/latex": [
       "\\begin{tabular}{r|cccccc}\n",
       "\t& A & B & C & D & fixed & F\\\\\n",
       "\t\\hline\n",
       "\t& Int64 & Float64 & Float64 & String & Int64 & Union\\\\\n",
       "\t\\hline\n",
       "\t1 & 1 & 1.28889 & 7.22447 & k & 1 & Union\\{Missing, Float64\\} \\\\\n",
       "\t2 & 2 & 8.33521 & 9.8545 & O & 1 & Union\\{Missing, Float64\\} \\\\\n",
       "\t3 & 3 & 3.23904 & 0.261242 & Ou6 & 1 & Union\\{Missing, Float64\\} \\\\\n",
       "\t4 & 4 & 1.47956 & 6.68836 & HVC & 1 & Union\\{Missing, Float64\\} \\\\\n",
       "\t5 & 5 & 4.56603 & 2.23327 & qq & 1 & Union\\{Missing, Float64\\} \\\\\n",
       "\t6 & 6 & 9.89271 & 1.72224 & K & 1 & Union\\{Missing, Float64\\} \\\\\n",
       "\t7 & 7 & 6.93097 & 1.37499 & Bk & 1 & Union\\{Missing, Float64\\} \\\\\n",
       "\t8 & 8 & 5.88084 & 4.53204 & FZj & 1 & Union\\{Missing, Float64\\} \\\\\n",
       "\t9 & 9 & 5.97403 & 6.71357 & 4kX4q & 1 & Union\\{Missing, Float64\\} \\\\\n",
       "\t10 & 10 & 0.221157 & 0.822651 & mWc & 1 & Union\\{Missing, Float64\\} \\\\\n",
       "\\end{tabular}\n"
      ],
      "text/plain": [
       "10×6 DataFrame\n",
       "│ Row │ A     │ B        │ C        │ D      │ fixed │ F                       │\n",
       "│     │ \u001b[90mInt64\u001b[39m │ \u001b[90mFloat64\u001b[39m  │ \u001b[90mFloat64\u001b[39m  │ \u001b[90mString\u001b[39m │ \u001b[90mInt64\u001b[39m │ \u001b[90mUnion\u001b[39m                   │\n",
       "├─────┼───────┼──────────┼──────────┼────────┼───────┼─────────────────────────┤\n",
       "│ 1   │ 1     │ 1.28889  │ 7.22447  │ k      │ 1     │ Union{Missing, Float64} │\n",
       "│ 2   │ 2     │ 8.33521  │ 9.8545   │ O      │ 1     │ Union{Missing, Float64} │\n",
       "│ 3   │ 3     │ 3.23904  │ 0.261242 │ Ou6    │ 1     │ Union{Missing, Float64} │\n",
       "│ 4   │ 4     │ 1.47956  │ 6.68836  │ HVC    │ 1     │ Union{Missing, Float64} │\n",
       "│ 5   │ 5     │ 4.56603  │ 2.23327  │ qq     │ 1     │ Union{Missing, Float64} │\n",
       "│ 6   │ 6     │ 9.89271  │ 1.72224  │ K      │ 1     │ Union{Missing, Float64} │\n",
       "│ 7   │ 7     │ 6.93097  │ 1.37499  │ Bk     │ 1     │ Union{Missing, Float64} │\n",
       "│ 8   │ 8     │ 5.88084  │ 4.53204  │ FZj    │ 1     │ Union{Missing, Float64} │\n",
       "│ 9   │ 9     │ 5.97403  │ 6.71357  │ 4kX4q  │ 1     │ Union{Missing, Float64} │\n",
       "│ 10  │ 10    │ 0.221157 │ 0.822651 │ mWc    │ 1     │ Union{Missing, Float64} │"
      ]
     },
     "execution_count": 76,
     "metadata": {},
     "output_type": "execute_result"
    }
   ],
   "source": [
    "mounted"
   ]
  },
  {
   "cell_type": "code",
   "execution_count": 77,
   "id": "executed-heater",
   "metadata": {},
   "outputs": [
    {
     "data": {
      "text/html": [
       "<table class=\"data-frame\"><thead><tr><th></th><th>A</th><th>B</th><th>iff</th></tr><tr><th></th><th>Int64</th><th>Int64</th><th>Int64</th></tr></thead><tbody><p>5 rows × 3 columns</p><tr><th>1</th><td>1</td><td>5</td><td>5</td></tr><tr><th>2</th><td>2</td><td>4</td><td>8</td></tr><tr><th>3</th><td>3</td><td>3</td><td>9</td></tr><tr><th>4</th><td>4</td><td>2</td><td>8</td></tr><tr><th>5</th><td>5</td><td>1</td><td>5</td></tr></tbody></table>"
      ],
      "text/latex": [
       "\\begin{tabular}{r|ccc}\n",
       "\t& A & B & iff\\\\\n",
       "\t\\hline\n",
       "\t& Int64 & Int64 & Int64\\\\\n",
       "\t\\hline\n",
       "\t1 & 1 & 5 & 5 \\\\\n",
       "\t2 & 2 & 4 & 8 \\\\\n",
       "\t3 & 3 & 3 & 9 \\\\\n",
       "\t4 & 4 & 2 & 8 \\\\\n",
       "\t5 & 5 & 1 & 5 \\\\\n",
       "\\end{tabular}\n"
      ],
      "text/plain": [
       "5×3 DataFrame\n",
       "│ Row │ A     │ B     │ iff   │\n",
       "│     │ \u001b[90mInt64\u001b[39m │ \u001b[90mInt64\u001b[39m │ \u001b[90mInt64\u001b[39m │\n",
       "├─────┼───────┼───────┼───────┤\n",
       "│ 1   │ 1     │ 5     │ 5     │\n",
       "│ 2   │ 2     │ 4     │ 8     │\n",
       "│ 3   │ 3     │ 3     │ 9     │\n",
       "│ 4   │ 4     │ 2     │ 8     │\n",
       "│ 5   │ 5     │ 1     │ 5     │"
      ]
     },
     "execution_count": 77,
     "metadata": {},
     "output_type": "execute_result"
    }
   ],
   "source": [
    "d = DataFrame(A = 1:5, B = 5:-1:1)\n",
    "@transform d iff = :A .* :B\n"
   ]
  },
  {
   "cell_type": "code",
   "execution_count": 78,
   "id": "rapid-craft",
   "metadata": {},
   "outputs": [
    {
     "data": {
      "text/html": [
       "<table class=\"data-frame\"><thead><tr><th></th><th>A</th><th>B</th><th>C</th><th>iff</th></tr><tr><th></th><th>Int64</th><th>Int64</th><th>Int64</th><th>Bool</th></tr></thead><tbody><p>5 rows × 4 columns</p><tr><th>1</th><td>1</td><td>5</td><td>5</td><td>0</td></tr><tr><th>2</th><td>2</td><td>4</td><td>8</td><td>0</td></tr><tr><th>3</th><td>3</td><td>3</td><td>9</td><td>0</td></tr><tr><th>4</th><td>4</td><td>2</td><td>8</td><td>1</td></tr><tr><th>5</th><td>5</td><td>1</td><td>5</td><td>1</td></tr></tbody></table>"
      ],
      "text/latex": [
       "\\begin{tabular}{r|cccc}\n",
       "\t& A & B & C & iff\\\\\n",
       "\t\\hline\n",
       "\t& Int64 & Int64 & Int64 & Bool\\\\\n",
       "\t\\hline\n",
       "\t1 & 1 & 5 & 5 & 0 \\\\\n",
       "\t2 & 2 & 4 & 8 & 0 \\\\\n",
       "\t3 & 3 & 3 & 9 & 0 \\\\\n",
       "\t4 & 4 & 2 & 8 & 1 \\\\\n",
       "\t5 & 5 & 1 & 5 & 1 \\\\\n",
       "\\end{tabular}\n"
      ],
      "text/plain": [
       "5×4 DataFrame\n",
       "│ Row │ A     │ B     │ C     │ iff  │\n",
       "│     │ \u001b[90mInt64\u001b[39m │ \u001b[90mInt64\u001b[39m │ \u001b[90mInt64\u001b[39m │ \u001b[90mBool\u001b[39m │\n",
       "├─────┼───────┼───────┼───────┼──────┤\n",
       "│ 1   │ 1     │ 5     │ 5     │ 0    │\n",
       "│ 2   │ 2     │ 4     │ 8     │ 0    │\n",
       "│ 3   │ 3     │ 3     │ 9     │ 0    │\n",
       "│ 4   │ 4     │ 2     │ 8     │ 1    │\n",
       "│ 5   │ 5     │ 1     │ 5     │ 1    │"
      ]
     },
     "execution_count": 78,
     "metadata": {},
     "output_type": "execute_result"
    }
   ],
   "source": [
    "@transform d C = :A .* :B iff(:A .> :B)"
   ]
  },
  {
   "cell_type": "code",
   "execution_count": null,
   "id": "scientific-worship",
   "metadata": {},
   "outputs": [],
   "source": []
  }
 ],
 "metadata": {
  "@webio": {
   "lastCommId": null,
   "lastKernelId": null
  },
  "kernelspec": {
   "display_name": "Julia 1.6.0",
   "language": "julia",
   "name": "julia-1.6"
  },
  "language_info": {
   "file_extension": ".jl",
   "mimetype": "application/julia",
   "name": "julia",
   "version": "1.6.0"
  }
 },
 "nbformat": 4,
 "nbformat_minor": 5
}
