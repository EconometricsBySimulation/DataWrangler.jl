{
 "cells": [
  {
   "cell_type": "code",
   "execution_count": 21,
   "id": "deluxe-archives",
   "metadata": {},
   "outputs": [
    {
     "name": "stderr",
     "output_type": "stream",
     "text": [
      "\u001b[32m\u001b[1m  Activating\u001b[22m\u001b[39m environment at `E:\\PP\\git\\DataWrangler.jl\\Project.toml`\n"
     ]
    }
   ],
   "source": [
    "using Pkg\n",
    "Pkg.activate(\".\")"
   ]
  },
  {
   "cell_type": "code",
   "execution_count": 22,
   "id": "monthly-adrian",
   "metadata": {},
   "outputs": [],
   "source": [
    "using DataFrames, CSV, Dates, DataFramesMeta, Pipe"
   ]
  },
  {
   "cell_type": "markdown",
   "id": "super-grace",
   "metadata": {},
   "source": [
    "### Load in our Data"
   ]
  },
  {
   "cell_type": "code",
   "execution_count": 10,
   "id": "competent-blocking",
   "metadata": {
    "scrolled": false
   },
   "outputs": [
    {
     "data": {
      "text/html": [
       "<table class=\"data-frame\"><thead><tr><th></th><th>docdate</th><th>year</th><th>docno</th><th>notary</th><th>coder</th><th>dateinv</th><th>datesale</th><th>depot</th><th>parish</th></tr><tr><th></th><th>Date</th><th>Float64</th><th>String?</th><th>String?</th><th>Float64?</th><th>Date?</th><th>Date?</th><th>Float64?</th><th>String?</th></tr></thead><tbody><p>5 rows × 133 columns (omitted printing of 124 columns)</p><tr><th>1</th><td>1719-06-15</td><td>1719.0</td><td><em>missing</em></td><td><em>missing</em></td><td>1.0</td><td><em>missing</em></td><td><em>missing</em></td><td>55.0</td><td>OR</td></tr><tr><th>2</th><td>1719-06-15</td><td>1719.0</td><td><em>missing</em></td><td><em>missing</em></td><td>1.0</td><td><em>missing</em></td><td><em>missing</em></td><td>55.0</td><td>OR</td></tr><tr><th>3</th><td>1719-06-15</td><td>1719.0</td><td><em>missing</em></td><td><em>missing</em></td><td>1.0</td><td><em>missing</em></td><td><em>missing</em></td><td>55.0</td><td>OR</td></tr><tr><th>4</th><td>1719-06-15</td><td>1719.0</td><td><em>missing</em></td><td><em>missing</em></td><td>1.0</td><td><em>missing</em></td><td><em>missing</em></td><td>55.0</td><td>OR</td></tr><tr><th>5</th><td>1719-06-15</td><td>1719.0</td><td><em>missing</em></td><td><em>missing</em></td><td>1.0</td><td><em>missing</em></td><td><em>missing</em></td><td>55.0</td><td>OR</td></tr></tbody></table>"
      ],
      "text/latex": [
       "\\begin{tabular}{r|cccccccccc}\n",
       "\t& docdate & year & docno & notary & coder & dateinv & datesale & depot & parish & \\\\\n",
       "\t\\hline\n",
       "\t& Date & Float64 & String? & String? & Float64? & Date? & Date? & Float64? & String? & \\\\\n",
       "\t\\hline\n",
       "\t1 & 1719-06-15 & 1719.0 & \\emph{missing} & \\emph{missing} & 1.0 & \\emph{missing} & \\emph{missing} & 55.0 & OR & $\\dots$ \\\\\n",
       "\t2 & 1719-06-15 & 1719.0 & \\emph{missing} & \\emph{missing} & 1.0 & \\emph{missing} & \\emph{missing} & 55.0 & OR & $\\dots$ \\\\\n",
       "\t3 & 1719-06-15 & 1719.0 & \\emph{missing} & \\emph{missing} & 1.0 & \\emph{missing} & \\emph{missing} & 55.0 & OR & $\\dots$ \\\\\n",
       "\t4 & 1719-06-15 & 1719.0 & \\emph{missing} & \\emph{missing} & 1.0 & \\emph{missing} & \\emph{missing} & 55.0 & OR & $\\dots$ \\\\\n",
       "\t5 & 1719-06-15 & 1719.0 & \\emph{missing} & \\emph{missing} & 1.0 & \\emph{missing} & \\emph{missing} & 55.0 & OR & $\\dots$ \\\\\n",
       "\\end{tabular}\n"
      ],
      "text/plain": [
       "\u001b[1m5×133 DataFrame\u001b[0m\n",
       "\u001b[1m Row \u001b[0m│\u001b[1m docdate    \u001b[0m\u001b[1m year    \u001b[0m\u001b[1m docno   \u001b[0m\u001b[1m notary  \u001b[0m\u001b[1m coder    \u001b[0m\u001b[1m dateinv \u001b[0m\u001b[1m datesale \u001b[0m\u001b[1m dep\u001b[0m ⋯\n",
       "\u001b[1m     \u001b[0m│\u001b[90m Date       \u001b[0m\u001b[90m Float64 \u001b[0m\u001b[90m String? \u001b[0m\u001b[90m String? \u001b[0m\u001b[90m Float64? \u001b[0m\u001b[90m Date?   \u001b[0m\u001b[90m Date?    \u001b[0m\u001b[90m Flo\u001b[0m ⋯\n",
       "─────┼──────────────────────────────────────────────────────────────────────────\n",
       "   1 │ 1719-06-15   1719.0 \u001b[90m missing \u001b[0m\u001b[90m missing \u001b[0m      1.0 \u001b[90m missing \u001b[0m\u001b[90m missing  \u001b[0m     ⋯\n",
       "   2 │ 1719-06-15   1719.0 \u001b[90m missing \u001b[0m\u001b[90m missing \u001b[0m      1.0 \u001b[90m missing \u001b[0m\u001b[90m missing  \u001b[0m\n",
       "   3 │ 1719-06-15   1719.0 \u001b[90m missing \u001b[0m\u001b[90m missing \u001b[0m      1.0 \u001b[90m missing \u001b[0m\u001b[90m missing  \u001b[0m\n",
       "   4 │ 1719-06-15   1719.0 \u001b[90m missing \u001b[0m\u001b[90m missing \u001b[0m      1.0 \u001b[90m missing \u001b[0m\u001b[90m missing  \u001b[0m\n",
       "   5 │ 1719-06-15   1719.0 \u001b[90m missing \u001b[0m\u001b[90m missing \u001b[0m      1.0 \u001b[90m missing \u001b[0m\u001b[90m missing  \u001b[0m     ⋯\n",
       "\u001b[36m                                                             126 columns omitted\u001b[0m"
      ]
     },
     "execution_count": 10,
     "metadata": {},
     "output_type": "execute_result"
    }
   ],
   "source": [
    "slave = CSV.read(\"data/Slave/Slave.csv\", DataFrame)[:,3:end]\n",
    "\n",
    "# Lets make the names lowercase for better readability\n",
    "rename!(slave, lowercase.(names(slave)))\n",
    "\n",
    "first(slave, 5)"
   ]
  },
  {
   "cell_type": "markdown",
   "id": "other-latter",
   "metadata": {},
   "source": [
    "Make some type changes to data set."
   ]
  },
  {
   "cell_type": "code",
   "execution_count": 14,
   "id": "fourth-champagne",
   "metadata": {},
   "outputs": [
    {
     "data": {
      "text/plain": [
       "()"
      ]
     },
     "execution_count": 14,
     "metadata": {},
     "output_type": "execute_result"
    }
   ],
   "source": [
    "slave.year = Int64.(slave.year)\n",
    "()"
   ]
  },
  {
   "cell_type": "markdown",
   "id": "chicken-tucson",
   "metadata": {},
   "source": [
    "Sale prices are listed in different currencies: \n",
    "\n",
    "| Currency of inventory inventory or sale value.| Equivalencies |\n",
    "| ---                                           | :---          |\n",
    "| p = piastre                                   | = 1 p         |\n",
    "| s = peso                                      | = 1 p         |\n",
    "| g = piastre gourde                            | = 1.75 p      |\n",
    "| f = peso fuerte                               | = 1.75 p      |\n",
    "| l = livre                                     | = 0.2 p       |\n",
    "| t = livre tournois                            |  ?            |\n",
    "| i = pound (livre) of indigo                   | = 1 p         |\n",
    "| d = U.S. dollar                               | = 1 p         |\n",
    "| z = unidentified                              |  ?            |"
   ]
  },
  {
   "cell_type": "code",
   "execution_count": 40,
   "id": "immune-magazine",
   "metadata": {
    "scrolled": true
   },
   "outputs": [
    {
     "data": {
      "text/html": [
       "<table class=\"data-frame\"><thead><tr><th></th><th>variable</th><th>mean</th><th>min</th><th>median</th><th>max</th><th>nunique</th><th>nmissing</th></tr><tr><th></th><th>Symbol</th><th>Union…</th><th>Any</th><th>Union…</th><th>Any</th><th>Union…</th><th>Union…</th></tr></thead><tbody><p>133 rows × 8 columns (omitted printing of 1 columns)</p><tr><th>1</th><td>docdate</td><td></td><td>1719-06-15</td><td></td><td>1820-12-31</td><td>11292</td><td></td></tr><tr><th>2</th><td>year</td><td>1797.38</td><td>1719</td><td>1808.0</td><td>1820</td><td></td><td></td></tr><tr><th>3</th><td>docno</td><td></td><td>     0</td><td></td><td>p.252</td><td>3298</td><td>9851</td></tr><tr><th>4</th><td>notary</td><td></td><td>0ierre Pedasclaux</td><td></td><td>vol. 22 Henry Hopkin</td><td>438</td><td>34036</td></tr><tr><th>5</th><td>coder</td><td>2.9168</td><td>1.0</td><td>3.0</td><td>9.0</td><td></td><td>22998</td></tr><tr><th>6</th><td>dateinv</td><td></td><td>0791-05-23</td><td></td><td>1995-10-15</td><td>767</td><td>91966</td></tr><tr><th>7</th><td>datesale</td><td></td><td>1404-03-31</td><td></td><td>1999-10-30</td><td>7305</td><td>73671</td></tr><tr><th>8</th><td>depot</td><td>16.9609</td><td>0.0</td><td>0.0</td><td>58.0</td><td></td><td>302</td></tr><tr><th>9</th><td>parish</td><td></td><td> R</td><td></td><td>sm</td><td>70</td><td>3864</td></tr><tr><th>10</th><td>location</td><td>8.54407</td><td>1.0</td><td>3.0</td><td>47.0</td><td></td><td>38</td></tr><tr><th>11</th><td>doctype</td><td>7.73702</td><td>1.0</td><td>7.0</td><td>25.0</td><td></td><td></td></tr><tr><th>12</th><td>revolts</td><td>1.0</td><td>1.0</td><td>1.0</td><td>1.0</td><td></td><td>100354</td></tr><tr><th>13</th><td>maroon</td><td>1.0</td><td>1.0</td><td>1.0</td><td>1.0</td><td></td><td>99596</td></tr><tr><th>14</th><td>language</td><td>1.61196</td><td>1.0</td><td>1.0</td><td>3.0</td><td></td><td></td></tr><tr><th>15</th><td>linguist</td><td>1.0</td><td>1.0</td><td>1.0</td><td>1.0</td><td></td><td>100106</td></tr><tr><th>16</th><td>estfree</td><td>1.0</td><td>1.0</td><td>1.0</td><td>1.0</td><td></td><td>100342</td></tr><tr><th>17</th><td>free</td><td>1.0</td><td>1.0</td><td>1.0</td><td>1.0</td><td></td><td>96326</td></tr><tr><th>18</th><td>estate_o</td><td></td><td>Abadie</td><td></td><td>unknown</td><td>2409</td><td>63390</td></tr><tr><th>19</th><td>firstnam</td><td></td><td>A.</td><td></td><td>wife of Bazile</td><td>1346</td><td>65169</td></tr><tr><th>20</th><td>estate</td><td></td><td>01-S-001-005-1793</td><td></td><td>37-A-001-035-1814</td><td>2873</td><td>65869</td></tr><tr><th>&vellip;</th><td>&vellip;</td><td>&vellip;</td><td>&vellip;</td><td>&vellip;</td><td>&vellip;</td><td>&vellip;</td><td>&vellip;</td></tr></tbody></table>"
      ],
      "text/latex": [
       "\\begin{tabular}{r|cccccccc}\n",
       "\t& variable & mean & min & median & max & nunique & nmissing & \\\\\n",
       "\t\\hline\n",
       "\t& Symbol & Union… & Any & Union… & Any & Union… & Union… & \\\\\n",
       "\t\\hline\n",
       "\t1 & docdate &  & 1719-06-15 &  & 1820-12-31 & 11292 &  & $\\dots$ \\\\\n",
       "\t2 & year & 1797.38 & 1719 & 1808.0 & 1820 &  &  & $\\dots$ \\\\\n",
       "\t3 & docno &  &      0 &  & p.252 & 3298 & 9851 & $\\dots$ \\\\\n",
       "\t4 & notary &  & 0ierre Pedasclaux &  & vol. 22 Henry Hopkin & 438 & 34036 & $\\dots$ \\\\\n",
       "\t5 & coder & 2.9168 & 1.0 & 3.0 & 9.0 &  & 22998 & $\\dots$ \\\\\n",
       "\t6 & dateinv &  & 0791-05-23 &  & 1995-10-15 & 767 & 91966 & $\\dots$ \\\\\n",
       "\t7 & datesale &  & 1404-03-31 &  & 1999-10-30 & 7305 & 73671 & $\\dots$ \\\\\n",
       "\t8 & depot & 16.9609 & 0.0 & 0.0 & 58.0 &  & 302 & $\\dots$ \\\\\n",
       "\t9 & parish &  &  R &  & sm & 70 & 3864 & $\\dots$ \\\\\n",
       "\t10 & location & 8.54407 & 1.0 & 3.0 & 47.0 &  & 38 & $\\dots$ \\\\\n",
       "\t11 & doctype & 7.73702 & 1.0 & 7.0 & 25.0 &  &  & $\\dots$ \\\\\n",
       "\t12 & revolts & 1.0 & 1.0 & 1.0 & 1.0 &  & 100354 & $\\dots$ \\\\\n",
       "\t13 & maroon & 1.0 & 1.0 & 1.0 & 1.0 &  & 99596 & $\\dots$ \\\\\n",
       "\t14 & language & 1.61196 & 1.0 & 1.0 & 3.0 &  &  & $\\dots$ \\\\\n",
       "\t15 & linguist & 1.0 & 1.0 & 1.0 & 1.0 &  & 100106 & $\\dots$ \\\\\n",
       "\t16 & estfree & 1.0 & 1.0 & 1.0 & 1.0 &  & 100342 & $\\dots$ \\\\\n",
       "\t17 & free & 1.0 & 1.0 & 1.0 & 1.0 &  & 96326 & $\\dots$ \\\\\n",
       "\t18 & estate\\_o &  & Abadie &  & unknown & 2409 & 63390 & $\\dots$ \\\\\n",
       "\t19 & firstnam &  & A. &  & wife of Bazile & 1346 & 65169 & $\\dots$ \\\\\n",
       "\t20 & estate &  & 01-S-001-005-1793 &  & 37-A-001-035-1814 & 2873 & 65869 & $\\dots$ \\\\\n",
       "\t$\\dots$ & $\\dots$ & $\\dots$ & $\\dots$ & $\\dots$ & $\\dots$ & $\\dots$ & $\\dots$ &  \\\\\n",
       "\\end{tabular}\n"
      ],
      "text/plain": [
       "133×8 DataFrame. Omitted printing of 4 columns\n",
       "│ Row │ variable │ mean      │ min               │ median │\n",
       "│     │ \u001b[90mSymbol\u001b[39m   │ \u001b[90mUnion…\u001b[39m    │ \u001b[90mAny\u001b[39m               │ \u001b[90mUnion…\u001b[39m │\n",
       "├─────┼──────────┼───────────┼───────────────────┼────────┤\n",
       "│ 1   │ docdate  │           │ 1719-06-15        │        │\n",
       "│ 2   │ year     │ 1797.38   │ 1719              │ 1808.0 │\n",
       "│ 3   │ docno    │           │      0            │        │\n",
       "│ 4   │ notary   │           │ 0ierre Pedasclaux │        │\n",
       "│ 5   │ coder    │ 2.9168    │ 1.0               │ 3.0    │\n",
       "⋮\n",
       "│ 128 │ skillgp3 │ 5.59184   │ 1.0               │ 6.0    │\n",
       "│ 129 │ skillgp4 │ 6.57037   │ 1.0               │ 6.0    │\n",
       "│ 130 │ skillgp5 │ 5.46154   │ 1.0               │ 6.0    │\n",
       "│ 131 │ agegroup │ 5.37004   │ 1.0               │ 5.0    │\n",
       "│ 132 │ agespan  │ 1.78361   │ 1.0               │ 2.0    │\n",
       "│ 133 │ maritime │ 0.0859079 │ 0.0               │ 0.0    │"
      ]
     },
     "execution_count": 40,
     "metadata": {},
     "output_type": "execute_result"
    }
   ],
   "source": [
    "describe(slave)"
   ]
  },
  {
   "cell_type": "code",
   "execution_count": 40,
   "id": "stainless-bulgarian",
   "metadata": {},
   "outputs": [
    {
     "data": {
      "text/html": [
       "<table class=\"data-frame\"><thead><tr><th></th><th>dateinv</th><th>datesale</th><th>invcur</th><th>invvalue</th><th>invvalp</th><th>salecur</th><th>salevalu</th><th>salevalp</th></tr><tr><th></th><th>Date?</th><th>Date?</th><th>String?</th><th>Float64?</th><th>Float64?</th><th>String?</th><th>Float64?</th><th>Float64?</th></tr></thead><tbody><p>3,293 rows × 9 columns (omitted printing of 1 columns)</p><tr><th>1</th><td>1820-06-05</td><td>1820-06-20</td><td>D</td><td>500.0</td><td>500.0</td><td>D</td><td>2150.0</td><td>2150.0</td></tr><tr><th>2</th><td>1735-10-17</td><td>1735-10-18</td><td><em>missing</em></td><td><em>missing</em></td><td><em>missing</em></td><td>L</td><td>1200.0</td><td>240.0</td></tr><tr><th>3</th><td>1735-10-17</td><td>1735-10-18</td><td><em>missing</em></td><td><em>missing</em></td><td><em>missing</em></td><td>L</td><td>2695.0</td><td>539.0</td></tr><tr><th>4</th><td>1735-10-17</td><td>1735-10-18</td><td><em>missing</em></td><td><em>missing</em></td><td><em>missing</em></td><td>L</td><td>2695.0</td><td>539.0</td></tr><tr><th>5</th><td>1735-10-17</td><td>1735-10-18</td><td><em>missing</em></td><td><em>missing</em></td><td><em>missing</em></td><td>L</td><td>2695.0</td><td>539.0</td></tr><tr><th>6</th><td>1735-10-17</td><td>1735-10-18</td><td><em>missing</em></td><td><em>missing</em></td><td><em>missing</em></td><td>L</td><td>2060.0</td><td>412.0</td></tr><tr><th>7</th><td>1735-10-17</td><td>1735-10-18</td><td><em>missing</em></td><td><em>missing</em></td><td><em>missing</em></td><td>L</td><td>2060.0</td><td>412.0</td></tr><tr><th>8</th><td>1735-10-17</td><td>1735-10-18</td><td><em>missing</em></td><td><em>missing</em></td><td><em>missing</em></td><td>L</td><td>2650.0</td><td>530.0</td></tr><tr><th>9</th><td>1735-10-17</td><td>1735-10-18</td><td><em>missing</em></td><td><em>missing</em></td><td><em>missing</em></td><td>L</td><td>2650.0</td><td>530.0</td></tr><tr><th>10</th><td>1735-10-17</td><td>1735-10-18</td><td><em>missing</em></td><td><em>missing</em></td><td><em>missing</em></td><td>L</td><td>110.0</td><td>22.0</td></tr><tr><th>11</th><td>1735-10-17</td><td>1735-10-18</td><td><em>missing</em></td><td><em>missing</em></td><td><em>missing</em></td><td>L</td><td>2695.0</td><td>539.0</td></tr><tr><th>12</th><td>1735-10-17</td><td>1735-10-18</td><td><em>missing</em></td><td><em>missing</em></td><td><em>missing</em></td><td>L</td><td>2695.0</td><td>539.0</td></tr><tr><th>13</th><td>1735-10-17</td><td>1735-10-18</td><td><em>missing</em></td><td><em>missing</em></td><td><em>missing</em></td><td>L</td><td>1260.0</td><td>252.0</td></tr><tr><th>14</th><td>1735-10-17</td><td>1735-10-18</td><td><em>missing</em></td><td><em>missing</em></td><td><em>missing</em></td><td>L</td><td>1260.0</td><td>252.0</td></tr><tr><th>15</th><td>1735-10-17</td><td>1735-10-18</td><td><em>missing</em></td><td><em>missing</em></td><td><em>missing</em></td><td>L</td><td>2060.0</td><td>412.0</td></tr><tr><th>16</th><td>1735-10-17</td><td>1735-10-18</td><td><em>missing</em></td><td><em>missing</em></td><td><em>missing</em></td><td>L</td><td>2060.0</td><td>412.0</td></tr><tr><th>17</th><td>1735-10-17</td><td>1735-10-18</td><td><em>missing</em></td><td><em>missing</em></td><td><em>missing</em></td><td>L</td><td>2650.0</td><td>530.0</td></tr><tr><th>18</th><td>1735-10-17</td><td>1735-10-18</td><td><em>missing</em></td><td><em>missing</em></td><td><em>missing</em></td><td>L</td><td>2650.0</td><td>530.0</td></tr><tr><th>19</th><td>1735-10-17</td><td>1735-10-18</td><td><em>missing</em></td><td><em>missing</em></td><td><em>missing</em></td><td>L</td><td>850.0</td><td>170.0</td></tr><tr><th>20</th><td>1735-10-17</td><td>1735-10-18</td><td><em>missing</em></td><td><em>missing</em></td><td><em>missing</em></td><td><em>missing</em></td><td>0.0</td><td><em>missing</em></td></tr><tr><th>21</th><td>1735-10-17</td><td>1735-10-18</td><td><em>missing</em></td><td><em>missing</em></td><td><em>missing</em></td><td>L</td><td>910.0</td><td>182.0</td></tr><tr><th>22</th><td>1735-10-17</td><td>1735-10-18</td><td><em>missing</em></td><td><em>missing</em></td><td><em>missing</em></td><td>L</td><td>820.0</td><td>164.0</td></tr><tr><th>23</th><td>1735-10-17</td><td>1735-10-18</td><td><em>missing</em></td><td><em>missing</em></td><td><em>missing</em></td><td>L</td><td>900.0</td><td>180.0</td></tr><tr><th>24</th><td>1735-10-17</td><td>1735-10-18</td><td><em>missing</em></td><td><em>missing</em></td><td><em>missing</em></td><td>L</td><td>560.0</td><td>112.0</td></tr><tr><th>25</th><td>1735-10-17</td><td>1735-10-18</td><td><em>missing</em></td><td><em>missing</em></td><td><em>missing</em></td><td>L</td><td>760.0</td><td>152.0</td></tr><tr><th>26</th><td>1735-10-17</td><td>1735-10-18</td><td><em>missing</em></td><td><em>missing</em></td><td><em>missing</em></td><td>L</td><td>405.0</td><td>81.0</td></tr><tr><th>27</th><td>1735-12-14</td><td>1735-12-22</td><td>L</td><td>1500.0</td><td>300.0</td><td>L</td><td>1820.0</td><td>364.0</td></tr><tr><th>28</th><td>1735-12-14</td><td>1735-12-22</td><td>L</td><td>1500.0</td><td>300.0</td><td><em>missing</em></td><td>1820.0</td><td><em>missing</em></td></tr><tr><th>29</th><td>1735-12-14</td><td>1735-12-22</td><td>L</td><td>1500.0</td><td>300.0</td><td>L</td><td>1820.0</td><td>364.0</td></tr><tr><th>30</th><td>1735-12-14</td><td>1735-12-22</td><td>L</td><td>1500.0</td><td>300.0</td><td>L</td><td>1820.0</td><td>364.0</td></tr><tr><th>&vellip;</th><td>&vellip;</td><td>&vellip;</td><td>&vellip;</td><td>&vellip;</td><td>&vellip;</td><td>&vellip;</td><td>&vellip;</td><td>&vellip;</td></tr></tbody></table>"
      ],
      "text/latex": [
       "\\begin{tabular}{r|ccccccccc}\n",
       "\t& dateinv & datesale & invcur & invvalue & invvalp & salecur & salevalu & salevalp & \\\\\n",
       "\t\\hline\n",
       "\t& Date? & Date? & String? & Float64? & Float64? & String? & Float64? & Float64? & \\\\\n",
       "\t\\hline\n",
       "\t1 & 1820-06-05 & 1820-06-20 & D & 500.0 & 500.0 & D & 2150.0 & 2150.0 & $\\dots$ \\\\\n",
       "\t2 & 1735-10-17 & 1735-10-18 & \\emph{missing} & \\emph{missing} & \\emph{missing} & L & 1200.0 & 240.0 & $\\dots$ \\\\\n",
       "\t3 & 1735-10-17 & 1735-10-18 & \\emph{missing} & \\emph{missing} & \\emph{missing} & L & 2695.0 & 539.0 & $\\dots$ \\\\\n",
       "\t4 & 1735-10-17 & 1735-10-18 & \\emph{missing} & \\emph{missing} & \\emph{missing} & L & 2695.0 & 539.0 & $\\dots$ \\\\\n",
       "\t5 & 1735-10-17 & 1735-10-18 & \\emph{missing} & \\emph{missing} & \\emph{missing} & L & 2695.0 & 539.0 & $\\dots$ \\\\\n",
       "\t6 & 1735-10-17 & 1735-10-18 & \\emph{missing} & \\emph{missing} & \\emph{missing} & L & 2060.0 & 412.0 & $\\dots$ \\\\\n",
       "\t7 & 1735-10-17 & 1735-10-18 & \\emph{missing} & \\emph{missing} & \\emph{missing} & L & 2060.0 & 412.0 & $\\dots$ \\\\\n",
       "\t8 & 1735-10-17 & 1735-10-18 & \\emph{missing} & \\emph{missing} & \\emph{missing} & L & 2650.0 & 530.0 & $\\dots$ \\\\\n",
       "\t9 & 1735-10-17 & 1735-10-18 & \\emph{missing} & \\emph{missing} & \\emph{missing} & L & 2650.0 & 530.0 & $\\dots$ \\\\\n",
       "\t10 & 1735-10-17 & 1735-10-18 & \\emph{missing} & \\emph{missing} & \\emph{missing} & L & 110.0 & 22.0 & $\\dots$ \\\\\n",
       "\t11 & 1735-10-17 & 1735-10-18 & \\emph{missing} & \\emph{missing} & \\emph{missing} & L & 2695.0 & 539.0 & $\\dots$ \\\\\n",
       "\t12 & 1735-10-17 & 1735-10-18 & \\emph{missing} & \\emph{missing} & \\emph{missing} & L & 2695.0 & 539.0 & $\\dots$ \\\\\n",
       "\t13 & 1735-10-17 & 1735-10-18 & \\emph{missing} & \\emph{missing} & \\emph{missing} & L & 1260.0 & 252.0 & $\\dots$ \\\\\n",
       "\t14 & 1735-10-17 & 1735-10-18 & \\emph{missing} & \\emph{missing} & \\emph{missing} & L & 1260.0 & 252.0 & $\\dots$ \\\\\n",
       "\t15 & 1735-10-17 & 1735-10-18 & \\emph{missing} & \\emph{missing} & \\emph{missing} & L & 2060.0 & 412.0 & $\\dots$ \\\\\n",
       "\t16 & 1735-10-17 & 1735-10-18 & \\emph{missing} & \\emph{missing} & \\emph{missing} & L & 2060.0 & 412.0 & $\\dots$ \\\\\n",
       "\t17 & 1735-10-17 & 1735-10-18 & \\emph{missing} & \\emph{missing} & \\emph{missing} & L & 2650.0 & 530.0 & $\\dots$ \\\\\n",
       "\t18 & 1735-10-17 & 1735-10-18 & \\emph{missing} & \\emph{missing} & \\emph{missing} & L & 2650.0 & 530.0 & $\\dots$ \\\\\n",
       "\t19 & 1735-10-17 & 1735-10-18 & \\emph{missing} & \\emph{missing} & \\emph{missing} & L & 850.0 & 170.0 & $\\dots$ \\\\\n",
       "\t20 & 1735-10-17 & 1735-10-18 & \\emph{missing} & \\emph{missing} & \\emph{missing} & \\emph{missing} & 0.0 & \\emph{missing} & $\\dots$ \\\\\n",
       "\t21 & 1735-10-17 & 1735-10-18 & \\emph{missing} & \\emph{missing} & \\emph{missing} & L & 910.0 & 182.0 & $\\dots$ \\\\\n",
       "\t22 & 1735-10-17 & 1735-10-18 & \\emph{missing} & \\emph{missing} & \\emph{missing} & L & 820.0 & 164.0 & $\\dots$ \\\\\n",
       "\t23 & 1735-10-17 & 1735-10-18 & \\emph{missing} & \\emph{missing} & \\emph{missing} & L & 900.0 & 180.0 & $\\dots$ \\\\\n",
       "\t24 & 1735-10-17 & 1735-10-18 & \\emph{missing} & \\emph{missing} & \\emph{missing} & L & 560.0 & 112.0 & $\\dots$ \\\\\n",
       "\t25 & 1735-10-17 & 1735-10-18 & \\emph{missing} & \\emph{missing} & \\emph{missing} & L & 760.0 & 152.0 & $\\dots$ \\\\\n",
       "\t26 & 1735-10-17 & 1735-10-18 & \\emph{missing} & \\emph{missing} & \\emph{missing} & L & 405.0 & 81.0 & $\\dots$ \\\\\n",
       "\t27 & 1735-12-14 & 1735-12-22 & L & 1500.0 & 300.0 & L & 1820.0 & 364.0 & $\\dots$ \\\\\n",
       "\t28 & 1735-12-14 & 1735-12-22 & L & 1500.0 & 300.0 & \\emph{missing} & 1820.0 & \\emph{missing} & $\\dots$ \\\\\n",
       "\t29 & 1735-12-14 & 1735-12-22 & L & 1500.0 & 300.0 & L & 1820.0 & 364.0 & $\\dots$ \\\\\n",
       "\t30 & 1735-12-14 & 1735-12-22 & L & 1500.0 & 300.0 & L & 1820.0 & 364.0 & $\\dots$ \\\\\n",
       "\t$\\dots$ & $\\dots$ & $\\dots$ & $\\dots$ & $\\dots$ & $\\dots$ & $\\dots$ & $\\dots$ & $\\dots$ &  \\\\\n",
       "\\end{tabular}\n"
      ],
      "text/plain": [
       "\u001b[1m3293×9 DataFrame\u001b[0m\n",
       "\u001b[1m  Row \u001b[0m│\u001b[1m dateinv    \u001b[0m\u001b[1m datesale   \u001b[0m\u001b[1m invcur  \u001b[0m\u001b[1m invvalue  \u001b[0m\u001b[1m invvalp   \u001b[0m\u001b[1m salecur \u001b[0m\u001b[1m saleva\u001b[0m ⋯\n",
       "\u001b[1m      \u001b[0m│\u001b[90m Date?      \u001b[0m\u001b[90m Date?      \u001b[0m\u001b[90m String? \u001b[0m\u001b[90m Float64?  \u001b[0m\u001b[90m Float64?  \u001b[0m\u001b[90m String? \u001b[0m\u001b[90m Float6\u001b[0m ⋯\n",
       "──────┼─────────────────────────────────────────────────────────────────────────\n",
       "    1 │ 1820-06-05  1820-06-20  D            500.0      500.0  D          2150 ⋯\n",
       "    2 │ 1735-10-17  1735-10-18 \u001b[90m missing \u001b[0m\u001b[90m missing   \u001b[0m\u001b[90m missing   \u001b[0m L          1200\n",
       "    3 │ 1735-10-17  1735-10-18 \u001b[90m missing \u001b[0m\u001b[90m missing   \u001b[0m\u001b[90m missing   \u001b[0m L          2695\n",
       "    4 │ 1735-10-17  1735-10-18 \u001b[90m missing \u001b[0m\u001b[90m missing   \u001b[0m\u001b[90m missing   \u001b[0m L          2695\n",
       "    5 │ 1735-10-17  1735-10-18 \u001b[90m missing \u001b[0m\u001b[90m missing   \u001b[0m\u001b[90m missing   \u001b[0m L          2695 ⋯\n",
       "    6 │ 1735-10-17  1735-10-18 \u001b[90m missing \u001b[0m\u001b[90m missing   \u001b[0m\u001b[90m missing   \u001b[0m L          2060\n",
       "    7 │ 1735-10-17  1735-10-18 \u001b[90m missing \u001b[0m\u001b[90m missing   \u001b[0m\u001b[90m missing   \u001b[0m L          2060\n",
       "    8 │ 1735-10-17  1735-10-18 \u001b[90m missing \u001b[0m\u001b[90m missing   \u001b[0m\u001b[90m missing   \u001b[0m L          2650\n",
       "    9 │ 1735-10-17  1735-10-18 \u001b[90m missing \u001b[0m\u001b[90m missing   \u001b[0m\u001b[90m missing   \u001b[0m L          2650 ⋯\n",
       "   10 │ 1735-10-17  1735-10-18 \u001b[90m missing \u001b[0m\u001b[90m missing   \u001b[0m\u001b[90m missing   \u001b[0m L           110\n",
       "   11 │ 1735-10-17  1735-10-18 \u001b[90m missing \u001b[0m\u001b[90m missing   \u001b[0m\u001b[90m missing   \u001b[0m L          2695\n",
       "  ⋮   │     ⋮           ⋮          ⋮         ⋮          ⋮         ⋮        ⋮   ⋱\n",
       " 3284 │ 1820-11-03  1820-12-04  D           1500.0     1500.0  D          1515\n",
       " 3285 │ 1820-11-03  1820-12-04  D           1500.0     1500.0  D          1515 ⋯\n",
       " 3286 │ 1820-12-02  1821-01-03  D            500.0      500.0  D           505\n",
       " 3287 │ 1820-12-02  1821-01-03  D            800.0      800.0  D           990\n",
       " 3288 │ 1820-12-13  1821-01-29  D           1200.0     1200.0  D          1600\n",
       " 3289 │ 1820-12-13  1821-01-29  D           1200.0     1200.0  D          1410 ⋯\n",
       " 3290 │ 1820-12-13  1821-01-29  D           1800.0     1800.0  D          2555\n",
       " 3291 │ 1820-12-13  1821-01-29  D           1800.0     1800.0  D          2555\n",
       " 3292 │ 1820-12-13  1821-01-29  D           1800.0     1800.0  D          2555\n",
       " 3293 │ 1820-12-13  1821-01-29  D           1800.0     1800.0  D          2555 ⋯\n",
       "\u001b[36m                                                 3 columns and 3272 rows omitted\u001b[0m"
      ]
     },
     "execution_count": 40,
     "metadata": {},
     "output_type": "execute_result"
    }
   ],
   "source": [
    "@pipe slave |> \n",
    "  @where(_, .!ismissing.(:datesale) .& .!ismissing.(:dateinv)) |> \n",
    "  _[:, r\"sale|inv|datesale|dateinv\"] "
   ]
  },
  {
   "cell_type": "code",
   "execution_count": 82,
   "id": "minus-harvard",
   "metadata": {},
   "outputs": [
    {
     "data": {
      "text/html": [
       "<table class=\"data-frame\"><thead><tr><th></th><th>invvalue</th><th>salevalu</th><th>year</th><th>salehigher</th></tr><tr><th></th><th>Float64?</th><th>Float64?</th><th>Int64</th><th>Bool</th></tr></thead><tbody><p>3,337 rows × 4 columns</p><tr><th>1</th><td>500.0</td><td>960.0</td><td>1736</td><td>1</td></tr><tr><th>2</th><td>100.0</td><td>505.0</td><td>1736</td><td>1</td></tr><tr><th>3</th><td>300.0</td><td>590.0</td><td>1736</td><td>1</td></tr><tr><th>4</th><td>800.0</td><td>1070.0</td><td>1736</td><td>1</td></tr><tr><th>5</th><td>150.0</td><td>405.0</td><td>1736</td><td>1</td></tr><tr><th>6</th><td>1000.0</td><td>1250.0</td><td>1736</td><td>1</td></tr><tr><th>7</th><td>1000.0</td><td>2000.0</td><td>1736</td><td>1</td></tr><tr><th>8</th><td>1000.0</td><td>1090.0</td><td>1736</td><td>1</td></tr><tr><th>9</th><td>1000.0</td><td>1150.0</td><td>1737</td><td>1</td></tr><tr><th>10</th><td>1000.0</td><td>1225.0</td><td>1737</td><td>1</td></tr><tr><th>11</th><td>600.0</td><td>730.0</td><td>1737</td><td>1</td></tr><tr><th>12</th><td>400.0</td><td>155.0</td><td>1737</td><td>0</td></tr><tr><th>13</th><td>800.0</td><td>550.0</td><td>1737</td><td>0</td></tr><tr><th>14</th><td>2000.0</td><td>1530.0</td><td>1738</td><td>0</td></tr><tr><th>15</th><td>1200.0</td><td>2010.0</td><td>1738</td><td>1</td></tr><tr><th>16</th><td>600.0</td><td>785.0</td><td>1739</td><td>1</td></tr><tr><th>17</th><td>1000.0</td><td>2200.0</td><td>1739</td><td>1</td></tr><tr><th>18</th><td>1200.0</td><td>2200.0</td><td>1739</td><td>1</td></tr><tr><th>19</th><td>1200.0</td><td>1795.0</td><td>1739</td><td>1</td></tr><tr><th>20</th><td>1000.0</td><td>1840.0</td><td>1739</td><td>1</td></tr><tr><th>&vellip;</th><td>&vellip;</td><td>&vellip;</td><td>&vellip;</td><td>&vellip;</td></tr></tbody></table>"
      ],
      "text/latex": [
       "\\begin{tabular}{r|cccc}\n",
       "\t& invvalue & salevalu & year & salehigher\\\\\n",
       "\t\\hline\n",
       "\t& Float64? & Float64? & Int64 & Bool\\\\\n",
       "\t\\hline\n",
       "\t1 & 500.0 & 960.0 & 1736 & 1 \\\\\n",
       "\t2 & 100.0 & 505.0 & 1736 & 1 \\\\\n",
       "\t3 & 300.0 & 590.0 & 1736 & 1 \\\\\n",
       "\t4 & 800.0 & 1070.0 & 1736 & 1 \\\\\n",
       "\t5 & 150.0 & 405.0 & 1736 & 1 \\\\\n",
       "\t6 & 1000.0 & 1250.0 & 1736 & 1 \\\\\n",
       "\t7 & 1000.0 & 2000.0 & 1736 & 1 \\\\\n",
       "\t8 & 1000.0 & 1090.0 & 1736 & 1 \\\\\n",
       "\t9 & 1000.0 & 1150.0 & 1737 & 1 \\\\\n",
       "\t10 & 1000.0 & 1225.0 & 1737 & 1 \\\\\n",
       "\t11 & 600.0 & 730.0 & 1737 & 1 \\\\\n",
       "\t12 & 400.0 & 155.0 & 1737 & 0 \\\\\n",
       "\t13 & 800.0 & 550.0 & 1737 & 0 \\\\\n",
       "\t14 & 2000.0 & 1530.0 & 1738 & 0 \\\\\n",
       "\t15 & 1200.0 & 2010.0 & 1738 & 1 \\\\\n",
       "\t16 & 600.0 & 785.0 & 1739 & 1 \\\\\n",
       "\t17 & 1000.0 & 2200.0 & 1739 & 1 \\\\\n",
       "\t18 & 1200.0 & 2200.0 & 1739 & 1 \\\\\n",
       "\t19 & 1200.0 & 1795.0 & 1739 & 1 \\\\\n",
       "\t20 & 1000.0 & 1840.0 & 1739 & 1 \\\\\n",
       "\t$\\dots$ & $\\dots$ & $\\dots$ & $\\dots$ & $\\dots$ \\\\\n",
       "\\end{tabular}\n"
      ],
      "text/plain": [
       "3337×4 DataFrame\n",
       "│ Row  │ invvalue │ salevalu │ year  │ salehigher │\n",
       "│      │ \u001b[90mFloat64?\u001b[39m │ \u001b[90mFloat64?\u001b[39m │ \u001b[90mInt64\u001b[39m │ \u001b[90mBool\u001b[39m       │\n",
       "├──────┼──────────┼──────────┼───────┼────────────┤\n",
       "│ 1    │ 500.0    │ 960.0    │ 1736  │ 1          │\n",
       "│ 2    │ 100.0    │ 505.0    │ 1736  │ 1          │\n",
       "│ 3    │ 300.0    │ 590.0    │ 1736  │ 1          │\n",
       "│ 4    │ 800.0    │ 1070.0   │ 1736  │ 1          │\n",
       "│ 5    │ 150.0    │ 405.0    │ 1736  │ 1          │\n",
       "⋮\n",
       "│ 3332 │ 500.0    │ 505.0    │ 1820  │ 1          │\n",
       "│ 3333 │ 800.0    │ 990.0    │ 1820  │ 1          │\n",
       "│ 3334 │ 1200.0   │ 1600.0   │ 1820  │ 1          │\n",
       "│ 3335 │ 1200.0   │ 1410.0   │ 1820  │ 1          │\n",
       "│ 3336 │ 600.0    │ 1060.0   │ 1820  │ 1          │\n",
       "│ 3337 │ 475.0    │ 530.0    │ 1820  │ 1          │"
      ]
     },
     "execution_count": 82,
     "metadata": {},
     "output_type": "execute_result"
    }
   ],
   "source": [
    "notmissing(x) = !ismissing(x)\n",
    "\n",
    "@linq slave |> \n",
    "    where(.!ismissing.(:invvalue) .& .!ismissing.(:salevalu) .& (:invvalue .!= 0) .& (:salevalu .!= 0) .&\n",
    "    (:group .== 2)) |> \n",
    "    select(:invvalue, :salevalu, :year) |> \n",
    "    transform(salehigher = :salevalu .> :invvalue)"
   ]
  },
  {
   "cell_type": "code",
   "execution_count": null,
   "id": "funded-marijuana",
   "metadata": {},
   "outputs": [],
   "source": []
  },
  {
   "cell_type": "code",
   "execution_count": null,
   "id": "magnetic-castle",
   "metadata": {},
   "outputs": [],
   "source": []
  },
  {
   "cell_type": "code",
   "execution_count": 11,
   "id": "sound-nickname",
   "metadata": {},
   "outputs": [
    {
     "ename": "UndefVarError",
     "evalue": "UndefVarError: slave not defined",
     "output_type": "error",
     "traceback": [
      "UndefVarError: slave not defined",
      "",
      "Stacktrace:",
      " [1] top-level scope at In[11]:1"
     ]
    }
   ],
   "source": [
    "[v in [\"9\", \"Unnamed\", \"no name\"] for v in slave.NAME ]"
   ]
  },
  {
   "cell_type": "code",
   "execution_count": 12,
   "id": "pretty-planner",
   "metadata": {},
   "outputs": [
    {
     "ename": "UndefVarError",
     "evalue": "UndefVarError: slave not defined",
     "output_type": "error",
     "traceback": [
      "UndefVarError: slave not defined",
      "",
      "Stacktrace:",
      " [1] top-level scope at In[12]:1"
     ]
    }
   ],
   "source": [
    "slave.NAME[[v in [\"9\", \"Unnamed\", \"no name\"] for v in slave.NAME ]]"
   ]
  },
  {
   "cell_type": "code",
   "execution_count": 13,
   "id": "protected-prerequisite",
   "metadata": {},
   "outputs": [
    {
     "ename": "UndefVarError",
     "evalue": "UndefVarError: slave not defined",
     "output_type": "error",
     "traceback": [
      "UndefVarError: slave not defined",
      "",
      "Stacktrace:",
      " [1] top-level scope at In[13]:1"
     ]
    }
   ],
   "source": [
    "sort(freqtable(slave.NAME), rev = true)"
   ]
  },
  {
   "cell_type": "code",
   "execution_count": 14,
   "id": "sexual-safety",
   "metadata": {},
   "outputs": [
    {
     "ename": "UndefVarError",
     "evalue": "UndefVarError: CSV not defined",
     "output_type": "error",
     "traceback": [
      "UndefVarError: CSV not defined",
      "",
      "Stacktrace:",
      " [1] top-level scope at In[14]:1"
     ]
    }
   ],
   "source": [
    "free  = CSV.read(\"data/Free/Free.csv\")[:,3:end]"
   ]
  },
  {
   "cell_type": "code",
   "execution_count": 15,
   "id": "ahead-camel",
   "metadata": {},
   "outputs": [
    {
     "ename": "UndefVarError",
     "evalue": "UndefVarError: free not defined",
     "output_type": "error",
     "traceback": [
      "UndefVarError: free not defined",
      "",
      "Stacktrace:",
      " [1] top-level scope at In[15]:1"
     ]
    }
   ],
   "source": [
    "free.YEAR = free.YEAR .|> Int"
   ]
  },
  {
   "cell_type": "code",
   "execution_count": null,
   "id": "buried-result",
   "metadata": {},
   "outputs": [],
   "source": []
  }
 ],
 "metadata": {
  "@webio": {
   "lastCommId": null,
   "lastKernelId": null
  },
  "kernelspec": {
   "display_name": "Julia 1.6.0",
   "language": "julia",
   "name": "julia-1.6"
  },
  "language_info": {
   "file_extension": ".jl",
   "mimetype": "application/julia",
   "name": "julia",
   "version": "1.6.0"
  }
 },
 "nbformat": 4,
 "nbformat_minor": 5
}
