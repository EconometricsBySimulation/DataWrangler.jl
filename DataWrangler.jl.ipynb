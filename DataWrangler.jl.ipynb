{
 "cells": [
  {
   "cell_type": "code",
   "execution_count": 1,
   "id": "orange-islam",
   "metadata": {},
   "outputs": [
    {
     "name": "stderr",
     "output_type": "stream",
     "text": [
      "\u001b[32m\u001b[1m  Activating\u001b[22m\u001b[39m environment at `E:\\PP\\git\\DataWrangler.jl\\Project.toml`\n"
     ]
    }
   ],
   "source": [
    "using Pkg; Pkg.activate(\".\")\n",
    "using DataFrames, DataFramesMeta, Statistics, Base.Iterators\n",
    "\n",
    "# Pkg.status(\"DataFrames\")\n",
    "# Pkg.status(\"DataFramesMeta\")"
   ]
  },
  {
   "cell_type": "markdown",
   "id": "retained-issue",
   "metadata": {},
   "source": [
    "## Most promising @mod   (maybe @mod_ with @mount df)"
   ]
  },
  {
   "cell_type": "code",
   "execution_count": 44,
   "id": "sought-respect",
   "metadata": {},
   "outputs": [
    {
     "data": {
      "text/plain": [
       "fillmissing (generic function with 1 method)"
      ]
     },
     "execution_count": 44,
     "metadata": {},
     "output_type": "execute_result"
    }
   ],
   "source": [
    "# This function is probably the most poorly written feature of the code so far.\n",
    "function fillmissing(d1::DataFrame, d2::DataFrame)\n",
    "    for v in names(d1)\n",
    "        if (!hasproperty(d2, v) || (unique(typeof.(d2[:, v])) == [Missing]))\n",
    "            if ((any(unique(typeof.(d1[!, v])) .<: Number)) & (any(unique(typeof.(d1[!, v])) .<: String)))\n",
    "                d2[!, v] .= Any[] # This doesn't work \n",
    "                d2[!, v]  = allowmissing(d2[!, v])\n",
    "                d2[:, v] .= missing\n",
    "            elseif (any(unique(typeof.(d1[!, v])) .<: Number))\n",
    "                d2[!, v] .= 0.0 # There must be a better way of doing this\n",
    "                d2[!, v]  = allowmissing(d2[!, v])\n",
    "                d2[:, v] .= missing\n",
    "            elseif (any(unique(typeof.(d1[!, v])) .<: String))\n",
    "                d2[!, v] .= \"\" # There must be a better way of doing this\n",
    "                d2[!, v]  = allowmissing(d2[!, v])\n",
    "                d2[:, v] .= missing\n",
    "            else\n",
    "                d2[!, v] .= missing\n",
    "            end\n",
    "        end\n",
    "    end\n",
    "    return d2\n",
    "end"
   ]
  },
  {
   "cell_type": "code",
   "execution_count": 3,
   "id": "miniature-counter",
   "metadata": {},
   "outputs": [
    {
     "data": {
      "text/plain": [
       "pullmatches (generic function with 1 method)"
      ]
     },
     "execution_count": 3,
     "metadata": {},
     "output_type": "execute_result"
    }
   ],
   "source": [
    "function pullmatches(args, regexlist)\n",
    "    returnlist = fill(Expr[], length(regexlist) + 1)\n",
    "    touched = fill(0, length(args))\n",
    "    \n",
    "    for (i, rx) in enumerate(regexlist)\n",
    "        returnlist[i] = [v for v in args if occursin(rx, string(v)) ]\n",
    "        touched += [occursin(rx, string(v)) for v in args]\n",
    "    end\n",
    "    \n",
    "    returnlist[end] = [args[i] for i in 1:length(args) if touched[i]==0]\n",
    "    \n",
    "    return returnlist\n",
    "    \n",
    "end"
   ]
  },
  {
   "cell_type": "code",
   "execution_count": 4,
   "id": "fluid-liver",
   "metadata": {},
   "outputs": [
    {
     "data": {
      "text/plain": [
       "@mod (macro with 1 method)"
      ]
     },
     "execution_count": 4,
     "metadata": {},
     "output_type": "execute_result"
    }
   ],
   "source": [
    "macro mod(df, args...)\n",
    "    \n",
    "    iffs , bys , targets = pullmatches(args, [r\"^(iff|when|\\(:if\\))\\(\", r\"^(by|\\(:by\\))\\(\"])\n",
    "    \n",
    "    (length(iffs) > 1) && \n",
    "        throw(\"Only one `iff()` allowed! Group multiple with `.&`.\")\n",
    "    (length(bys)  > 1) && \n",
    "        throw(\"Only one `by()`  allowed! Group multiple by with `,`.\")\n",
    "    \n",
    "    (length(iffs) == 1) && (iffs[1].head = :(=); iffs[1].args[1] = :iff)\n",
    "    \n",
    "    groupbys = (length(bys) == 1) ? \n",
    "        (x -> (x isa QuoteNode ? eval(x) : x)).(bys[1].args[2:end]) : []\n",
    "\n",
    "    d = copy(eval(df))\n",
    "\n",
    "    (length(iffs) == 0) && (selector = fill(true, size(d, 1)))\n",
    "    (length(iffs) == 1) && (selector = eval(:( (@transform $d $(iffs...)).iff) ))\n",
    "\n",
    "    xout = d[selector, :]\n",
    "\n",
    "    # If bys have been defined then group the dataframe by $bys\n",
    "    (length(bys) == 1) && (xout = groupby(xout, [groupbys...]))\n",
    "\n",
    "    xout = eval(:(  @transform $xout $(targets...) ))\n",
    "\n",
    "    # If bys have been defined then ungroup the dataframe by $bys\n",
    "    (length(bys) == 1) && (xout = DataFrame(xout))\n",
    "\n",
    "    d = fillmissing(xout, d)\n",
    "\n",
    "    d[selector, names(xout)] = xout\n",
    "\n",
    "    d\n",
    "\n",
    "end"
   ]
  },
  {
   "cell_type": "code",
   "execution_count": 5,
   "id": "pharmaceutical-advantage",
   "metadata": {},
   "outputs": [
    {
     "data": {
      "text/plain": [
       "@mod! (macro with 1 method)"
      ]
     },
     "execution_count": 5,
     "metadata": {},
     "output_type": "execute_result"
    }
   ],
   "source": [
    "using DataFrames: _replace_columns!\n",
    "\n",
    "macro mod!(x, args...)    \n",
    "    quote\n",
    "        y = (@mod $x $(args...))\n",
    "        _replace_columns!($x, y)\n",
    "    end\n",
    "end"
   ]
  },
  {
   "cell_type": "markdown",
   "id": "scientific-mount",
   "metadata": {},
   "source": [
    "### Demo"
   ]
  },
  {
   "cell_type": "code",
   "execution_count": 6,
   "id": "cubic-fence",
   "metadata": {
    "scrolled": false
   },
   "outputs": [
    {
     "data": {
      "text/html": [
       "<table class=\"data-frame\"><thead><tr><th></th><th>A</th><th>B</th><th>C</th></tr><tr><th></th><th>Int64</th><th>Int64</th><th>Int64</th></tr></thead><tbody><p>6 rows × 3 columns</p><tr><th>1</th><td>1</td><td>1</td><td>2</td></tr><tr><th>2</th><td>2</td><td>1</td><td>2</td></tr><tr><th>3</th><td>3</td><td>2</td><td>1</td></tr><tr><th>4</th><td>4</td><td>1</td><td>2</td></tr><tr><th>5</th><td>5</td><td>2</td><td>1</td></tr><tr><th>6</th><td>6</td><td>2</td><td>2</td></tr></tbody></table>"
      ],
      "text/latex": [
       "\\begin{tabular}{r|ccc}\n",
       "\t& A & B & C\\\\\n",
       "\t\\hline\n",
       "\t& Int64 & Int64 & Int64\\\\\n",
       "\t\\hline\n",
       "\t1 & 1 & 1 & 2 \\\\\n",
       "\t2 & 2 & 1 & 2 \\\\\n",
       "\t3 & 3 & 2 & 1 \\\\\n",
       "\t4 & 4 & 1 & 2 \\\\\n",
       "\t5 & 5 & 2 & 1 \\\\\n",
       "\t6 & 6 & 2 & 2 \\\\\n",
       "\\end{tabular}\n"
      ],
      "text/plain": [
       "\u001b[1m6×3 DataFrame\u001b[0m\n",
       "\u001b[1m Row \u001b[0m│\u001b[1m A     \u001b[0m\u001b[1m B     \u001b[0m\u001b[1m C     \u001b[0m\n",
       "\u001b[1m     \u001b[0m│\u001b[90m Int64 \u001b[0m\u001b[90m Int64 \u001b[0m\u001b[90m Int64 \u001b[0m\n",
       "─────┼─────────────────────\n",
       "   1 │     1      1      2\n",
       "   2 │     2      1      2\n",
       "   3 │     3      2      1\n",
       "   4 │     4      1      2\n",
       "   5 │     5      2      1\n",
       "   6 │     6      2      2"
      ]
     },
     "execution_count": 6,
     "metadata": {},
     "output_type": "execute_result"
    }
   ],
   "source": [
    "n = 6\n",
    "x = DataFrame(A=1:n, B=rand(1:2, n), C=rand(1:2, n))"
   ]
  },
  {
   "cell_type": "code",
   "execution_count": 7,
   "id": "changing-slide",
   "metadata": {},
   "outputs": [
    {
     "data": {
      "text/html": [
       "<table class=\"data-frame\"><thead><tr><th></th><th>A</th><th>B</th><th>C</th><th>D</th><th>run</th><th>E</th><th>H</th></tr><tr><th></th><th>Int64</th><th>Int64</th><th>Int64</th><th>Float64?</th><th>Float64?</th><th>Float64?</th><th>Float64?</th></tr></thead><tbody><p>6 rows × 7 columns</p><tr><th>1</th><td>1</td><td>1</td><td>2</td><td>2.0</td><td><em>missing</em></td><td><em>missing</em></td><td><em>missing</em></td></tr><tr><th>2</th><td>2</td><td>1</td><td>2</td><td>8.0</td><td><em>missing</em></td><td><em>missing</em></td><td><em>missing</em></td></tr><tr><th>3</th><td>3</td><td>2</td><td>1</td><td>30.0</td><td>1.0</td><td><em>missing</em></td><td><em>missing</em></td></tr><tr><th>4</th><td>4</td><td>1</td><td>2</td><td>30.0</td><td>3.0</td><td>2.0</td><td>4.0</td></tr><tr><th>5</th><td>5</td><td>2</td><td>1</td><td>30.0</td><td>3.0</td><td>2.2</td><td>5.0</td></tr><tr><th>6</th><td>6</td><td>2</td><td>2</td><td>7.0</td><td>3.0</td><td>2.4</td><td>6.0</td></tr></tbody></table>"
      ],
      "text/latex": [
       "\\begin{tabular}{r|ccccccc}\n",
       "\t& A & B & C & D & run & E & H\\\\\n",
       "\t\\hline\n",
       "\t& Int64 & Int64 & Int64 & Float64? & Float64? & Float64? & Float64?\\\\\n",
       "\t\\hline\n",
       "\t1 & 1 & 1 & 2 & 2.0 & \\emph{missing} & \\emph{missing} & \\emph{missing} \\\\\n",
       "\t2 & 2 & 1 & 2 & 8.0 & \\emph{missing} & \\emph{missing} & \\emph{missing} \\\\\n",
       "\t3 & 3 & 2 & 1 & 30.0 & 1.0 & \\emph{missing} & \\emph{missing} \\\\\n",
       "\t4 & 4 & 1 & 2 & 30.0 & 3.0 & 2.0 & 4.0 \\\\\n",
       "\t5 & 5 & 2 & 1 & 30.0 & 3.0 & 2.2 & 5.0 \\\\\n",
       "\t6 & 6 & 2 & 2 & 7.0 & 3.0 & 2.4 & 6.0 \\\\\n",
       "\\end{tabular}\n"
      ],
      "text/plain": [
       "\u001b[1m6×7 DataFrame\u001b[0m\n",
       "\u001b[1m Row \u001b[0m│\u001b[1m A     \u001b[0m\u001b[1m B     \u001b[0m\u001b[1m C     \u001b[0m\u001b[1m D        \u001b[0m\u001b[1m run       \u001b[0m\u001b[1m E         \u001b[0m\u001b[1m H         \u001b[0m\n",
       "\u001b[1m     \u001b[0m│\u001b[90m Int64 \u001b[0m\u001b[90m Int64 \u001b[0m\u001b[90m Int64 \u001b[0m\u001b[90m Float64? \u001b[0m\u001b[90m Float64?  \u001b[0m\u001b[90m Float64?  \u001b[0m\u001b[90m Float64?  \u001b[0m\n",
       "─────┼────────────────────────────────────────────────────────────────\n",
       "   1 │     1      1      2       2.0 \u001b[90m missing   \u001b[0m\u001b[90m missing   \u001b[0m\u001b[90m missing   \u001b[0m\n",
       "   2 │     2      1      2       8.0 \u001b[90m missing   \u001b[0m\u001b[90m missing   \u001b[0m\u001b[90m missing   \u001b[0m\n",
       "   3 │     3      2      1      30.0        1.0 \u001b[90m missing   \u001b[0m\u001b[90m missing   \u001b[0m\n",
       "   4 │     4      1      2      30.0        3.0        2.0        4.0\n",
       "   5 │     5      2      1      30.0        3.0        2.2        5.0\n",
       "   6 │     6      2      2       7.0        3.0        2.4        6.0"
      ]
     },
     "execution_count": 7,
     "metadata": {},
     "output_type": "execute_result"
    }
   ],
   "source": [
    "@mod! x            D = rand(0:10, size(x,1))\n",
    "@mod! x            D = (:C + :B) .* 10              (run = 1)  :if((2 .< :A) .& (:A .< 6))\n",
    "@mod! x            E = round.(:A .^ .5, digits = 1) (run = 2)  :if(:B .< :A .- 1)\n",
    "@mod! x :by(B, C)  H = round(mean(:A) , digits = 1) (run = 3)  :if(:A .> 3)"
   ]
  },
  {
   "cell_type": "code",
   "execution_count": 8,
   "id": "vocational-rugby",
   "metadata": {},
   "outputs": [
    {
     "data": {
      "text/html": [
       "<table class=\"data-frame\"><thead><tr><th></th><th>A</th><th>B</th><th>C</th><th>D</th><th>run</th><th>E</th><th>H</th></tr><tr><th></th><th>Int64</th><th>Int64</th><th>Int64</th><th>Float64?</th><th>Float64?</th><th>Float64?</th><th>Float64?</th></tr></thead><tbody><p>6 rows × 7 columns</p><tr><th>1</th><td>1</td><td>1</td><td>2</td><td>2.0</td><td><em>missing</em></td><td><em>missing</em></td><td><em>missing</em></td></tr><tr><th>2</th><td>2</td><td>1</td><td>2</td><td>8.0</td><td><em>missing</em></td><td><em>missing</em></td><td><em>missing</em></td></tr><tr><th>3</th><td>3</td><td>2</td><td>1</td><td>3.0</td><td>1.0</td><td><em>missing</em></td><td><em>missing</em></td></tr><tr><th>4</th><td>4</td><td>1</td><td>2</td><td>3.0</td><td>1.0</td><td>2.0</td><td>4.0</td></tr><tr><th>5</th><td>5</td><td>2</td><td>1</td><td>3.0</td><td>1.0</td><td>2.2</td><td>5.0</td></tr><tr><th>6</th><td>6</td><td>2</td><td>2</td><td>7.0</td><td>3.0</td><td>2.4</td><td>6.0</td></tr></tbody></table>"
      ],
      "text/latex": [
       "\\begin{tabular}{r|ccccccc}\n",
       "\t& A & B & C & D & run & E & H\\\\\n",
       "\t\\hline\n",
       "\t& Int64 & Int64 & Int64 & Float64? & Float64? & Float64? & Float64?\\\\\n",
       "\t\\hline\n",
       "\t1 & 1 & 1 & 2 & 2.0 & \\emph{missing} & \\emph{missing} & \\emph{missing} \\\\\n",
       "\t2 & 2 & 1 & 2 & 8.0 & \\emph{missing} & \\emph{missing} & \\emph{missing} \\\\\n",
       "\t3 & 3 & 2 & 1 & 3.0 & 1.0 & \\emph{missing} & \\emph{missing} \\\\\n",
       "\t4 & 4 & 1 & 2 & 3.0 & 1.0 & 2.0 & 4.0 \\\\\n",
       "\t5 & 5 & 2 & 1 & 3.0 & 1.0 & 2.2 & 5.0 \\\\\n",
       "\t6 & 6 & 2 & 2 & 7.0 & 3.0 & 2.4 & 6.0 \\\\\n",
       "\\end{tabular}\n"
      ],
      "text/plain": [
       "\u001b[1m6×7 DataFrame\u001b[0m\n",
       "\u001b[1m Row \u001b[0m│\u001b[1m A     \u001b[0m\u001b[1m B     \u001b[0m\u001b[1m C     \u001b[0m\u001b[1m D        \u001b[0m\u001b[1m run       \u001b[0m\u001b[1m E         \u001b[0m\u001b[1m H         \u001b[0m\n",
       "\u001b[1m     \u001b[0m│\u001b[90m Int64 \u001b[0m\u001b[90m Int64 \u001b[0m\u001b[90m Int64 \u001b[0m\u001b[90m Float64? \u001b[0m\u001b[90m Float64?  \u001b[0m\u001b[90m Float64?  \u001b[0m\u001b[90m Float64?  \u001b[0m\n",
       "─────┼────────────────────────────────────────────────────────────────\n",
       "   1 │     1      1      2       2.0 \u001b[90m missing   \u001b[0m\u001b[90m missing   \u001b[0m\u001b[90m missing   \u001b[0m\n",
       "   2 │     2      1      2       8.0 \u001b[90m missing   \u001b[0m\u001b[90m missing   \u001b[0m\u001b[90m missing   \u001b[0m\n",
       "   3 │     3      2      1       3.0        1.0 \u001b[90m missing   \u001b[0m\u001b[90m missing   \u001b[0m\n",
       "   4 │     4      1      2       3.0        1.0        2.0        4.0\n",
       "   5 │     5      2      1       3.0        1.0        2.2        5.0\n",
       "   6 │     6      2      2       7.0        3.0        2.4        6.0"
      ]
     },
     "execution_count": 8,
     "metadata": {},
     "output_type": "execute_result"
    }
   ],
   "source": [
    "# Order doesn't matter\n",
    "@mod! x  :if((2 .< :A) .& (:A .< 6))      (run=1)    (D = :C + :B)"
   ]
  },
  {
   "cell_type": "code",
   "execution_count": 9,
   "id": "permanent-courtesy",
   "metadata": {},
   "outputs": [
    {
     "data": {
      "text/html": [
       "<table class=\"data-frame\"><thead><tr><th></th><th>A</th><th>B</th><th>C</th><th>D</th><th>run</th><th>E</th><th>H</th></tr><tr><th></th><th>Int64</th><th>Int64</th><th>Int64</th><th>Float64?</th><th>Float64?</th><th>Float64?</th><th>Float64?</th></tr></thead><tbody><p>6 rows × 7 columns</p><tr><th>1</th><td>1</td><td>1</td><td>2</td><td>2.0</td><td>5.0</td><td><em>missing</em></td><td>-10.0</td></tr><tr><th>2</th><td>2</td><td>1</td><td>2</td><td>8.0</td><td>5.0</td><td><em>missing</em></td><td>-10.0</td></tr><tr><th>3</th><td>3</td><td>2</td><td>1</td><td>3.0</td><td>5.0</td><td><em>missing</em></td><td>-3.0</td></tr><tr><th>4</th><td>4</td><td>1</td><td>2</td><td>3.0</td><td>1.0</td><td>2.0</td><td>4.0</td></tr><tr><th>5</th><td>5</td><td>2</td><td>1</td><td>3.0</td><td>1.0</td><td>2.2</td><td>5.0</td></tr><tr><th>6</th><td>6</td><td>2</td><td>2</td><td>7.0</td><td>3.0</td><td>2.4</td><td>6.0</td></tr></tbody></table>"
      ],
      "text/latex": [
       "\\begin{tabular}{r|ccccccc}\n",
       "\t& A & B & C & D & run & E & H\\\\\n",
       "\t\\hline\n",
       "\t& Int64 & Int64 & Int64 & Float64? & Float64? & Float64? & Float64?\\\\\n",
       "\t\\hline\n",
       "\t1 & 1 & 1 & 2 & 2.0 & 5.0 & \\emph{missing} & -10.0 \\\\\n",
       "\t2 & 2 & 1 & 2 & 8.0 & 5.0 & \\emph{missing} & -10.0 \\\\\n",
       "\t3 & 3 & 2 & 1 & 3.0 & 5.0 & \\emph{missing} & -3.0 \\\\\n",
       "\t4 & 4 & 1 & 2 & 3.0 & 1.0 & 2.0 & 4.0 \\\\\n",
       "\t5 & 5 & 2 & 1 & 3.0 & 1.0 & 2.2 & 5.0 \\\\\n",
       "\t6 & 6 & 2 & 2 & 7.0 & 3.0 & 2.4 & 6.0 \\\\\n",
       "\\end{tabular}\n"
      ],
      "text/plain": [
       "\u001b[1m6×7 DataFrame\u001b[0m\n",
       "\u001b[1m Row \u001b[0m│\u001b[1m A     \u001b[0m\u001b[1m B     \u001b[0m\u001b[1m C     \u001b[0m\u001b[1m D        \u001b[0m\u001b[1m run      \u001b[0m\u001b[1m E         \u001b[0m\u001b[1m H        \u001b[0m\n",
       "\u001b[1m     \u001b[0m│\u001b[90m Int64 \u001b[0m\u001b[90m Int64 \u001b[0m\u001b[90m Int64 \u001b[0m\u001b[90m Float64? \u001b[0m\u001b[90m Float64? \u001b[0m\u001b[90m Float64?  \u001b[0m\u001b[90m Float64? \u001b[0m\n",
       "─────┼──────────────────────────────────────────────────────────────\n",
       "   1 │     1      1      2       2.0       5.0 \u001b[90m missing   \u001b[0m    -10.0\n",
       "   2 │     2      1      2       8.0       5.0 \u001b[90m missing   \u001b[0m    -10.0\n",
       "   3 │     3      2      1       3.0       5.0 \u001b[90m missing   \u001b[0m     -3.0\n",
       "   4 │     4      1      2       3.0       1.0        2.0       4.0\n",
       "   5 │     5      2      1       3.0       1.0        2.2       5.0\n",
       "   6 │     6      2      2       7.0       3.0        2.4       6.0"
      ]
     },
     "execution_count": 9,
     "metadata": {},
     "output_type": "execute_result"
    }
   ],
   "source": [
    "# :by can take Symbols or string\n",
    "@mod x   :if(:A .<= 3) :by(:B)    (H = -sum(:D))   (run = 5)  "
   ]
  },
  {
   "cell_type": "markdown",
   "id": "individual-hospital",
   "metadata": {},
   "source": [
    "### DocStrings"
   ]
  },
  {
   "cell_type": "code",
   "execution_count": 10,
   "id": "scientific-worship",
   "metadata": {},
   "outputs": [
    {
     "data": {
      "text/plain": [
       "pullmatches"
      ]
     },
     "execution_count": 10,
     "metadata": {},
     "output_type": "execute_result"
    }
   ],
   "source": [
    "@doc raw\"\"\"\n",
    "     pullmatches(args, regexlist)\n",
    "\n",
    "args: A `Tuple{Expr, Expr...}` to be broken into different `Tuples` \n",
    "  if `string(expression)` contains the regex match.\n",
    "regexlist: A list of regex syntax used used to select which expression belongs where.\n",
    "\n",
    "returns a `List` of `Vector{Expr}`s equal in length to regexlist plus 1.\n",
    "\n",
    "#### Example:\n",
    "```\n",
    "julia> macro demo(args...)\n",
    "         regexlist = [r\"^iff\\(\", r\"^by\\(\"]\n",
    "         iffs , bys, other = pullmatches(args, regexlist) \n",
    "         @show iffs \n",
    "         @show bys\n",
    "         @show other\n",
    "       end\n",
    "\n",
    "@demo (macro with 1 method)\n",
    "\n",
    "julia> @demo iff(:P) iff(:T) by(:a + :b) (f = :a + :b) (g = :b + :b + b:b)\n",
    "\n",
    "iffs = Expr[:(iff(:P)), :(iff(:T))]\n",
    "bys = Expr[:(by(:a + :b))]\n",
    "other = Expr[:(f = :a + :b), :(g = :b + :b + b:b)]\n",
    "\n",
    "```\n",
    "\"\"\"\n",
    "pullmatches = pullmatches"
   ]
  },
  {
   "cell_type": "code",
   "execution_count": 11,
   "id": "political-inspector",
   "metadata": {},
   "outputs": [
    {
     "data": {
      "text/plain": [
       "fillmissing"
      ]
     },
     "execution_count": 11,
     "metadata": {},
     "output_type": "execute_result"
    }
   ],
   "source": [
    "@doc \"\"\"\n",
    "     fillmissing(dfrom::DataFrame, dto::DataFrame)\n",
    "\n",
    "Take a `DataFrame` `dfrom` and use it as source to create columns in \n",
    "`dto` attempting to be aware (poorly) of type.\n",
    "\n",
    "dfrom: DataFrame from\n",
    "dto: DataFrame to\n",
    "\n",
    "\n",
    "\n",
    "#### Example:\n",
    "```\n",
    "julia> dfrom = DataFrame(a = 1:3, b = \"\", c = [1, \"\", 1:1])\n",
    "julia> dto = DataFrame(a = 1, d = \"foo\", e = 2, f= :A)\n",
    "julia> fillmissing(dto, dfrom)\n",
    "\n",
    "3×6 DataFrame\n",
    " Row │ a      b       c    d        e         f       \n",
    "     │ Int64  String  Any  String?  Float64?  Missing \n",
    "─────┼────────────────────────────────────────────────\n",
    "   1 │     1          1    missing  missing   missing \n",
    "   2 │     2               missing  missing   missing \n",
    "   3 │     3          1:1  missing  missing   missing \n",
    "\n",
    "# We can see from the example that fillmissing does not work with non-String/non-Number types.\n",
    "```\n",
    "\"\"\"\n",
    "fillmissing = fillmissing"
   ]
  },
  {
   "cell_type": "markdown",
   "id": "bottom-burner",
   "metadata": {},
   "source": [
    "# Approaches to Data Cleaning and Management"
   ]
  },
  {
   "cell_type": "markdown",
   "id": "adjacent-society",
   "metadata": {},
   "source": [
    "#### DataWrangler.jl \n",
    "\n",
    "``` \n",
    "julia> observed = CSV.read(\"mydata.csv\")\n",
    "\n",
    "julia> first(observed, 5)\n",
    "      5×4 DataFrame\n",
    "       Row │ squarefoot  currency  year   cost    \n",
    "           │ Int64       String    Int64  Float64 \n",
    "      ─────┼──────────────────────────────────────\n",
    "         1 │       1600  pesos      1965  16000.0\n",
    "         2 │       1850  dollars    1938   1200.0\n",
    "         3 │       2400  pesos      1904  19000.0\n",
    "         4 │       1850  livre      1930  25500.0\n",
    "         5 │       1000  dollars    1939    800.0\n",
    "\n",
    "# Cost is based on currency conversions charts found on July x, xxxx\n",
    "julia> @mod! observed  costUSD = :cost          :if( :currency .== \"dollars\" )\n",
    "julia> @mod! observed  costUSD = :cost / 10     :if( :currency .== \"pesos\"   )\n",
    "julia> @mod! observed  costUSD = :cost / 17     :if( :currency .== \"livre\"   )\n",
    "\n",
    "julia> first(observed, 5)\n",
    "     5×5 DataFrame\n",
    "      Row │ squarefoot  currency  year   cost     costUSD  \n",
    "          │ Int64       String    Int64  Float64  Float64? \n",
    "     ─────┼────────────────────────────────────────────────\n",
    "        1 │       1600  pesos      1965  16000.0    1600.0\n",
    "        2 │       1850  dollars    1938   1200.0    1200.0\n",
    "        3 │       2400  pesos      1904  19000.0    1900.0\n",
    "        4 │       1850  livre      1930  25500.0    1500.0\n",
    "        5 │       1000  dollars    1939    800.0     800.0\n",
    "```"
   ]
  },
  {
   "cell_type": "markdown",
   "id": "expired-affiliate",
   "metadata": {},
   "source": [
    "#### DataWrangler.jl with @mod_ (not currently implemented)\n",
    "\n",
    "``` \n",
    "julia> observed = CSV.read(\"mydata.csv\")\n",
    "\n",
    "julia> @mount observed\n",
    "Subsequent @mod_ commands will now reference `observed`\n",
    "\n",
    "# Cost is based on currency conversions charts found on July x, xxxx\n",
    "julia> @mod_ :if( :currency .== \"dollars\")  costUSD = :cost          \n",
    "julia> @mod_ :if( :currency .== \"pesos\"  )  costUSD = :cost / 10     \n",
    "julia> @mod_ :if( :currency .== \"livre\"  )  costUSD = :cost / 17     \n",
    "\n",
    "```"
   ]
  },
  {
   "cell_type": "markdown",
   "id": "appropriate-robinson",
   "metadata": {},
   "source": [
    "#### DataFrames.jl \n",
    "\n",
    "``` \n",
    "julia> observed = CSV.read(\"mydata.csv\")\n",
    "\n",
    "# Cost is based on currency conversions charts found on July x, xxxx\n",
    "julia> observed.costUSD = ifelse.(observed.currency .== \"dollars\", observed.cost      , missing         )\n",
    "julia> observed.costUSD = ifelse.(observed.currency .== \"pesos\"  , observed.cost ./ 10, observed.costUSD)\n",
    "julia> observed.costUSD = ifelse.(observed.currency .== \"livre\"  , observed.cost ./ 17, observed.costUSD)\n",
    "```"
   ]
  },
  {
   "cell_type": "markdown",
   "id": "necessary-jenny",
   "metadata": {},
   "source": [
    "#### DataFramesMeta.jl \n",
    "\n",
    "``` \n",
    "julia> observed = CSV.read(\"mydata.csv\")\n",
    "\n",
    "# Cost is based on currency conversions charts found on July x, xxxx\n",
    "julia> observed = @transform observed costUSD = ifelse.(:currency .== \"dollars\", :cost      ,  missing)\n",
    "julia> observed = @transform observed costUSD = ifelse.(:currency .== \"pesos\"  , :cost ./ 10, :costUSD)\n",
    "julia> observed = @transform observed costUSD = ifelse.(:currency .== \"livre\"  , :cost ./ 17, :costUSD)\n",
    "```"
   ]
  },
  {
   "cell_type": "markdown",
   "id": "accepted-metro",
   "metadata": {},
   "source": [
    "#### DataFramesMeta.jl (with @transform! not yet in public version)\n",
    "\n",
    "``` \n",
    "julia> observed = CSV.read(\"mydata.csv\")\n",
    "\n",
    "# Cost is based on currency conversions charts found on July x, xxxx\n",
    "julia> @transform! observed costUSD = ifelse.(:currency .== \"dollars\", :cost      ,  missing)\n",
    "julia> @transform! observed costUSD = ifelse.(:currency .== \"pesos\"  , :cost ./ 10, :costUSD)\n",
    "julia> @transform! observed costUSD = ifelse.(:currency .== \"livre\"  , :cost ./ 17, :costUSD)\n",
    "```"
   ]
  },
  {
   "cell_type": "markdown",
   "id": "peaceful-landscape",
   "metadata": {},
   "source": [
    "#### Stata \n",
    "\n",
    "Stata manages things from a single DataFrame at a time perspective. This creates a nice natural workflow when only one DataFrame is needed at a time.\n",
    "\n",
    "``` \n",
    "$ load \"mydata.dta\"\n",
    "\n",
    "* Cost is based on currency conversions charts found on July x, xxxx\n",
    "$ gen       costUSD = cost          if currency == \"dollars\"\n",
    "$ replace   costUSD = cost / 10     if currency == \"pesos\"\n",
    "$ replace   costUSD = cost / 17     if currency == \"livre\"\n",
    "\n",
    "```"
   ]
  },
  {
   "cell_type": "markdown",
   "id": "informed-punch",
   "metadata": {},
   "source": [
    "### Generate Sample Data"
   ]
  },
  {
   "cell_type": "code",
   "execution_count": 12,
   "id": "differential-chaos",
   "metadata": {},
   "outputs": [],
   "source": [
    "using DataFrames, Random, DataFramesMeta\n",
    "# using DataWrangler"
   ]
  },
  {
   "cell_type": "code",
   "execution_count": 36,
   "id": "guilty-raise",
   "metadata": {
    "scrolled": false
   },
   "outputs": [
    {
     "name": "stdout",
     "output_type": "stream",
     "text": [
      "\u001b[1m5×6 DataFrame\u001b[0m\n",
      "\u001b[1m Row \u001b[0m│\u001b[1m squarefoot \u001b[0m\u001b[1m currency \u001b[0m\u001b[1m hiddenquality \u001b[0m\u001b[1m year  \u001b[0m\u001b[1m yrfactor \u001b[0m\u001b[1m cost     \u001b[0m\n",
      "\u001b[1m     \u001b[0m│\u001b[90m Int64      \u001b[0m\u001b[90m String   \u001b[0m\u001b[90m Float64       \u001b[0m\u001b[90m Int64 \u001b[0m\u001b[90m Float64? \u001b[0m\u001b[90m Float64? \u001b[0m\n",
      "─────┼────────────────────────────────────────────────────────────────\n",
      "   1 │       1600  pesos          0.872846   1965      1.15   16000.0\n",
      "   2 │       1850  dollars        0.763121   1938      0.88    1200.0\n",
      "   3 │       2400  pesos          1.48869    1904      0.54   19000.0\n",
      "   4 │       1850  livre          0.989858   1930      0.8    25500.0\n",
      "   5 │       1000  dollars        0.925211   1939      0.89     800.0"
     ]
    }
   ],
   "source": [
    "# DataWrangler.jl\n",
    "n = 10; Random.seed!(1234);\n",
    "df = DataFrame(squarefoot    = rand(800:50:2500, n), \n",
    "               currency      = rand([\"dollars\", \"pesos\", \"livre\"], n),\n",
    "               hiddenquality = .5 .+ rand(n),\n",
    "               year          = rand(1900:2020, n))\n",
    "\n",
    "# Create observed cost\n",
    "@mod! df  yrfactor = (:year .- 1850) ./ 100\n",
    "@mod! df  cost = 100  .* round.(:squarefoot .* :yrfactor .*  :hiddenquality ./ 100)    :if(:currency .== \"dollars\")\n",
    "@mod! df  cost = 1000 .* round.(:squarefoot .* :yrfactor .*  :hiddenquality ./ 100)    :if(:currency .== \"pesos\")\n",
    "@mod! df  cost = 1700 .* round.(:squarefoot .* :yrfactor .*  :hiddenquality ./ 100)    :if(:currency .== \"livre\")\n",
    "show(first(df, 5))"
   ]
  },
  {
   "cell_type": "code",
   "execution_count": 36,
   "id": "listed-mitchell",
   "metadata": {
    "scrolled": false
   },
   "outputs": [
    {
     "name": "stdout",
     "output_type": "stream",
     "text": [
      "\u001b[1m5×6 DataFrame\u001b[0m\n",
      "\u001b[1m Row \u001b[0m│\u001b[1m squarefoot \u001b[0m\u001b[1m currency \u001b[0m\u001b[1m hiddenquality \u001b[0m\u001b[1m year  \u001b[0m\u001b[1m yrfactor \u001b[0m\u001b[1m cost     \u001b[0m\n",
      "\u001b[1m     \u001b[0m│\u001b[90m Int64      \u001b[0m\u001b[90m String   \u001b[0m\u001b[90m Float64       \u001b[0m\u001b[90m Int64 \u001b[0m\u001b[90m Float64? \u001b[0m\u001b[90m Float64? \u001b[0m\n",
      "─────┼────────────────────────────────────────────────────────────────\n",
      "   1 │       1600  pesos          0.872846   1965      1.15   16000.0\n",
      "   2 │       1850  dollars        0.763121   1938      0.88    1200.0\n",
      "   3 │       2400  pesos          1.48869    1904      0.54   19000.0\n",
      "   4 │       1850  livre          0.989858   1930      0.8    25500.0\n",
      "   5 │       1000  dollars        0.925211   1939      0.89     800.0"
     ]
    }
   ],
   "source": [
    "# DataWrangler.jl (@mod_ not currently working)\n",
    "n = 10; Random.seed!(1234);\n",
    "df = DataFrame(squarefoot    = rand(800:50:2500, n), \n",
    "               currency      = rand([\"dollars\", \"pesos\", \"livre\"], n),\n",
    "               hiddenquality = .5 .+ rand(n),\n",
    "               year          = rand(1900:2020, n))\n",
    "\n",
    "# Mount df for reference by objectless commands\n",
    "@mount df\n",
    "\n",
    "# Create observed cost\n",
    "@mod_ yrfactor = (:year .- 1850) ./ 100\n",
    "@mod_ cost = 100  .* round.(:squarefoot .* :yrfactor .*  :hiddenquality ./ 100)    :if(:currency .== \"dollars\")\n",
    "@mod_ cost = 1000 .* round.(:squarefoot .* :yrfactor .*  :hiddenquality ./ 100)    :if(:currency .== \"pesos\")\n",
    "@mod_ cost = 1700 .* round.(:squarefoot .* :yrfactor .*  :hiddenquality ./ 100)    :if(:currency .== \"livre\")\n",
    "show(first(df, 5))"
   ]
  },
  {
   "cell_type": "code",
   "execution_count": 37,
   "id": "helpful-remove",
   "metadata": {},
   "outputs": [
    {
     "name": "stdout",
     "output_type": "stream",
     "text": [
      "\u001b[1m5×6 DataFrame\u001b[0m\n",
      "\u001b[1m Row \u001b[0m│\u001b[1m squarefoot \u001b[0m\u001b[1m currency \u001b[0m\u001b[1m hiddenquality \u001b[0m\u001b[1m year  \u001b[0m\u001b[1m yrfactor \u001b[0m\u001b[1m cost    \u001b[0m\n",
      "\u001b[1m     \u001b[0m│\u001b[90m Int64      \u001b[0m\u001b[90m String   \u001b[0m\u001b[90m Float64       \u001b[0m\u001b[90m Int64 \u001b[0m\u001b[90m Float64  \u001b[0m\u001b[90m Float64 \u001b[0m\n",
      "─────┼───────────────────────────────────────────────────────────────\n",
      "   1 │       1600  pesos          0.872846   1965      1.15  16000.0\n",
      "   2 │       1850  dollars        0.763121   1938      0.88   1200.0\n",
      "   3 │       2400  pesos          1.48869    1904      0.54  19000.0\n",
      "   4 │       1850  livre          0.989858   1930      0.8   25500.0\n",
      "   5 │       1000  dollars        0.925211   1939      0.89    800.0"
     ]
    }
   ],
   "source": [
    "# With ifelse structure\n",
    "n = 10; Random.seed!(1234);\n",
    "df = DataFrame(squarefoot    = rand(800:50:2500, n), \n",
    "               currency      = rand([\"dollars\", \"pesos\", \"livre\"], n),\n",
    "               hiddenquality = .5 .+ rand(n),\n",
    "               year          = rand(1900:2020, n))\n",
    "\n",
    "df.yrfactor = (df.year .- 1850) ./ 100\n",
    "\n",
    "df.cost = ifelse.(df.currency .== \"dollars\", 100  .* round.(df.squarefoot .* df.yrfactor .*  df.hiddenquality ./ 100), missing)\n",
    "df.cost = ifelse.(df.currency .== \"pesos\"  , 1000 .* round.(df.squarefoot .* df.yrfactor .*  df.hiddenquality ./ 100), df.cost)\n",
    "df.cost = ifelse.(df.currency .== \"livre\"  , 1700 .* round.(df.squarefoot .* df.yrfactor .*  df.hiddenquality ./ 100), df.cost)\n",
    "show(first(df, 5))"
   ]
  },
  {
   "cell_type": "code",
   "execution_count": 41,
   "id": "stuffed-island",
   "metadata": {},
   "outputs": [
    {
     "name": "stdout",
     "output_type": "stream",
     "text": [
      "\u001b[1m5×6 DataFrame\u001b[0m\n",
      "\u001b[1m Row \u001b[0m│\u001b[1m squarefoot \u001b[0m\u001b[1m currency \u001b[0m\u001b[1m hiddenquality \u001b[0m\u001b[1m year  \u001b[0m\u001b[1m yrfactor \u001b[0m\u001b[1m cost    \u001b[0m\n",
      "\u001b[1m     \u001b[0m│\u001b[90m Int64      \u001b[0m\u001b[90m String   \u001b[0m\u001b[90m Float64       \u001b[0m\u001b[90m Int64 \u001b[0m\u001b[90m Float64  \u001b[0m\u001b[90m Float64 \u001b[0m\n",
      "─────┼───────────────────────────────────────────────────────────────\n",
      "   1 │       1600  pesos          0.872846   1965      1.15  16000.0\n",
      "   2 │       1850  dollars        0.763121   1938      0.88   1200.0\n",
      "   3 │       2400  pesos          1.48869    1904      0.54  19000.0\n",
      "   4 │       1850  livre          0.989858   1930      0.8   25500.0\n",
      "   5 │       1000  dollars        0.925211   1939      0.89    800.0"
     ]
    }
   ],
   "source": [
    "# With DataFrames Meta @transform and ifelse structure\n",
    "n = 10; Random.seed!(1234);\n",
    "df = DataFrame(squarefoot    = rand(800:50:2500, n), \n",
    "               currency      = rand([\"dollars\", \"pesos\", \"livre\"], n),\n",
    "               hiddenquality = .5 .+ rand(n),\n",
    "               year          = rand(1900:2020, n))\n",
    "\n",
    "df.yrfactor = (df.year .- 1850) ./ 100\n",
    "\n",
    "df = @transform df cost = ifelse.(:currency .== \"dollars\", 100 .* round.(:squarefoot .* :yrfactor .*  :hiddenquality ./ 100), missing)\n",
    "df = @transform df cost = ifelse.(:currency .== \"pesos\",  1000 .* round.(:squarefoot .* :yrfactor .*  :hiddenquality ./ 100), :cost)\n",
    "df = @transform df cost = ifelse.(:currency .== \"livre\",  1700 .* round.(:squarefoot .* :yrfactor .*  :hiddenquality ./ 100), :cost)\n",
    "show(first(df, 5))"
   ]
  },
  {
   "cell_type": "code",
   "execution_count": 42,
   "id": "modified-maker",
   "metadata": {},
   "outputs": [
    {
     "name": "stdout",
     "output_type": "stream",
     "text": [
      "\u001b[1m5×4 DataFrame\u001b[0m\n",
      "\u001b[1m Row \u001b[0m│\u001b[1m squarefoot \u001b[0m\u001b[1m currency \u001b[0m\u001b[1m year  \u001b[0m\u001b[1m cost    \u001b[0m\n",
      "\u001b[1m     \u001b[0m│\u001b[90m Int64      \u001b[0m\u001b[90m String   \u001b[0m\u001b[90m Int64 \u001b[0m\u001b[90m Float64 \u001b[0m\n",
      "─────┼──────────────────────────────────────\n",
      "   1 │       1600  pesos      1965  16000.0\n",
      "   2 │       1850  dollars    1938   1200.0\n",
      "   3 │       2400  pesos      1904  19000.0\n",
      "   4 │       1850  livre      1930  25500.0\n",
      "   5 │       1000  dollars    1939    800.0"
     ]
    }
   ],
   "source": [
    "# Observed is a subset of \n",
    "observed = df[:, [:squarefoot, :currency,  :year, :cost]]\n",
    "show(first(observed, 5))"
   ]
  },
  {
   "cell_type": "code",
   "execution_count": 43,
   "id": "virgin-louis",
   "metadata": {},
   "outputs": [
    {
     "name": "stdout",
     "output_type": "stream",
     "text": [
      "\u001b[1m5×5 DataFrame\u001b[0m\n",
      "\u001b[1m Row \u001b[0m│\u001b[1m squarefoot \u001b[0m\u001b[1m currency \u001b[0m\u001b[1m year  \u001b[0m\u001b[1m cost    \u001b[0m\u001b[1m costUSD  \u001b[0m\n",
      "\u001b[1m     \u001b[0m│\u001b[90m Int64      \u001b[0m\u001b[90m String   \u001b[0m\u001b[90m Int64 \u001b[0m\u001b[90m Float64 \u001b[0m\u001b[90m Float64? \u001b[0m\n",
      "─────┼────────────────────────────────────────────────\n",
      "   1 │       1600  pesos      1965  16000.0    1600.0\n",
      "   2 │       1850  dollars    1938   1200.0    1200.0\n",
      "   3 │       2400  pesos      1904  19000.0    1900.0\n",
      "   4 │       1850  livre      1930  25500.0    1500.0\n",
      "   5 │       1000  dollars    1939    800.0     800.0"
     ]
    }
   ],
   "source": [
    "@mod! observed  costUSD = :cost          :if( :currency .== \"dollars\" )\n",
    "@mod! observed  costUSD = :cost / 10     :if( :currency .== \"pesos\"   )\n",
    "@mod! observed  costUSD = :cost / 17     :if( :currency .== \"livre\"   )\n",
    "show(first(observed, 5))"
   ]
  },
  {
   "cell_type": "code",
   "execution_count": 38,
   "id": "recent-charge",
   "metadata": {},
   "outputs": [
    {
     "name": "stdout",
     "output_type": "stream",
     "text": [
      "\u001b[1m5×5 DataFrame\u001b[0m\n",
      "\u001b[1m Row \u001b[0m│\u001b[1m squarefoot \u001b[0m\u001b[1m currency \u001b[0m\u001b[1m year  \u001b[0m\u001b[1m cost    \u001b[0m\u001b[1m costUSD  \u001b[0m\n",
      "\u001b[1m     \u001b[0m│\u001b[90m Int64      \u001b[0m\u001b[90m String   \u001b[0m\u001b[90m Int64 \u001b[0m\u001b[90m Float64 \u001b[0m\u001b[90m Float64? \u001b[0m\n",
      "─────┼────────────────────────────────────────────────\n",
      "   1 │       1600  pesos      1965  16000.0    1600.0\n",
      "   2 │       1850  dollars    1938   1200.0    1200.0\n",
      "   3 │       2400  pesos      1904  19000.0    1900.0\n",
      "   4 │       1850  livre      1930  25500.0    1500.0\n",
      "   5 │       1000  dollars    1939    800.0     800.0"
     ]
    }
   ],
   "source": [
    "# Mount observed for modification by (@mod_ not currently working)\n",
    "@mount observed\n",
    "@mod_  costUSD = :cost          :if( :currency .== \"dollars\" )\n",
    "@mod_  costUSD = :cost / 10     :if( :currency .== \"pesos\"   )\n",
    "@mod_  costUSD = :cost / 17     :if( :currency .== \"livre\"   )\n",
    "show(first(observed, 5))"
   ]
  }
 ],
 "metadata": {
  "@webio": {
   "lastCommId": null,
   "lastKernelId": null
  },
  "kernelspec": {
   "display_name": "Julia 1.6.0",
   "language": "julia",
   "name": "julia-1.6"
  },
  "language_info": {
   "file_extension": ".jl",
   "mimetype": "application/julia",
   "name": "julia",
   "version": "1.6.0"
  }
 },
 "nbformat": 4,
 "nbformat_minor": 5
}
