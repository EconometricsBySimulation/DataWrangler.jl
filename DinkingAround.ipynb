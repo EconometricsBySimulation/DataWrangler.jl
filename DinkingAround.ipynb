{
 "cells": [
  {
   "cell_type": "code",
   "execution_count": 1,
   "id": "incoming-symbol",
   "metadata": {},
   "outputs": [
    {
     "name": "stderr",
     "output_type": "stream",
     "text": [
      "\u001b[32m\u001b[1m  Activating\u001b[22m\u001b[39m environment at `E:\\PP\\git\\DataWrangler.jl\\Project.toml`\n"
     ]
    }
   ],
   "source": [
    "using Pkg\n",
    "Pkg.activate(\".\")"
   ]
  },
  {
   "cell_type": "code",
   "execution_count": 6,
   "id": "proved-offering",
   "metadata": {},
   "outputs": [],
   "source": [
    "using DataFrames, DataFramesMeta, Random"
   ]
  },
  {
   "cell_type": "code",
   "execution_count": 7,
   "id": "secondary-distributor",
   "metadata": {},
   "outputs": [
    {
     "name": "stdout",
     "output_type": "stream",
     "text": [
      "\u001b[1m5×6 DataFrame\u001b[0m\n",
      "\u001b[1m Row \u001b[0m│\u001b[1m squarefoot \u001b[0m\u001b[1m currency \u001b[0m\u001b[1m hiddenquality \u001b[0m\u001b[1m year  \u001b[0m\u001b[1m yrfactor \u001b[0m\u001b[1m cost    \u001b[0m\n",
      "\u001b[1m     \u001b[0m│\u001b[90m Int64      \u001b[0m\u001b[90m String   \u001b[0m\u001b[90m Float64       \u001b[0m\u001b[90m Int64 \u001b[0m\u001b[90m Float64  \u001b[0m\u001b[90m Float64 \u001b[0m\n",
      "─────┼───────────────────────────────────────────────────────────────\n",
      "   1 │       1600  pesos          0.872846   1965      1.15  16000.0\n",
      "   2 │       1850  dollars        0.763121   1938      0.88   1200.0\n",
      "   3 │       2400  pesos          1.48869    1904      0.54  19000.0\n",
      "   4 │       1850  livre          0.989858   1930      0.8   25500.0\n",
      "   5 │       1000  dollars        0.925211   1939      0.89    800.0"
     ]
    }
   ],
   "source": [
    "# With DataFrames Meta @transform and ifelse structure\n",
    "n = 10; Random.seed!(1234);\n",
    "df = DataFrame(squarefoot    = rand(800:50:2500, n), \n",
    "               currency      = rand([\"dollars\", \"pesos\", \"livre\"], n),\n",
    "               hiddenquality = .5 .+ rand(n),\n",
    "               year          = rand(1900:2020, n))\n",
    "\n",
    "df.yrfactor = (df.year .- 1850) ./ 100\n",
    "\n",
    "df = @transform df cost = ifelse.(:currency .== \"dollars\", 100 * round.(:squarefoot .* :yrfactor .*  :hiddenquality / 100), missing)\n",
    "df = @transform df cost = ifelse.(:currency .== \"pesos\",  1000 * round.(:squarefoot .* :yrfactor .*  :hiddenquality / 100), :cost)\n",
    "df = @transform df cost = ifelse.(:currency .== \"livre\",  1700 * round.(:squarefoot .* :yrfactor .*  :hiddenquality / 100), :cost)\n",
    "show(first(df, 5))"
   ]
  },
  {
   "cell_type": "code",
   "execution_count": 27,
   "id": "ahead-louis",
   "metadata": {},
   "outputs": [
    {
     "ename": "LoadError",
     "evalue": "\"Error! Lengths of Vectors Differ\"",
     "output_type": "error",
     "traceback": [
      "\"Error! Lengths of Vectors Differ\"",
      "",
      "Stacktrace:",
      " [1] *(x::Vector{Int64}, y::Vector{Int64})",
      "   @ Main .\\In[23]:4",
      " [2] top-level scope",
      "   @ In[27]:1",
      " [3] eval",
      "   @ .\\boot.jl:360 [inlined]",
      " [4] include_string(mapexpr::typeof(REPL.softscope), mod::Module, code::String, filename::String)",
      "   @ Base .\\loading.jl:1094"
     ]
    }
   ],
   "source": [
    "[1,2,3] * [1, 2]"
   ]
  },
  {
   "cell_type": "code",
   "execution_count": 23,
   "id": "expressed-wallet",
   "metadata": {},
   "outputs": [],
   "source": [
    "Base.:(*)(x::Vector{Int64}  , y::Vector{Float64}) = (length(x) == length(y) ? x .* y : throw(\"Error! Lengths of Vectors Differ\"))\n",
    "Base.:(*)(x::Vector{Float64}, y::Vector{Float64}) = (length(x) == length(y) ? x .* y : throw(\"Error! Lengths of Vectors Differ\"))\n",
    "Base.:(*)(x::Vector{Float64}, y::Vector{Int64})   = (length(x) == length(y) ? x .* y : throw(\"Error! Lengths of Vectors Differ\"))\n",
    "Base.:(*)(x::Vector{Int64}  , y::Vector{Int64})   = (length(x) == length(y) ? x .* y : throw(\"Error! Lengths of Vectors Differ\"))\n",
    "\n",
    "Base.:(+)(x::Vector{Int64}  , y::Vector{Float64}) = (length(x) == length(y) ? x .+ y : throw(\"Error! Lengths of Vectors Differ\"))\n",
    "Base.:(+)(x::Vector{Float64}, y::Vector{Float64}) = (length(x) == length(y) ? x .+ y : throw(\"Error! Lengths of Vectors Differ\"))\n",
    "Base.:(+)(x::Vector{Float64}, y::Vector{Int64})   = (length(x) == length(y) ? x .+ y : throw(\"Error! Lengths of Vectors Differ\"))\n",
    "Base.:(+)(x::Vector{Int64}  , y::Vector{Int64})   = (length(x) == length(y) ? x .+ y : throw(\"Error! Lengths of Vectors Differ\"))\n",
    "\n",
    "Base.:(^)(x::Vector{Int64}  , y::Vector{Float64}) = (length(x) == length(y) ? x .^ y : throw(\"Error! Lengths of Vectors Differ\"))\n",
    "Base.:(^)(x::Vector{Float64}, y::Vector{Float64}) = (length(x) == length(y) ? x .^ y : throw(\"Error! Lengths of Vectors Differ\"))\n",
    "Base.:(^)(x::Vector{Float64}, y::Vector{Int64})   = (length(x) == length(y) ? x .^ y : throw(\"Error! Lengths of Vectors Differ\"))\n",
    "Base.:(^)(x::Vector{Int64}  , y::Vector{Int64})   = (length(x) == length(y) ? x .^ y : throw(\"Error! Lengths of Vectors Differ\"))\n",
    "\n",
    "Base.:(-)(x::Vector{Int64}  , y::Vector{Float64}) = (length(x) == length(y) ? x .- y : throw(\"Error! Lengths of Vectors Differ\"))\n",
    "Base.:(-)(x::Vector{Float64}, y::Vector{Float64}) = (length(x) == length(y) ? x .- y : throw(\"Error! Lengths of Vectors Differ\"))\n",
    "Base.:(-)(x::Vector{Float64}, y::Vector{Int64})   = (length(x) == length(y) ? x .- y : throw(\"Error! Lengths of Vectors Differ\"))\n",
    "Base.:(-)(x::Vector{Int64}  , y::Vector{Int64})   = (length(x) == length(y) ? x .- y : throw(\"Error! Lengths of Vectors Differ\"))"
   ]
  },
  {
   "cell_type": "code",
   "execution_count": 24,
   "id": "contemporary-muscle",
   "metadata": {},
   "outputs": [
    {
     "data": {
      "text/html": [
       "<table class=\"data-frame\"><thead><tr><th></th><th>squarefoot</th><th>currency</th><th>hiddenquality</th><th>year</th><th>yrfactor</th><th>cost</th></tr><tr><th></th><th>Int64</th><th>String</th><th>Float64</th><th>Int64</th><th>Float64</th><th>Float64</th></tr></thead><tbody><p>10 rows × 6 columns</p><tr><th>1</th><td>1600</td><td>pesos</td><td>0.872846</td><td>1965</td><td>1.15</td><td>4838.72</td></tr><tr><th>2</th><td>1850</td><td>dollars</td><td>0.763121</td><td>1938</td><td>0.88</td><td>750.01</td></tr><tr><th>3</th><td>2400</td><td>pesos</td><td>1.48869</td><td>1904</td><td>0.54</td><td>66.7339</td></tr><tr><th>4</th><td>1850</td><td>livre</td><td>0.989858</td><td>1930</td><td>0.8</td><td>410.802</td></tr><tr><th>5</th><td>1000</td><td>dollars</td><td>0.925211</td><td>1939</td><td>0.89</td><td>467.643</td></tr><tr><th>6</th><td>1550</td><td>livre</td><td>0.879765</td><td>1989</td><td>1.39</td><td>27199.4</td></tr><tr><th>7</th><td>2350</td><td>livre</td><td>0.786955</td><td>1918</td><td>0.68</td><td>195.953</td></tr><tr><th>8</th><td>1050</td><td>pesos</td><td>0.618085</td><td>2013</td><td>1.63</td><td>84050.1</td></tr><tr><th>9</th><td>1050</td><td>dollars</td><td>1.23966</td><td>1962</td><td>1.12</td><td>2419.41</td></tr><tr><th>10</th><td>2050</td><td>dollars</td><td>1.47138</td><td>1994</td><td>1.44</td><td>58738.7</td></tr></tbody></table>"
      ],
      "text/latex": [
       "\\begin{tabular}{r|cccccc}\n",
       "\t& squarefoot & currency & hiddenquality & year & yrfactor & cost\\\\\n",
       "\t\\hline\n",
       "\t& Int64 & String & Float64 & Int64 & Float64 & Float64\\\\\n",
       "\t\\hline\n",
       "\t1 & 1600 & pesos & 0.872846 & 1965 & 1.15 & 4838.72 \\\\\n",
       "\t2 & 1850 & dollars & 0.763121 & 1938 & 0.88 & 750.01 \\\\\n",
       "\t3 & 2400 & pesos & 1.48869 & 1904 & 0.54 & 66.7339 \\\\\n",
       "\t4 & 1850 & livre & 0.989858 & 1930 & 0.8 & 410.802 \\\\\n",
       "\t5 & 1000 & dollars & 0.925211 & 1939 & 0.89 & 467.643 \\\\\n",
       "\t6 & 1550 & livre & 0.879765 & 1989 & 1.39 & 27199.4 \\\\\n",
       "\t7 & 2350 & livre & 0.786955 & 1918 & 0.68 & 195.953 \\\\\n",
       "\t8 & 1050 & pesos & 0.618085 & 2013 & 1.63 & 84050.1 \\\\\n",
       "\t9 & 1050 & dollars & 1.23966 & 1962 & 1.12 & 2419.41 \\\\\n",
       "\t10 & 2050 & dollars & 1.47138 & 1994 & 1.44 & 58738.7 \\\\\n",
       "\\end{tabular}\n"
      ],
      "text/plain": [
       "\u001b[1m10×6 DataFrame\u001b[0m\n",
       "\u001b[1m Row \u001b[0m│\u001b[1m squarefoot \u001b[0m\u001b[1m currency \u001b[0m\u001b[1m hiddenquality \u001b[0m\u001b[1m year  \u001b[0m\u001b[1m yrfactor \u001b[0m\u001b[1m cost       \u001b[0m\n",
       "\u001b[1m     \u001b[0m│\u001b[90m Int64      \u001b[0m\u001b[90m String   \u001b[0m\u001b[90m Float64       \u001b[0m\u001b[90m Int64 \u001b[0m\u001b[90m Float64  \u001b[0m\u001b[90m Float64    \u001b[0m\n",
       "─────┼──────────────────────────────────────────────────────────────────\n",
       "   1 │       1600  pesos          0.872846   1965      1.15   4838.72\n",
       "   2 │       1850  dollars        0.763121   1938      0.88    750.01\n",
       "   3 │       2400  pesos          1.48869    1904      0.54     66.7339\n",
       "   4 │       1850  livre          0.989858   1930      0.8     410.802\n",
       "   5 │       1000  dollars        0.925211   1939      0.89    467.643\n",
       "   6 │       1550  livre          0.879765   1989      1.39  27199.4\n",
       "   7 │       2350  livre          0.786955   1918      0.68    195.953\n",
       "   8 │       1050  pesos          0.618085   2013      1.63  84050.1\n",
       "   9 │       1050  dollars        1.23966    1962      1.12   2419.41\n",
       "  10 │       2050  dollars        1.47138    1994      1.44  58738.7"
      ]
     },
     "execution_count": 24,
     "metadata": {},
     "output_type": "execute_result"
    }
   ],
   "source": [
    "@transform df cost = :squarefoot ^ :yrfactor - :hiddenquality / 10"
   ]
  },
  {
   "cell_type": "code",
   "execution_count": null,
   "id": "comparative-stations",
   "metadata": {},
   "outputs": [],
   "source": []
  }
 ],
 "metadata": {
  "@webio": {
   "lastCommId": null,
   "lastKernelId": null
  },
  "kernelspec": {
   "display_name": "Julia 1.6.0",
   "language": "julia",
   "name": "julia-1.6"
  },
  "language_info": {
   "file_extension": ".jl",
   "mimetype": "application/julia",
   "name": "julia",
   "version": "1.6.0"
  }
 },
 "nbformat": 4,
 "nbformat_minor": 5
}
